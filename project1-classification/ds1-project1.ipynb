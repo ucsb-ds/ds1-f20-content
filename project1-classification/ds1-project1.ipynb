{
 "cells": [
  {
   "cell_type": "markdown",
   "metadata": {},
   "source": [
    "# UCSB DS1 FINAL PROJECT\n",
    "\n",
    "## Draft due: Wednesday Dec 2, by the start of your lab.\n",
    "* Submit all files to Gradescope. Each section should have some attempt in it.\n",
    "* One or both partners should be in lab, prepared to present/discuss the report with the mentors/classmates.\n",
    "\n",
    "## Due Date:  Friday Dec 4, 9PM\n",
    "* Final project files are due on Gradescope."
   ]
  },
  {
   "cell_type": "markdown",
   "metadata": {},
   "source": [
    "<span style=\"color:red\">Carefully read and follow <b>all guidelines</b> provided below.</span>"
   ]
  },
  {
   "cell_type": "markdown",
   "metadata": {},
   "source": [
    "## About the Project\n",
    "This project is an opportunity for you to put all that you have learned in this course so far. Think of this project as a step towards building your portfolio that showcases your work, skills, and interests. \n",
    "\n",
    "The following two resources provide helpful guidelines for how to approach the project and structure your write-up:\n",
    "* *A Data Science Project Style Guide from Dataquest*: https://www.dataquest.io/blog/data-science-project-style-guide/\n",
    "* *Building a data science portfolio: Storytelling with data*: https://www.dataquest.io/blog/data-science-portfolio-project/\n",
    "\n",
    "Your task is to conduct a start-to-finish analysis of a real dataset with a specific focus on **classification**.\n",
    "\n",
    "You will need to use many of the skills we have learned over the quarter: from manipulating data and exploratory data analysis (EDA), to running classification, explaining your results and using carefully crafted visualizations.  You should present your results in a clear and concise manner. \n",
    "\n",
    "You should submit the following files:\n",
    "1. a complete jupyter notebook with all of your analyses\n",
    "1. all data files necessary to run your notebook (note the file type and size limit listed below)\n",
    "\n",
    "You can work individually or in a pair."
   ]
  },
  {
   "cell_type": "markdown",
   "metadata": {},
   "source": [
    "## Dataset, Questions of Interest, and Exploratory Analysis\n",
    "\n",
    "Note that in this project, we are specifically focusing on **classification**, which means that you will be trying to assign a categorical **binary** label to the data, based on the nearest-neighbor classifier that we covered in Labs 7 and 8. \n",
    "\n",
    "Here's a list of a handful of datasets that might make for interesting projects: you can find the links and descriptions in [this file](https://github.com/ucsb-ds/ds100-s20-content/blob/master/final-project/datasets.md).\n",
    "\n",
    "Use this list as a starting point. If you can find additional data related to your project, you should feel free to use it, **making sure to cite and link to the _source_ of the data CSV file**. \n",
    "\n",
    "Look over these datasets or find a different one, and decide which one is most interesting to you (and your project partner). Identify which categorical label will you be using in this dataset.\n",
    "\n",
    "**IMPORTANT**: When selecting the dataset, make sure that **the total file size of the CSV does not exceed 200Mb**.\n"
   ]
  },
  {
   "cell_type": "markdown",
   "metadata": {},
   "source": [
    "# The Final Project Report Structure\n",
    "\n",
    "Each group submits **one** project notebook -- if you are working in a pair, **make sure to add your partner to your group on Gradescope**.\n",
    "\n",
    "Before submitting your final notebook version, please, **delete this and all the instruction cells above**.\n",
    "\n",
    "The project must be structured as follows:"
   ]
  },
  {
   "cell_type": "markdown",
   "metadata": {},
   "source": [
    "# PROJECT TITLE GOES HERE"
   ]
  },
  {
   "cell_type": "markdown",
   "metadata": {},
   "source": [
    "<span style=\"color:blue\">\n",
    "<h2> Names: Partner 1 (and optionally Partner 2) </h2>\n",
    "</span>"
   ]
  },
  {
   "cell_type": "markdown",
   "metadata": {},
   "source": [
    "# Abstract (100 words or more)\n",
    "\n",
    "One paragraph that briefly summarizes \n",
    "* the problem you addressed, \n",
    "* questions of interest, \n",
    "* the data, \n",
    "* findings and key results, \n",
    "* conclusion(s)."
   ]
  },
  {
   "cell_type": "markdown",
   "metadata": {},
   "source": [
    "# Introduction (200 words or more)\n",
    "\n",
    "In this section you should describe \n",
    "1. the primary goal(s) or question(s) that your project addresses, i.e., what are you trying to classify? what are your Questions of Interest?\n",
    "1. the motivation for your project, i.e., why your readers should be interested?\n",
    "1. the relevant background of your topic, including the explanation of any relevant terms;\n",
    "1. the dataset you are using to answer your question. Here, you should address why this dataset is appropriate for answering your question. "
   ]
  },
  {
   "cell_type": "markdown",
   "metadata": {},
   "source": [
    "# Data and EDA\n",
    "\n",
    "Load the data, provide the references to it.\n",
    "\n",
    "Reflect on the ethical considerations behind the dataset.\n",
    "\n",
    "Examine the different columns, describe what the values mean and whether the different classes are balanced. Draw visualizations and comment on whether there might be any issues. At the end of the exploration, explain how/why you selected the relevant attributes/variables that you will use in your project.\n",
    "\n",
    "## Data Source and Ethics\n",
    "\n",
    "* Cite and state the source of your data - it should be publicly accessible. Provide a link to the CSV file."
   ]
  },
  {
   "cell_type": "markdown",
   "metadata": {},
   "source": [
    "## Ethical Considerations\n",
    "* Think about the **ethical considerations** behind the dataset.\n",
    "    + Who collected this dataset and why?\n",
    "    + Can the analysis of this dataset cause any harm to those represented in the dataset? To others?\n",
    "    + Who or what is represented in the data? Is someone or something over-represented? Who or what is not represented in the data?\n",
    "    + Are there other potential ethical issues?"
   ]
  },
  {
   "cell_type": "markdown",
   "metadata": {},
   "source": [
    "## Relevant Attributes\n",
    "\n",
    "* *Briefly* describe the relevant attributes/variables that you will use in your project. \n",
    "    * Are there missing data, and if so, what values are missing? How do you know?\n",
    "    * What are you trying to classify? \n",
    "        + What attribute will you use?\n",
    "        + If that variable is coded numerically, explain how the numbers match to the class (e.g., what do 0 and 1 mean in the context of your problem?).\n",
    "    * What attributes are you going to use in your classification? Why did you select them?\n",
    "    * Did you do any preprocessing, cleaning, or transformations on the original variables?     "
   ]
  },
  {
   "cell_type": "markdown",
   "metadata": {},
   "source": [
    "## EDA\n",
    "\n",
    "Exploratory plots of the data and numerical summaries are essential in beginning any analysis. At this stage, scatterplots, line plots, bar graphs, histograms, etc. can give you a sense of relationships that exist between relevant variables. \n",
    "\n",
    "You should comment on your findings, particularly if there are interesting or counterintuitive observations to be made."
   ]
  },
  {
   "cell_type": "markdown",
   "metadata": {},
   "source": [
    "# Classification\n",
    "\n",
    "Run the steps that you need to set up the classification."
   ]
  },
  {
   "cell_type": "markdown",
   "metadata": {},
   "source": [
    "## Training and Testing\n",
    "\n",
    "Explain how you split your dataset."
   ]
  },
  {
   "cell_type": "markdown",
   "metadata": {},
   "source": [
    "## Classifying X\n",
    "\n",
    "X stands for whatever you were trying to classify.\n",
    "\n",
    "Train your classifier.\n",
    "\n",
    "Test how well it is working. Report your accuracy.\n"
   ]
  },
  {
   "cell_type": "markdown",
   "metadata": {},
   "source": [
    "# Analysis, Results and Interpretation\n",
    "\n",
    "* Provide an interpretation of your results: What do your results mean for the questions you were trying to answer?\n",
    "    + Did you achieve your goal? If not, why? \n",
    "    + What were some challenges and lessons you learned from them? \n",
    "    \n",
    "* After conducting the analysis, you should give concrete (i.e. data-specific), accurate and complete interpretations of your results.\n",
    "Put your results into context.  What are the set of conclusions that could be drawn from your results?\n",
    "\n",
    "* Discuss any ethical issues surrounding your analysis (2 paragraphs).  \n",
    "    * What effects (positive/negative) could your results have? \n",
    "    * Who is it likely to affect? \n",
    "    * How is it likely to affect them? "
   ]
  },
  {
   "cell_type": "markdown",
   "metadata": {},
   "source": [
    "# Conclusions and Future Work (about 200 words)\n",
    "\n",
    "In this section you should summarize your findings in clearly understandable, non-technical terms. What is the main message produced by your analysis? There may also be additional questions that arise, problems you encounter, or possible extensions of your analysis that could be addressed here. \n",
    "\n",
    "  + What were your primary conclusions and how do your results support these conclusions? \n",
    "  + What extensions or future work would you recommend? \n",
    "\n",
    "Include any final comments and thoughts about your project. For example, do you trust your results? How general are your results, to what situations do they apply? Add any other comments that are relevant."
   ]
  },
  {
   "cell_type": "markdown",
   "metadata": {},
   "source": [
    "----\n",
    "\n",
    "# Final Project Rubric\n",
    "\n",
    "- **Title page (2 pts)**\n",
    "  + An informative project title and the name(s) of the author(s)\n",
    "\n",
    "- **Abstract (5 pts)**\n",
    "  + One paragraph that briefly summarizes the problem that was addressed, questions of interest, the data, findings and key results, and conclusions. \n",
    "\n",
    "\n",
    "- **Introduction**\n",
    " + **(3 pts)** Clearly introduced the primary goal(s) or question(s) that the project addresses.\n",
    " + **(3 pts)** Included a compelling motivation for the project.\n",
    " + **(3 pts)** Included relevant background/terms need to understand the project.\n",
    " + **(3 pts)** Briefly described the dataset used to answer the question(s). Addressed why it is appropriate for answering the question. \n",
    "\n",
    "\n",
    "- **Data and EDA**\n",
    "  + **(3 pts)** Where did the data come from? Matches the requested type/size?\n",
    "  + **(5 pts)** Ethical Considerations are addressed.\n",
    "  + **(10 pts)** Described the relevant variables and their values in the dataset.  \n",
    "  + **(10 pts)** EDA includes informative summaries, visualizations. Explanations explain observations and highlight the relationships between relevant variables. \n",
    "\n",
    "\n",
    "- **Classification (20 pts)**\n",
    "  + Correctly set up the classification, trained, tested, and evaluated the classifier.\n",
    "  \n",
    "  \n",
    "- **Results (10 pts)**\n",
    "  + Appropriate analysis and the interpretation of the results. If appropriate, addressed the ethical issues regarding the analysis.\n",
    "  \n",
    "  \n",
    "- **Conclusions (10 pts)**\n",
    "  + Clearly understandable non-technical conclusion that shows how the results support these conclusions.\n",
    "  + Included potential future work recommendations.\n",
    "  \n",
    "  \n",
    "- **Overall impression (15 pts)**\n",
    "  + **(5 pts)** General coherence, clarity, sufficient referencing and overall effort. \n",
    "  + **(5 pts)** Include references for **any and all resources** used for your project that are outside the scope of what we used in this class: data sources, books, journal papers, online resources (which include similar project/analysis done by others), etc.  _Failure to cite your references can be grounds for an academic integrity violation case._ Make sure that you read and follow the policies regarding Academic Integrity: https://studentconduct.sa.ucsb.edu/academic-integrity. The Office of Student Conduct lists actions considered to be plagiarism, cheating, or other forms of academic theft, and students’ responsibilities. You are required to read the policies and to abide by them.\n",
    "  + **(5 pts)** Python notebook runs without errors, using only the material that we used in this class (or is listed in our textbook).  _More points can be deducted if the notebook does not comply to the provided format, if there is a lack of evidence of sufficient work, or if the results presented in the report cannot be reproduced using the notebook._"
   ]
  },
  {
   "cell_type": "markdown",
   "metadata": {},
   "source": [
    "## Submission\n",
    "\n",
    "You are required to submit the following files to Gradescope:\n",
    "\n",
    "1.  Submit a complete jupyter notebook with all of your analyses.  (You can use this jupyter notebook as a template: remove the instructions, replacing them with your analysis).  **We should be able to reproduce _all_ your results and visualizations by running your notebook.**\n",
    "\n",
    "3. Include all data files necessary to run your notebook (ensuring that the files are in the correct file type and are below the requested file size limit).\n",
    "\n",
    "\n",
    "Before submitting your **final notebook**: delete the cells above the title of the project that provide the instructions and delete the rubric and this submission instructions cell.\n",
    "\n",
    "Before you submit the notebook, make sure that you \n",
    "* **save it** \n",
    "* select from the top menu `Kernel -> Restart & Clear Output` \n",
    "* followed by `Cell -> Run All`. \n",
    "\n",
    "Verify that all computations execute correctly. **There should be no errors when we run your notebook.**"
   ]
  },
  {
   "cell_type": "markdown",
   "metadata": {},
   "source": [
    "<span style=\"color:red\">Carefully read and follow <b>all guidelines</b> provided above.</span>"
   ]
  }
 ],
 "metadata": {
  "kernelspec": {
   "display_name": "Python 3",
   "language": "python",
   "name": "python3"
  },
  "language_info": {
   "codemirror_mode": {
    "name": "ipython",
    "version": 3
   },
   "file_extension": ".py",
   "mimetype": "text/x-python",
   "name": "python",
   "nbconvert_exporter": "python",
   "pygments_lexer": "ipython3",
   "version": "3.8.0"
  }
 },
 "nbformat": 4,
 "nbformat_minor": 2
}
