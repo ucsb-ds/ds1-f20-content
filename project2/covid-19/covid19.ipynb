{
 "cells": [
  {
   "cell_type": "markdown",
   "metadata": {},
   "source": [
    "# Analyzing COVID-19 data"
   ]
  },
  {
   "cell_type": "code",
   "execution_count": 1,
   "metadata": {},
   "outputs": [],
   "source": [
    "import numpy as np\n",
    "from datascience import *\n",
    "\n",
    "# These lines set up graphing capabilities.\n",
    "import matplotlib\n",
    "%matplotlib inline\n",
    "import matplotlib.pyplot as plt\n",
    "plt.style.use('fivethirtyeight')\n",
    "import warnings\n",
    "warnings.simplefilter('ignore', FutureWarning)"
   ]
  },
  {
   "cell_type": "markdown",
   "metadata": {},
   "source": [
    "Given that we are in the midst of the global pandemic, you have a chance to use this open-ended project to explore and analyze the available datasets for the COVID-19 data.\n",
    "\n",
    "Your project should demonstrate your ability to use the fundamental Data Science concepts:\n",
    "* Basic operations on tables: loading data, extracting columns, extracting rows\n",
    "* Selecting rows that match certain criteria, composite queries, method chaining, join / aggregate\n",
    "* Working with Functions, using `apply`\n",
    "* Computing summary statistics\n",
    "* Exploratory Data Analysis (EDA), creating visualizations (e.g., scatter, histogram)\n",
    "* Analysis and critical thinking with a special attention to biases and fallacies, ethics and fairness\n",
    "\n",
    "You don't have to include all of the above concepts, but the more that you are able to use in your analysis, the better."
   ]
  },
  {
   "cell_type": "markdown",
   "metadata": {},
   "source": [
    "## Asking the right questions\n",
    "\n",
    "What interesting questions would you like to answer using the available data?\n",
    "\n",
    "When the website **Rt COVID-19** <https://rt.live> was created, its main goal was to visualize the effect of the lockdown measures (or the lack of thereof) on the number of cases in the various states.\n",
    "\n",
    "Similarly, you should write down all questions that you want to find the answers to and then select a few of them to explore in this project. You goal could be to reproduce some of the visualizations you are seeing in the news or you can explore/visualize the impact of the virus on the different communities, which would require you to find and bring in the additional datasets. If you use them, **remember to include the link to the source and the actual data file** with your submission."
   ]
  },
  {
   "cell_type": "markdown",
   "metadata": {},
   "source": [
    "# Datasets\n",
    "\n",
    "Here are a few starting points:\n",
    "\n",
    "* Coronavirus disease 2019 (COVID-19) time series listing confirmed cases, reported deaths and reported recoveries. Data is disaggregated by country (and sometimes subregion): <https://github.com/datasets/covid-19>\n",
    "* Our World in Data: <https://github.com/owid/covid-19-data/tree/master/public/data>\n",
    "* HUMANITARIAN DATA EXCHANGE <https://data.humdata.org/dataset/novel-coronavirus-2019-ncov-cases>\n",
    "* 5 Datasets About COVID-19 you can Use Right Now <https://towardsdatascience.com/5-datasets-about-covid-19-you-can-use-right-now-46307b1406a>\n"
   ]
  },
  {
   "cell_type": "markdown",
   "metadata": {},
   "source": [
    "# Your Exploration / Future Work\n",
    "\n",
    "It's your turn. You now have a chance to experiment with everything that you have learned in this class so far. \n",
    "\n",
    "Feel free to use the `Insert` menu above to add as many extra cells as you need."
   ]
  },
  {
   "cell_type": "markdown",
   "metadata": {},
   "source": [
    "# Submitting your work\n",
    "\n",
    "Be sure to\n",
    "\n",
    "* save the notebook first (Save and Checkpoint from the File menu)\n",
    "* go up to the `Kernel` menu and select R`estart & Clear Output` (make sure the notebook is saved first, because otherwise, you will lose all your work!).\n",
    "* go to `Cell -> Run All`. Carefully look through your notebook and verify that all computations execute correctly. You should see no errors; if there are any errors, make sure to correct them before you submit the notebook.\n",
    "* go to `File -> Download as -> Notebook` and download the notebook to your own computer. (Please verify that it got saved as an .ipynb file.)\n",
    "* Upload the notebook to Gradescope. **If you used additional CSV files, remember to upload them with your notebook.** You can drag and drop both files or hold down Ctrl to click on multiple files when you are uploading them.\n"
   ]
  },
  {
   "cell_type": "code",
   "execution_count": null,
   "metadata": {},
   "outputs": [],
   "source": []
  }
 ],
 "metadata": {
  "kernelspec": {
   "display_name": "Python 3",
   "language": "python",
   "name": "python3"
  },
  "language_info": {
   "codemirror_mode": {
    "name": "ipython",
    "version": 3
   },
   "file_extension": ".py",
   "mimetype": "text/x-python",
   "name": "python",
   "nbconvert_exporter": "python",
   "pygments_lexer": "ipython3",
   "version": "3.8.0"
  }
 },
 "nbformat": 4,
 "nbformat_minor": 2
}
