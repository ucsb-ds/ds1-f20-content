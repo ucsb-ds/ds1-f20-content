{
 "cells": [
  {
   "cell_type": "code",
   "execution_count": null,
   "metadata": {
    "deletable": false,
    "editable": false
   },
   "outputs": [],
   "source": [
    "# Initialize Otter\n",
    "import otter\n",
    "grader = otter.Notebook()"
   ]
  },
  {
   "cell_type": "markdown",
   "metadata": {},
   "source": [
    "# Fossil Fuel Consumption"
   ]
  },
  {
   "cell_type": "code",
   "execution_count": 20,
   "metadata": {},
   "outputs": [],
   "source": [
    "import numpy as np\n",
    "from datascience import *\n",
    "\n",
    "# These lines set up graphing capabilities.\n",
    "import matplotlib\n",
    "%matplotlib inline\n",
    "import matplotlib.pyplot as plt\n",
    "plt.style.use('fivethirtyeight')\n",
    "import warnings\n",
    "warnings.simplefilter('ignore', FutureWarning)"
   ]
  },
  {
   "cell_type": "markdown",
   "metadata": {},
   "source": [
    "## 1. Introduction\n",
    "\n",
    "In this assignment, you will be investigating monthly fossil fuel consumption in the United States from January 2001 to July 2020. This type of data is called a time series. Time series data consists of a series of observations recorded in time, where the order of the observations is crucial because they're dependent on the previous observations. \n",
    "\n",
    "In our case, we want to investigate monthly fossil fuel consumption because we want to know if the COVID-19 lockdown affected people's decisions to consume/use fossil fuels and how much effect it had over the months. For example, since the lockdown, people may feel scared to drive outside and thus, use less fuel.\n",
    "\n",
    "In our dataset, fossil fuel consumption includes coal, natural gas, and petroleum/petroleum products. The units are in quadrillion Btu, or British thermal unit. A British thermal unit is the amount of heat required to raise one pound of water by 1 degree Fahrenheit. \n",
    "\n",
    "_Acknowledgement: This assignment was originally developed and contributed by Angel Chen, the UCSB Data Science Fellow (2020-21 cohort)._"
   ]
  },
  {
   "cell_type": "markdown",
   "metadata": {
    "deletable": false,
    "editable": false
   },
   "source": [
    "**Question 1.1.** Read in \"fossil_fuel_consumption.csv\" using `datascience.tables.Table.read_table` and store the table in a variable called \"table\". \n",
    "\n",
    "The data is pulled directly from the U.S. Energy Information Administration (EIA) here: https://www.eia.gov/totalenergy/data/browser/index.php?tbl=T01.01#/?f=M&start=200001&end=202007&charted=11. \n",
    "Additional information about how these data were collected is available here: https://www.eia.gov/totalenergy/data/monthly/pdf/sec1.pdf.\n",
    "\n",
    "<!--\n",
    "BEGIN QUESTION\n",
    "name: q1_1\n",
    "manual: false\n",
    "-->"
   ]
  },
  {
   "cell_type": "code",
   "execution_count": 21,
   "metadata": {},
   "outputs": [],
   "source": [
    "table = ..."
   ]
  },
  {
   "cell_type": "markdown",
   "metadata": {},
   "source": [
    "First, inspect the table and its rows and columns. There should be 7704 rows and 6 columns. Below is a brief summary of the data contained in each column:\n",
    "\n",
    "**MSN**: Mnemonic Series Names, the name for the category of data. In this lab, we are interested in the rows with \"FFTCBUS\" which stands for \"Total Fossil Fuel Consumption\". There are other categories in this big dataset, such as total fossil fuel production, nuclear electric power production, but we can ignore those categories for the purpose of this lab.\n",
    "\n",
    "**YYYYMM**: The year and month when the value was recorded. YYYY is the 4-digit year while MM is the 2-digit month.\n",
    "\n",
    "**Value**: The recorded value for the category we're interested in, for that specific year and month.\n",
    "\n",
    "**Column Order**: An integer to represent which category the value belongs to, out of the 12 total categories.\n",
    "\n",
    "**Description**: A description of the category. \n",
    "\n",
    "**Unit**: The unit for the values."
   ]
  },
  {
   "cell_type": "markdown",
   "metadata": {
    "deletable": false,
    "editable": false
   },
   "source": [
    "**Question 1.2.** As an example, print out the row at index 5136. This is the row where the Total Fossil Fuels Consumptions category starts. Remember that \"FFTCBUS\" stands for \"Total Fossil Fuel Consumption.\"\n",
    "\n",
    "<!--\n",
    "BEGIN QUESTION\n",
    "name: q1_2\n",
    "manual: false\n",
    "-->"
   ]
  },
  {
   "cell_type": "code",
   "execution_count": 22,
   "metadata": {},
   "outputs": [],
   "source": [
    "..."
   ]
  },
  {
   "cell_type": "code",
   "execution_count": null,
   "metadata": {
    "deletable": false,
    "editable": false
   },
   "outputs": [],
   "source": [
    "grader.check(\"q1_2\")"
   ]
  },
  {
   "cell_type": "markdown",
   "metadata": {},
   "source": [
    "You should see that measurements start on \"194913\" with total fossil fuel consumption at 28.9884 quadrillion Btu. What does this mean? There is no 13th month. Right, this is because \"13\" here stands for the entire year. The EIA did not record monthly total fossil fuel consumption for 1949, they only recorded the annual consumption for that year. So this row tells us that in 1949, the annual total fossil fuel consumption is 28.9884 quadrillion Btu.\n",
    "\n",
    "Since we are investigating **monthly** consumption, we are not interested in dates that end in \"13\" in the \"YYYYMM\" column because those stand for **annual** values. We will need to wrangle the dataset a bit to get the exact dates/values we're interested in. You will see that in this dataset, for the years that do include monthly data, an annual value will appear after December, denoted by a date ending in \"13\"."
   ]
  },
  {
   "cell_type": "markdown",
   "metadata": {},
   "source": [
    "## 2. Data Manipulation"
   ]
  },
  {
   "cell_type": "markdown",
   "metadata": {
    "deletable": false,
    "editable": false
   },
   "source": [
    "**Question 2.1.** For our purposes, we will only be looking at data from January 2001 to July 2020 and from the total fossil fuel consumption category, marked as, \"FFTCBUS\". First, filter out all the rows that are from the fossil fuel consumption category, marked as, \"FFTCBUS\". Save your results in a new table, \"table2\".\n",
    "\n",
    "<!--\n",
    "BEGIN QUESTION\n",
    "name: q2_1\n",
    "manual: false\n",
    "-->"
   ]
  },
  {
   "cell_type": "code",
   "execution_count": 27,
   "metadata": {},
   "outputs": [],
   "source": [
    "table2 = ...\n",
    "table2"
   ]
  },
  {
   "cell_type": "markdown",
   "metadata": {},
   "source": [
    "Now filter out all the rows that contain data from January 2001 to July 2020. This should be called \"table3\". Inspect your new table to check that you have the correct rows. You should have 254 rows and 6 columns."
   ]
  },
  {
   "cell_type": "code",
   "execution_count": 28,
   "metadata": {},
   "outputs": [],
   "source": [
    "table3 = ..."
   ]
  },
  {
   "cell_type": "markdown",
   "metadata": {
    "deletable": false,
    "editable": false
   },
   "source": [
    "**Question 2.2.** Print out the dates in the \"YYYYMM\" column. Notice that you have rows with the dates \"200113\" and \"200213\". Remember that these two rows contain the annual consumption and is thus, not needed in our table. Can you figure out a way to drop every 13th row (all the rows that contain dates ending in \"13\") from your table? \n",
    "\n",
    "*Hint*: `Table.exclude` and `numpy.arange` might be helpful, the documentation is here: \n",
    "* http://data8.org/datascience/tables.html\n",
    "* https://numpy.org/doc/stable/reference/generated/numpy.arange.html.\n",
    "\n",
    "Print out the dates in the \"YYYYMM\" column again just to check that all the dates ending in \"13\" are gone from your table.\n",
    "\n",
    "<!--\n",
    "BEGIN QUESTION\n",
    "name: q2_2\n",
    "manual: false\n",
    "-->"
   ]
  },
  {
   "cell_type": "code",
   "execution_count": 29,
   "metadata": {},
   "outputs": [],
   "source": [
    "import numpy as np\n",
    "\n",
    "\n",
    "table4 = ...\n"
   ]
  },
  {
   "cell_type": "markdown",
   "metadata": {},
   "source": [
    "## 3. Plotting the data"
   ]
  },
  {
   "cell_type": "markdown",
   "metadata": {
    "deletable": false,
    "editable": false
   },
   "source": [
    "<!-- BEGIN QUESTION -->\n",
    "\n",
    "**Question 3.1.** Let's visualize our data and plot a line chart using [`datascience.tables.Table.plot`](http://data8.org/datascience/_autosummary/datascience.tables.Table.plot.html#datascience.tables.Table.plot) with \"YYYYMM\" on the x-axis and \"Value\" on the y-axis.\n",
    "\n",
    "<!--\n",
    "BEGIN QUESTION\n",
    "name: q3_1\n",
    "manual: true\n",
    "-->"
   ]
  },
  {
   "cell_type": "code",
   "execution_count": 30,
   "metadata": {},
   "outputs": [],
   "source": [
    "# create your plot here\n",
    "..."
   ]
  },
  {
   "cell_type": "markdown",
   "metadata": {
    "deletable": false,
    "editable": false
   },
   "source": [
    "<!-- END QUESTION -->\n",
    "\n",
    "<!-- BEGIN QUESTION -->\n",
    "\n",
    "**Question 3.2.** What do you notice about your graph? Does it seem strange to you? Record your initial observations here.\n",
    "\n",
    "<!--\n",
    "BEGIN QUESTION\n",
    "name: q3_2\n",
    "manual: true\n",
    "-->"
   ]
  },
  {
   "cell_type": "markdown",
   "metadata": {},
   "source": [
    "_Type your answer here, replacing this text._"
   ]
  },
  {
   "cell_type": "markdown",
   "metadata": {},
   "source": [
    "<!-- END QUESTION -->\n",
    "\n",
    "\n",
    "\n",
    "Are you able to tweak the parameters in the `plot` method to make the graph look better? If so, include your attempt below."
   ]
  },
  {
   "cell_type": "code",
   "execution_count": 31,
   "metadata": {},
   "outputs": [],
   "source": [
    "# updated plot"
   ]
  },
  {
   "cell_type": "markdown",
   "metadata": {},
   "source": [
    "## 4. Creating a time series dataframe"
   ]
  },
  {
   "cell_type": "markdown",
   "metadata": {
    "deletable": false,
    "editable": false
   },
   "source": [
    "**Question 4.1.** The \"YYYYMM\" column has \"200101\", \"200102\", etc. We know that they stand for dates, but Python actually sees them as regular numbers in our table. In order to properly visualize our data, we need to convert our table into an actual time series. Even though it is beyond the scope of this course, pandas dataframes provide an easy way to handle time series data. First, convert your table into a dataframe called \"my_df\" using `datascience.tables.Table.to_df`. \n",
    "\n",
    "<!--\n",
    "BEGIN QUESTION\n",
    "name: q4_1\n",
    "manual: false\n",
    "-->"
   ]
  },
  {
   "cell_type": "code",
   "execution_count": 32,
   "metadata": {},
   "outputs": [],
   "source": [
    "my_df = ..."
   ]
  },
  {
   "cell_type": "markdown",
   "metadata": {},
   "source": [
    "To make a time series dataframe, we need to convert the dates in \"YYYYMM\" into timestamps using pandas. You can do so by running the code below. Here, we are formatting the first 4 digits of \"YYYYMM\" as the year and the last 2 digits as the month."
   ]
  },
  {
   "cell_type": "code",
   "execution_count": 33,
   "metadata": {},
   "outputs": [],
   "source": [
    "import pandas as pd\n",
    "my_df[\"YYYYMM\"] = pd.to_datetime(my_df[\"YYYYMM\"], format='%Y%m')"
   ]
  },
  {
   "cell_type": "markdown",
   "metadata": {
    "deletable": false,
    "editable": false
   },
   "source": [
    "**Question 4.2.** Print out a snippet of your dataframe. Examine the \"YYYYMM\" column. Now the date should be formatted like YYYY-MM-DD. Please ignore the days. The days are not supposed to show up but they do anyway because it is a known bug in to_datetime().\n",
    "\n",
    "<!--\n",
    "BEGIN QUESTION\n",
    "name: q4_2\n",
    "manual: false\n",
    "-->"
   ]
  },
  {
   "cell_type": "code",
   "execution_count": 34,
   "metadata": {},
   "outputs": [],
   "source": [
    "..."
   ]
  },
  {
   "cell_type": "markdown",
   "metadata": {},
   "source": [
    "Since we are working with a time series, it is helpful to set the date as the index instead of ordered numbers. This will help us solve our issue from before, where our plot looked strange. We will use the pandas dataframe's set_index() method to set the index to \"YYYYMM\". Now that our dataframe's index is a DatetimeIndex, we can extract the months and years into new columns. We make a \"Month\" and \"Year\" column in our dataframe."
   ]
  },
  {
   "cell_type": "code",
   "execution_count": 35,
   "metadata": {},
   "outputs": [],
   "source": [
    "my_df = my_df.set_index(\"YYYYMM\") #set the date as the index\n",
    "my_df[\"Year\"] = my_df.index.year #making a Year column\n",
    "my_df[\"Month\"] = my_df.index.month #making a Month column"
   ]
  },
  {
   "cell_type": "markdown",
   "metadata": {},
   "source": [
    "## 5. Plotting the time series"
   ]
  },
  {
   "cell_type": "markdown",
   "metadata": {},
   "source": [
    "**Question 5.1.** Now we are ready to plot our time series with extra help from Seaborn, a data visualization library, so that our plots look nice. We plot the \"Value\" column of our dataframe using the dataframe's plot() method. (Note the difference compared to the Table.plot that we have above.)"
   ]
  },
  {
   "cell_type": "code",
   "execution_count": 36,
   "metadata": {},
   "outputs": [],
   "source": [
    "import seaborn as sns \n",
    "sns.set(rc={'figure.figsize':(16, 4)}) #setting the appropriate size of our plot\n",
    "\n",
    "my_df[\"Value\"].plot()"
   ]
  },
  {
   "cell_type": "markdown",
   "metadata": {
    "deletable": false,
    "editable": false
   },
   "source": [
    "<!-- BEGIN QUESTION -->\n",
    "\n",
    "Let's examine our plot closely. We all know that COVID-19 affected the US starting around early April 2020. Can you see the huge dip in the plot during this month? You should notice that there is an apparent huge DECREASE in fossil fuel consumption for April 2020. \n",
    "\n",
    "Does it make sense? What were the reasons why fossil fuel consumption decreased a lot in April 2020? Do you have citations to back up your guesses?\n",
    "\n",
    "<!--\n",
    "BEGIN QUESTION\n",
    "name: q5_1\n",
    "manual: true\n",
    "-->"
   ]
  },
  {
   "cell_type": "markdown",
   "metadata": {},
   "source": [
    "_Type your answer here, replacing this text._"
   ]
  },
  {
   "cell_type": "markdown",
   "metadata": {
    "deletable": false,
    "editable": false
   },
   "source": [
    "<!-- END QUESTION -->\n",
    "\n",
    "<!-- BEGIN QUESTION -->\n",
    "\n",
    "**Question 5.2.** However, do you also notice the natural dips and peaks in our plot that occur every year? For example, you can see that people tend to use more fuel during certain months like December and January. These dips/peaks each year are a natural part of the data because people just tend to use more or less fuel during these certain months. This is called seasonality in time series analysis.\n",
    "\n",
    "Can you think of a few reasons why these dips/peaks occur? \n",
    "\n",
    "<!--\n",
    "BEGIN QUESTION\n",
    "name: q5_2\n",
    "manual: true\n",
    "-->"
   ]
  },
  {
   "cell_type": "markdown",
   "metadata": {},
   "source": [
    "_Type your answer here, replacing this text._"
   ]
  },
  {
   "cell_type": "markdown",
   "metadata": {},
   "source": [
    "<!-- END QUESTION -->\n",
    "\n",
    "\n",
    "\n",
    "We want to know: is the big dip at April 2020 significantly different from the seasonal variation in the data? How significant is it? \n",
    "\n",
    "At first glance, we can tell that that huge dip is obviously not a part of the typical seasonal variation. But how can we investigate this further? One way is to plot boxplots grouped by months! We plot 12 boxplots, one for each month, using Seaborn's `sns.boxplot()`. Since we already made a \"Month\" column, this is easy to do."
   ]
  },
  {
   "cell_type": "code",
   "execution_count": 37,
   "metadata": {
    "scrolled": true
   },
   "outputs": [],
   "source": [
    "sns.boxplot(data=my_df, x=\"Month\", y=\"Value\").set_title(\"Boxplots for each month over 2001-2020\")"
   ]
  },
  {
   "cell_type": "markdown",
   "metadata": {
    "deletable": false,
    "editable": false
   },
   "source": [
    "<!-- BEGIN QUESTION -->\n",
    "\n",
    "**Question 5.3.** Examine the boxplots above. What does each boxplot represent? What does the \"Value\" on the y-axis represent?\n",
    "\n",
    "<!--\n",
    "BEGIN QUESTION\n",
    "name: q5_3\n",
    "manual: true\n",
    "-->"
   ]
  },
  {
   "cell_type": "markdown",
   "metadata": {},
   "source": [
    "_Type your answer here, replacing this text._"
   ]
  },
  {
   "cell_type": "markdown",
   "metadata": {
    "deletable": false,
    "editable": false
   },
   "source": [
    "<!-- END QUESTION -->\n",
    "\n",
    "<!-- BEGIN QUESTION -->\n",
    "\n",
    "**Question 5.4.** Look back on your dataframe. What are the total fossil fuel consumption values for April, May, June, and July 2020? Can you spot them on your boxplots? You should be able to see that these 4 data points show up as outliers on our boxplots, marked by a diamond marker. \n",
    "\n",
    "Can you say something about fuel consumption in April 2020 compared to previous years' consumptions in April? Do the same for May, June, and July. Think about the seasonal variation and how this relates to the outliers you see.\n",
    "\n",
    "What does this plot say about people's willingness to self-isolate and respect COVID-19 lockdowns/quarantines as time passes from April to July 2020? It may help to keep in mind the various reasons we use fossil fuels, and also remember that correlation does not equal causation. \n",
    "\n",
    "<!--\n",
    "BEGIN QUESTION\n",
    "name: q5_4\n",
    "manual: true\n",
    "-->"
   ]
  },
  {
   "cell_type": "markdown",
   "metadata": {},
   "source": [
    "_Type your answer here, replacing this text._"
   ]
  },
  {
   "cell_type": "markdown",
   "metadata": {},
   "source": [
    "<!-- END QUESTION -->\n",
    "\n",
    "\n",
    "\n",
    "**Question 5.5.** For fun, we can also plot boxplots for each year. "
   ]
  },
  {
   "cell_type": "code",
   "execution_count": 38,
   "metadata": {},
   "outputs": [],
   "source": [
    "sns.boxplot(data=my_df, x=\"Year\", y=\"Value\").set_title(\"Boxplots for each year\")"
   ]
  },
  {
   "cell_type": "markdown",
   "metadata": {
    "deletable": false,
    "editable": false
   },
   "source": [
    "<!-- BEGIN QUESTION -->\n",
    "\n",
    "What interesting observations do you see from these boxplots? What might explain these variations? \n",
    "\n",
    "Remember to cite any outside sources that you consult / use as evidence for your answer.\n",
    "\n",
    "<!--\n",
    "BEGIN QUESTION\n",
    "name: q5_5\n",
    "manual: true\n",
    "-->"
   ]
  },
  {
   "cell_type": "markdown",
   "metadata": {},
   "source": [
    "_Type your answer here, replacing this text._"
   ]
  },
  {
   "cell_type": "markdown",
   "metadata": {},
   "source": [
    "<!-- END QUESTION -->\n",
    "\n",
    "\n",
    "\n",
    "# Your Exploration / Future Work\n",
    "\n",
    "It's your turn. You now have a chance to experiment with everything that you have learned in this class so far. \n",
    "\n",
    "Take a look at additional attributes that are given in this dataset and write down any other questions that you want to answer.  Then, give it your best shot at answering them.\n",
    "\n",
    "What other datasets could you bring in for additional exploration? If you found them, remember to include the link to the source and the data file with your submission.\n",
    "\n",
    "Feel free to use the `Insert` menu above to add as many extra cells as you need."
   ]
  },
  {
   "cell_type": "markdown",
   "metadata": {},
   "source": [
    "# Submitting your work\n",
    "\n",
    "Be sure to\n",
    "\n",
    "* save the notebook first (Save and Checkpoint from the File menu)\n",
    "* go up to the `Kernel` menu and select R`estart & Clear Output` (make sure the notebook is saved first, because otherwise, you will lose all your work!).\n",
    "* go to `Cell -> Run All`. Carefully look through your notebook and verify that all computations execute correctly. You should see no errors; if there are any errors, make sure to correct them before you submit the notebook.\n",
    "* go to `File -> Download as -> Notebook` and download the notebook to your own computer. (Please verify that it got saved as an .ipynb file.)\n",
    "* Upload the notebook to Gradescope. **If you used additional CSV files, remember to upload them with your notebook.** You can drag and drop both files or hold down Ctrl to click on multiple files when you are uploading them.\n"
   ]
  },
  {
   "cell_type": "code",
   "execution_count": null,
   "metadata": {},
   "outputs": [],
   "source": []
  },
  {
   "cell_type": "markdown",
   "metadata": {
    "deletable": false,
    "editable": false
   },
   "source": [
    "---\n",
    "\n",
    "To double-check your work, the cell below will rerun all of the autograder tests."
   ]
  },
  {
   "cell_type": "code",
   "execution_count": null,
   "metadata": {
    "deletable": false,
    "editable": false
   },
   "outputs": [],
   "source": [
    "grader.check_all()"
   ]
  },
  {
   "cell_type": "markdown",
   "metadata": {
    "deletable": false,
    "editable": false
   },
   "source": [
    "## Submission\n",
    "\n",
    "Make sure you have run all cells in your notebook in order before running the cell below, so that all images/graphs appear in the output. The cell below will generate a zip file for you to submit. **Please save before exporting!**"
   ]
  },
  {
   "cell_type": "code",
   "execution_count": null,
   "metadata": {
    "deletable": false,
    "editable": false
   },
   "outputs": [],
   "source": [
    "# Save your notebook first, then run this cell to export your submission.\n",
    "grader.export(\"fossil-fuel.ipynb\")"
   ]
  },
  {
   "cell_type": "markdown",
   "metadata": {},
   "source": [
    " "
   ]
  }
 ],
 "metadata": {
  "kernelspec": {
   "display_name": "Python 3",
   "language": "python",
   "name": "python3"
  },
  "language_info": {
   "codemirror_mode": {
    "name": "ipython",
    "version": 3
   },
   "file_extension": ".py",
   "mimetype": "text/x-python",
   "name": "python",
   "nbconvert_exporter": "python",
   "pygments_lexer": "ipython3",
   "version": "3.7.8"
  },
  "toc": {
   "base_numbering": 1,
   "nav_menu": {},
   "number_sections": true,
   "sideBar": true,
   "skip_h1_title": false,
   "title_cell": "Table of Contents",
   "title_sidebar": "Contents",
   "toc_cell": false,
   "toc_position": {},
   "toc_section_display": true,
   "toc_window_display": false
  }
 },
 "nbformat": 4,
 "nbformat_minor": 4
}
