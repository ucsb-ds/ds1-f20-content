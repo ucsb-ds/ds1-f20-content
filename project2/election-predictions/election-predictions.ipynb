{
 "cells": [
  {
   "cell_type": "code",
   "execution_count": null,
   "metadata": {
    "deletable": false,
    "editable": false
   },
   "outputs": [],
   "source": [
    "# Initialize Otter\n",
    "import otter\n",
    "grader = otter.Notebook()"
   ]
  },
  {
   "cell_type": "markdown",
   "metadata": {},
   "source": [
    "# A 2016 Election Analysis"
   ]
  },
  {
   "cell_type": "code",
   "execution_count": 4,
   "metadata": {},
   "outputs": [],
   "source": [
    "import numpy as np\n",
    "from datascience import *\n",
    "\n",
    "# These lines set up graphing capabilities.\n",
    "import matplotlib\n",
    "%matplotlib inline\n",
    "import matplotlib.pyplot as plt\n",
    "plt.style.use('fivethirtyeight')\n",
    "import warnings\n",
    "warnings.simplefilter('ignore', FutureWarning)"
   ]
  },
  {
   "cell_type": "markdown",
   "metadata": {},
   "source": [
    "In this assignment, you will be analyzing a dataset of polling data from the 2016 Presidential Election. If you follow politics, you may know that many polls strongly underestimated Donald Trump's performance in several key states, causing him to win the election despite many models showing it would be a Clinton victory. We will try to investigate and see if these errors are simple polling errors, or whether there were more serious miscalculations.\n",
    "\n",
    "This data was taken from FiveThirtyEight, a respected organization that focuses on statistical and social analysis to predict election outcomes. You can find the raw source of the data, as well as more information about the dataset, [here](https://www.kaggle.com/fivethirtyeight/2016-election-polls).\n",
    "\n",
    "_Acknowledgement: This assignment was originally developed and contributed by Leron Reznikov, the UCSB Data Science Fellow (2020-21 cohort)._"
   ]
  },
  {
   "cell_type": "markdown",
   "metadata": {
    "deletable": false,
    "editable": false
   },
   "source": [
    "Let's import the required libraries and load our dataset from 'presidential_polls.csv' into a variable called original_data.\n",
    "\n",
    "<!--\n",
    "BEGIN QUESTION\n",
    "name: q0\n",
    "manual: false\n",
    "-->"
   ]
  },
  {
   "cell_type": "code",
   "execution_count": 5,
   "metadata": {},
   "outputs": [],
   "source": [
    "original_data = ..."
   ]
  },
  {
   "cell_type": "markdown",
   "metadata": {},
   "source": [
    "Looking at the columns, there are many different features of this data. Luckily, we are only interested in a few of them:\n",
    "* forecastdate: The date the forecast was uploaded to FiveThirtyEight\n",
    "* adjpoll_clinton / adjpoll_trump: the adjusted/calculated percentage of people voting for each candidate. Since each poll was random, it likely oversurveyed people of different demographics - for example, 80% of people asked could have been members of Party A, when it is known that the true population proporion is 50%. Adjusting the average allows the bias to be removed and gives a more accurate prediction.\n",
    "* state: the state where the entry was polled\n",
    "* grade: The grade that the pollster has on FiveThirtyEight, ranging from A to F with +/-"
   ]
  },
  {
   "cell_type": "code",
   "execution_count": 6,
   "metadata": {},
   "outputs": [],
   "source": [
    "original_data.labels"
   ]
  },
  {
   "cell_type": "markdown",
   "metadata": {},
   "source": [
    "## Question 1 - A General Focus on Wisconsin\n"
   ]
  },
  {
   "cell_type": "markdown",
   "metadata": {
    "deletable": false,
    "editable": false
   },
   "source": [
    "\n",
    "### 1.1 - Load the data\n",
    "Let's spend some time looking at data from Wisconsin - one of the more surprising results of the election. Let's load all polls that took place in Wisconsin into a variable called wisconsin.\n",
    "\n",
    "<!--\n",
    "BEGIN QUESTION\n",
    "name: q1_1\n",
    "manual: false\n",
    "-->\n"
   ]
  },
  {
   "cell_type": "code",
   "execution_count": 7,
   "metadata": {},
   "outputs": [],
   "source": [
    "wisconsin = ...\n",
    "\n",
    "wisconsin"
   ]
  },
  {
   "cell_type": "markdown",
   "metadata": {
    "deletable": false,
    "editable": false
   },
   "source": [
    "<!-- BEGIN QUESTION -->\n",
    "\n",
    "### 1.2 - Plotting polling averages\n",
    "\n",
    "There are clearly many polls that take place in Wisconsin - luckily, they are in order chronologically, so we don't have to worry about sorting them. However, we should probably visualize the results in a more meaningful way. Plot the `adjpoll_clinton` and `adjpoll_trump` columns both in one plot. \n",
    "\n",
    "Comment on what this visualization represents: e.g., what is the x-axis and the y-axis.\n",
    "\n",
    "<!--\n",
    "BEGIN QUESTION\n",
    "name: q1_2a\n",
    "manual: true\n",
    "-->\n"
   ]
  },
  {
   "cell_type": "code",
   "execution_count": 8,
   "metadata": {
    "scrolled": true
   },
   "outputs": [],
   "source": []
  },
  {
   "cell_type": "markdown",
   "metadata": {
    "deletable": false,
    "editable": false
   },
   "source": [
    "<!-- END QUESTION -->\n",
    "\n",
    "<!-- BEGIN QUESTION -->\n",
    "\n",
    "Comment on the pattern that you notice.\n",
    "\n",
    "\n",
    "<!--\n",
    "BEGIN QUESTION\n",
    "name: q1_2b\n",
    "manual: true\n",
    "-->\n"
   ]
  },
  {
   "cell_type": "markdown",
   "metadata": {},
   "source": [
    "_Type your answer here, replacing this text._"
   ]
  },
  {
   "cell_type": "markdown",
   "metadata": {
    "deletable": false,
    "editable": false
   },
   "source": [
    "<!-- END QUESTION -->\n",
    "\n",
    "### 1.3 - Array of difference between Clinton, Trump\n",
    "\n",
    "To further understand this relationship, create an array that contains the difference between the percent that voted for Clinton and those that voted for Trump. Then, run the cell below to plot this relationship.\n",
    "\n",
    "<!--\n",
    "BEGIN QUESTION\n",
    "name: q1_3\n",
    "manual: false\n",
    "-->\n"
   ]
  },
  {
   "cell_type": "code",
   "execution_count": 9,
   "metadata": {},
   "outputs": [],
   "source": [
    "adj_diff_wisconsin = ...\n"
   ]
  },
  {
   "cell_type": "code",
   "execution_count": 10,
   "metadata": {},
   "outputs": [],
   "source": [
    "plt.title('Difference between Clinton Vote Percentage and Trump Vote Percentage')\n",
    "plt.plot(adj_diff_wisconsin)"
   ]
  },
  {
   "cell_type": "markdown",
   "metadata": {
    "deletable": false,
    "editable": false
   },
   "source": [
    "<!-- BEGIN QUESTION -->\n",
    "\n",
    "### 1.4 - Examining the differences\n",
    "\n",
    "Based on the above visualization, who do you expect to win the election? How confident are you in your analysis?\n",
    "\n",
    "<!--\n",
    "BEGIN QUESTION\n",
    "name: q1_4\n",
    "manual: true\n",
    "-->\n"
   ]
  },
  {
   "cell_type": "markdown",
   "metadata": {},
   "source": [
    "_Type your answer here, replacing this text._"
   ]
  },
  {
   "cell_type": "markdown",
   "metadata": {
    "deletable": false,
    "editable": false
   },
   "source": [
    "<!-- END QUESTION -->\n",
    "\n",
    "<!-- BEGIN QUESTION -->\n",
    "\n",
    "### Question 2.1 - A Look at high-ranking pollsters\n",
    "\n",
    "Trump won Wisconsin by just under 1% in 2016. This may be surprising! FiveThirtyEight also ranks pollsters, based on factors such as historical reliability and inherent bias. \n",
    "\n",
    "Let's select only the A+, A, and A- rated pollsters, to see if they had a better take on the result. Note: you will need to use the [datascience.are.contained_in](http://data8.org/datascience/predicates.html) module. Then, plot the adjusted averages again.\n",
    "\n",
    "<!--\n",
    "BEGIN QUESTION\n",
    "name: q2_1\n",
    "manual: true\n",
    "-->\n"
   ]
  },
  {
   "cell_type": "code",
   "execution_count": 12,
   "metadata": {},
   "outputs": [],
   "source": [
    "high_rankings = ..."
   ]
  },
  {
   "cell_type": "markdown",
   "metadata": {
    "deletable": false,
    "editable": false
   },
   "source": [
    "<!-- END QUESTION -->"
   ]
  },
  {
   "cell_type": "code",
   "execution_count": 15,
   "metadata": {},
   "outputs": [],
   "source": [
    "..."
   ]
  },
  {
   "cell_type": "markdown",
   "metadata": {
    "deletable": false,
    "editable": false
   },
   "source": [
    "<!-- BEGIN QUESTION -->\n",
    "\n",
    "### Question 2.2\n",
    "\n",
    "Do you notice a significant difference depending on the rankings? Did they do a better job at predicting the true outcome of the election?\n",
    "\n",
    "<!--\n",
    "BEGIN QUESTION\n",
    "name: q2_2\n",
    "manual: true\n",
    "-->\n"
   ]
  },
  {
   "cell_type": "markdown",
   "metadata": {},
   "source": [
    "_Type your answer here, replacing this text._"
   ]
  },
  {
   "cell_type": "markdown",
   "metadata": {
    "deletable": false,
    "editable": false
   },
   "source": [
    "<!-- END QUESTION -->\n",
    "\n",
    "<!-- BEGIN QUESTION -->\n",
    "\n",
    "# Question 3: Open Ended Analysis\n",
    "\n",
    "1. Pick one of the following states: Pennsylvania, Ohio, Florida, Michigan\n",
    "2. Perform an analysis, similar to what we did for Wisconsin, on the state. Then, look up and find the actual result of the state.\n",
    "3. Answer the following questions in some depth (feel free to use the resources below as a starting point for your research): \n",
    "  - What are some possible explanations for the discrepancies between the polls and the results of the election?\n",
    "  - To what extent should we be trusting the polls' predictions?\n",
    "\n",
    "<!--\n",
    "BEGIN QUESTION\n",
    "name: q3\n",
    "manual: true\n",
    "-->\n"
   ]
  },
  {
   "cell_type": "code",
   "execution_count": 16,
   "metadata": {},
   "outputs": [],
   "source": [
    "# Code here - feel free to add as many cells as you need\n",
    "# SOLTUION NO PROMPT"
   ]
  },
  {
   "cell_type": "markdown",
   "metadata": {},
   "source": [
    "<!-- END QUESTION -->\n",
    "\n",
    "\n",
    "\n",
    "# Interested in learning more?\n",
    "\n",
    "The subject of elections and polling has only gotten more relevant since 2016. Here are some resources to help you dve deeper into the topic!\n",
    "\n",
    "[Why 2016 Election Polls Missed Their Mark](https://www.pewresearch.org/fact-tank/2016/11/09/why-2016-election-polls-missed-their-mark/): a brief but informative article from Pew Research\n",
    "\n",
    "FiveThirtyEight issued a [rebuttal](https://fivethirtyeight.com/features/the-polls-are-all-right/) defnding their record, including the 2016 election. In fact, their predictions in 2018 would go on to be extremely accurate. Feel free to follow the hyperlinks throughout the article, as many lead to interesting articles and papers.\n",
    "\n",
    "\n",
    "Finally, if you're interested in a more academic approach, see [this paper](https://eprints.soton.ac.uk/413658/1/JenningsWlezienPollingErrors.pdf), which conducted an analysis of thousands of polls in the last 60+ years and came to some interesting conclusions.\n"
   ]
  },
  {
   "cell_type": "markdown",
   "metadata": {},
   "source": [
    "# Your Exploration / Future Work\n",
    "\n",
    "It's your turn. You now have a chance to experiment with everything that you have learned in this class so far. \n",
    "\n",
    "Take a look at additional attributes that are given in this dataset and write down any other questions that you want to answer.  Then, give it your best shot at answering them.\n",
    "\n",
    "What other datasets could you bring in for additional exploration? Can the dataset we used earlier in this course be helpful with any of the exploration?\n",
    "\n",
    "If you found/will use them, remember to include the link to the source and the data file with your submission.\n",
    "\n",
    "Feel free to use the `Insert` menu above to add as many extra cells as you need."
   ]
  },
  {
   "cell_type": "code",
   "execution_count": null,
   "metadata": {},
   "outputs": [],
   "source": []
  },
  {
   "cell_type": "markdown",
   "metadata": {
    "deletable": false,
    "editable": false
   },
   "source": [
    "---\n",
    "\n",
    "To double-check your work, the cell below will rerun all of the autograder tests."
   ]
  },
  {
   "cell_type": "code",
   "execution_count": null,
   "metadata": {
    "deletable": false,
    "editable": false
   },
   "outputs": [],
   "source": [
    "grader.check_all()"
   ]
  },
  {
   "cell_type": "markdown",
   "metadata": {
    "deletable": false,
    "editable": false
   },
   "source": [
    "## Submission\n",
    "\n",
    "Make sure you have run all cells in your notebook in order before running the cell below, so that all images/graphs appear in the output. The cell below will generate a zip file for you to submit. **Please save before exporting!**"
   ]
  },
  {
   "cell_type": "code",
   "execution_count": null,
   "metadata": {
    "deletable": false,
    "editable": false
   },
   "outputs": [],
   "source": [
    "# Save your notebook first, then run this cell to export your submission.\n",
    "grader.export(\"election-predictions.ipynb\")"
   ]
  },
  {
   "cell_type": "markdown",
   "metadata": {},
   "source": [
    " "
   ]
  }
 ],
 "metadata": {
  "kernelspec": {
   "display_name": "Python 3",
   "language": "python",
   "name": "python3"
  },
  "language_info": {
   "codemirror_mode": {
    "name": "ipython",
    "version": 3
   },
   "file_extension": ".py",
   "mimetype": "text/x-python",
   "name": "python",
   "nbconvert_exporter": "python",
   "pygments_lexer": "ipython3",
   "version": "3.7.8"
  },
  "toc": {
   "base_numbering": 1,
   "nav_menu": {},
   "number_sections": true,
   "sideBar": true,
   "skip_h1_title": false,
   "title_cell": "Table of Contents",
   "title_sidebar": "Contents",
   "toc_cell": false,
   "toc_position": {},
   "toc_section_display": true,
   "toc_window_display": false
  }
 },
 "nbformat": 4,
 "nbformat_minor": 2
}
