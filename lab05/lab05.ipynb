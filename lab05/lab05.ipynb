{
 "cells": [
  {
   "cell_type": "code",
   "execution_count": null,
   "metadata": {
    "deletable": false,
    "editable": false
   },
   "outputs": [],
   "source": [
    "# Initialize Otter\n",
    "import otter\n",
    "grader = otter.Notebook()"
   ]
  },
  {
   "cell_type": "markdown",
   "metadata": {},
   "source": [
    "#### Lab 5: Visualizations and Comparisons\n",
    "\n",
    "Welcome to lab 5! This week, we will go over creating various visualizations and using conditional statements.\n",
    "\n",
    "The relevant sections in the books are\n",
    "* [Chapter 6](https://www.inferentialthinking.com/chapters/06/4/Example_Gender_Ratio_in_the_US_Population.html) for computing proportions\n",
    "* [Chapter 7](https://www.inferentialthinking.com/chapters/07/Visualization.html) for `barh` and `hist`, \n",
    "* [Section 8.2](https://www.inferentialthinking.com/chapters/08/2/Classifying_by_One_Variable.html) for `group`\n",
    "\n",
    "You will also get to retrieve source data from a Wikipedia page and do some clean up to get it ready for analysis. *Acknowledgements:* The exercise on collecting data about presidential elections has been adopted from the [UCSB DS100 homework](https://ucsb-ds.github.io/s20/).\n",
    "\n",
    "In this lab you will be using\n",
    "* Boolean operators\n",
    "* functions that you defined yourself\n",
    "* `group` to transform the tables\n",
    "* `where` to select the relevant rows\n",
    "* `column` to get the needed column as an array\n",
    "* `barh` and `hist` for visualizing data\n",
    "\n",
    "\n",
    "First, set up the tests and imports by running the cell below."
   ]
  },
  {
   "cell_type": "code",
   "execution_count": 1,
   "metadata": {},
   "outputs": [],
   "source": [
    "import numpy as np\n",
    "from datascience import *\n",
    "\n",
    "# These lines set up graphing capabilities.\n",
    "import matplotlib\n",
    "%matplotlib inline\n",
    "import matplotlib.pyplot as plt\n",
    "plt.style.use('fivethirtyeight')\n",
    "import warnings\n",
    "warnings.simplefilter('ignore', FutureWarning)"
   ]
  },
  {
   "cell_type": "markdown",
   "metadata": {},
   "source": [
    "# 0. Group partners\n",
    "\n",
    "For this lab, you are allowed to work with up to 2 other students. Each of you should do the work in your own notebook, but you can brainstorm and work together on the exploratory questions. \n",
    "\n",
    "If you didn't attend the lab and are not assigned to a group, post on Piazza with your meeting time availability and see if any of the groups will have you join them. If you cannot find a group, work solo or attend the office hours to work with one of the mentors.\n",
    "\n",
    "In the following cell, list your name and the names of all lab partners (if applicable)."
   ]
  },
  {
   "cell_type": "code",
   "execution_count": 2,
   "metadata": {},
   "outputs": [],
   "source": [
    "lab_partners = Table().with_columns(\n",
    "    \"Name\", make_array(\"name\"),\n",
    "    \"Email\", make_array(\"@ucsb.edu\")\n",
    ")\n",
    "lab_partners"
   ]
  },
  {
   "cell_type": "markdown",
   "metadata": {},
   "source": [
    "# 1. Analyzing the U.S. Elections\n",
    "\n",
    "It is the Election Season!\n",
    "\n",
    "This year (2020), the citizens of the United States will be electing their 46th president. Let us look at how states voted in presidential elections between 1972 and 2016."
   ]
  },
  {
   "cell_type": "markdown",
   "metadata": {
    "deletable": false,
    "editable": false
   },
   "source": [
    "## 1.1: Get the source data\n",
    "\n",
    "Unlike prior assignments, we're going to make you go **get the data yourself**. Specifically, we'd like you to use this table from wikipedia: [https://en.wikipedia.org/wiki/List_of_United_States_presidential_election_results_by_state](https://en.wikipedia.org/wiki/List_of_United_States_presidential_election_results_by_state). \n",
    "\n",
    "You can convert the table into csv format using this website: [https://wikitable2csv.ggor.de/](https://wikitable2csv.ggor.de/). Simply paste the address (URL) of the website into wikitable2csv and leave the default options as they are.\n",
    "\n",
    "On the next page, click \"Download\" on **Table 1**: you should download a file called `table-1.csv`.\n",
    "\n",
    "Upload this file to your [Jupyterhub folder for this lab](./) (where this ipynb is) and rename the csv to \"`presidential_elections.csv`\". Then run the cell below to make sure that you did everything properly.\n",
    "\n",
    "<!--\n",
    "BEGIN QUESTION\n",
    "name: q1_1\n",
    "points: 1\n",
    "manual: false\n",
    "-->"
   ]
  },
  {
   "cell_type": "code",
   "execution_count": 3,
   "metadata": {},
   "outputs": [],
   "source": [
    "election = Table().read_table(\"presidential_elections.csv\")\n",
    "election"
   ]
  },
  {
   "cell_type": "code",
   "execution_count": null,
   "metadata": {
    "deletable": false,
    "editable": false
   },
   "outputs": [],
   "source": [
    "grader.check(\"q1_1\")"
   ]
  },
  {
   "cell_type": "markdown",
   "metadata": {
    "deletable": false,
    "editable": false
   },
   "source": [
    "## 1.2: Clean the data\n",
    "\n",
    "The data in this table is pretty messy. We need to create a clean version of this table called `election_1972_to_2016`. It should contain exactly 51 rows (corresponding to the 50 state plus Washington DC) and 13 columns (one for the \"State\" and one for each of the election year from 1972 to 2016, to include only republican `R` and democratic `D` votes in each state).\n",
    "\n",
    "Let's take a look at the column labels to see if we need to use all columns and whether we should rename any of them.\n",
    "\n",
    "<!--\n",
    "BEGIN QUESTION\n",
    "name: q1_2\n",
    "points: 1\n",
    "manual: false\n",
    "-->"
   ]
  },
  {
   "cell_type": "code",
   "execution_count": 8,
   "metadata": {
    "scrolled": true
   },
   "outputs": [],
   "source": [
    "### Get the column names\n",
    "column_names = ...\n",
    "column_names"
   ]
  },
  {
   "cell_type": "code",
   "execution_count": null,
   "metadata": {
    "deletable": false,
    "editable": false
   },
   "outputs": [],
   "source": [
    "grader.check(\"q1_2\")"
   ]
  },
  {
   "cell_type": "markdown",
   "metadata": {
    "deletable": false,
    "editable": false
   },
   "source": [
    "Looks like we have some cleaning to do!\n",
    "\n",
    "Since we want to end up with 13 columns (one for the state and one for each of the election year from 1972 to 2016), we can extract the first and the last 14 columns of the table and then remove the columns \"Unnamed: 60\" and \"State.1\". We should also remove the weird symbol in the \"2000\" and \"2016\" columns to make it easier to work with the columns.\n",
    "\n",
    "Let's do this in stages, saving each intermediate step into different variables:\n",
    "1. to extract the last $K$ columns, let's go ahead and drop the first $N$ columns, skipping the first one (where $K=14$ and $N=66-K-1 = 51$);\n",
    "1. drop the column `'Unnamed: 60'` and the `'State.1'`;\n",
    "1. rename the `'2000 ‡'` and `'2016 ‡'` columns to remove the non-numerical symbol.\n",
    "\n",
    "\n",
    "### 1.2.1: `drop` unnecessary columns (step 1)\n",
    "\n",
    "As always, we recommend referring to the documentation if you don't remember how to use the [`drop` method](http://data8.org/datascience/_autosummary/datascience.tables.Table.drop.html#datascience.tables.Table.drop) with the tables. Note that in the documentation it says that `drop` has a parameter `column_or_columns`, which must be an existing header name, or a valid column index.\n",
    "\n",
    "First, let's just get the indices of columns that we want to drop. We'll use them in the next step as an input into the `drop` method.\n",
    "\n",
    "Since it is too tedious to list the columns by name, let's use the fact that we can give it a list with the column indices. Let's use `np.arange` to generate the indices of the 51 columns: we want to start from the second column (to preserve the first,\"State\", column), i.e., our indices start at 1 and go up to 51.\n",
    "\n",
    "<!--\n",
    "BEGIN QUESTION\n",
    "name: q1_2_1a\n",
    "points: 1\n",
    "manual: false\n",
    "-->"
   ]
  },
  {
   "cell_type": "code",
   "execution_count": 12,
   "metadata": {},
   "outputs": [],
   "source": [
    "column_indices_to_drop = ..."
   ]
  },
  {
   "cell_type": "code",
   "execution_count": null,
   "metadata": {
    "deletable": false,
    "editable": false
   },
   "outputs": [],
   "source": [
    "grader.check(\"q1_2_1a\")"
   ]
  },
  {
   "cell_type": "markdown",
   "metadata": {
    "deletable": false,
    "editable": false
   },
   "source": [
    "Now, use the array `column_indices_to_drop` that you just created as an input into the `drop()` method.\n",
    "\n",
    "<!--\n",
    "BEGIN QUESTION\n",
    "name: q1_2_1b\n",
    "points: 1\n",
    "manual: false\n",
    "-->"
   ]
  },
  {
   "cell_type": "code",
   "execution_count": 16,
   "metadata": {},
   "outputs": [],
   "source": [
    "election_drop52 = ...\n",
    "election_drop52"
   ]
  },
  {
   "cell_type": "code",
   "execution_count": null,
   "metadata": {
    "deletable": false,
    "editable": false
   },
   "outputs": [],
   "source": [
    "grader.check(\"q1_2_1b\")"
   ]
  },
  {
   "cell_type": "markdown",
   "metadata": {
    "deletable": false,
    "editable": false
   },
   "source": [
    "### 1.2.2: `drop` unnecessary columns (step 2)\n",
    "\n",
    "In this step, since we only need to remove the columns `'Unnamed: 60'` and the `'State.1'`, we can give the column names directly to the `drop` method. \n",
    "\n",
    "*Hint:* we shouldn't be dropping the columns from the original `election` table, since we want to continue cleaning the table that we got in the previous step.\n",
    "\n",
    "<!--\n",
    "BEGIN QUESTION\n",
    "name: q1_2_2\n",
    "points: 1\n",
    "manual: false\n",
    "-->"
   ]
  },
  {
   "cell_type": "code",
   "execution_count": 21,
   "metadata": {},
   "outputs": [],
   "source": [
    "election_all_dropped = ..."
   ]
  },
  {
   "cell_type": "code",
   "execution_count": null,
   "metadata": {
    "deletable": false,
    "editable": false
   },
   "outputs": [],
   "source": [
    "grader.check(\"q1_2_2\")"
   ]
  },
  {
   "cell_type": "markdown",
   "metadata": {
    "deletable": false,
    "editable": false
   },
   "source": [
    "### 1.2.3: clean the column names (step 3)\n",
    "\n",
    "Since we needed **the column names** to contain **only** the numerical values, we need to rename the `'2000 ‡'` and `'2016 ‡'` columns to remove the non-numerical symbol.\n",
    "\n",
    "Once again, you can use [the documentation](http://data8.org/datascience/_autosummary/datascience.tables.Table.relabeled.html#datascience.tables.Table.relabeled) to check how to rename the column.\n",
    "\n",
    "**Note:** Make sure to **not** change values in the `election_all_dropped` table; **return a new table** instead.\n",
    "\n",
    "<!--\n",
    "BEGIN QUESTION\n",
    "name: q1_2_3\n",
    "points: 1\n",
    "manual: false\n",
    "-->"
   ]
  },
  {
   "cell_type": "code",
   "execution_count": 24,
   "metadata": {},
   "outputs": [],
   "source": [
    "election_1972_to_2016 = ...\n",
    "election_1972_to_2016"
   ]
  },
  {
   "cell_type": "code",
   "execution_count": null,
   "metadata": {
    "deletable": false,
    "editable": false
   },
   "outputs": [],
   "source": [
    "grader.check(\"q1_2_3\")"
   ]
  },
  {
   "cell_type": "markdown",
   "metadata": {
    "deletable": false,
    "editable": false
   },
   "source": [
    "### 1.2.4: final clean-up\n",
    "\n",
    "Now, there's still something that's off about our table. Since we just cleaned our columns and can verify that we have the correct number of them and the correct labels, there's only one other aspect of the table that we should check. What do you think it is? Where should you look?\n",
    "\n",
    "*Hint:* Remember that you can see the entire table by using `.show()`.\n",
    "\n",
    "*Hint:* Consider using `where` in your solution to exclude what you don't want.\n",
    "\n",
    "<!--\n",
    "BEGIN QUESTION\n",
    "name: q1_2_4\n",
    "points: 1\n",
    "manual: false\n",
    "-->"
   ]
  },
  {
   "cell_type": "code",
   "execution_count": 28,
   "metadata": {
    "scrolled": true
   },
   "outputs": [],
   "source": [
    "election_1972_to_2016_final = ...\n",
    "election_1972_to_2016_final"
   ]
  },
  {
   "cell_type": "code",
   "execution_count": null,
   "metadata": {
    "deletable": false,
    "editable": false
   },
   "outputs": [],
   "source": [
    "grader.check(\"q1_2_4\")"
   ]
  },
  {
   "cell_type": "markdown",
   "metadata": {},
   "source": [
    "Whew! We are done with the clean-up! \n",
    "We hope that it makes you appreciate the nicely clean datasets that we've worked with so far. \n",
    "We also hope that you are pretty happy that you could use the skills you've learned in this class to clean a real-world dataset.\n",
    "\n",
    "We are now ready to...\n",
    "\n",
    "\n",
    "## 1.3: Visualize the data\n",
    "\n",
    "For each election year from 1972 to 2016, we can see how many states voted republican `R` or democratic `D` vote.\n",
    "\n",
    "\n",
    "### 1.3.1: Grouping by year\n",
    "\n",
    "Let's see how distribution of state votes has changed for the past 3 elections in 2008, 2012, and 2016.\n",
    "\n",
    "In order to do it, we need to count how many republican `R` or democratic `D` votes we have in the corresponding column. To do so, we can use the Table's `group()` method, which allows us to count how frequently each vote appears in the table.\n",
    "\n",
    "> The `group()` method takes as its argument the *label of the column* that contains the categories, and returns a table of *counts of rows* in each category.\n",
    "\n",
    "(*Side note: the column of counts that is returned by the `group()` is always called `'count'`*.)"
   ]
  },
  {
   "cell_type": "code",
   "execution_count": 32,
   "metadata": {
    "scrolled": true
   },
   "outputs": [],
   "source": [
    "election_2008_counts = election_1972_to_2016_final.group('2008')\n",
    "election_2008_counts"
   ]
  },
  {
   "cell_type": "markdown",
   "metadata": {},
   "source": [
    "Now, in order to visualize the counts in a bar graph, we use the `barh` method with the table that we created above."
   ]
  },
  {
   "cell_type": "code",
   "execution_count": 33,
   "metadata": {
    "scrolled": true
   },
   "outputs": [],
   "source": [
    "election_2008_counts.barh('2008')"
   ]
  },
  {
   "cell_type": "markdown",
   "metadata": {},
   "source": [
    "#### Method chaining\n",
    "\n",
    "> A lot of times, we just want to take a quick peek at the distribution and don't want to first store the counts in a separate table in order to visualize them. This is when the method-chaining comes in handy: instead of storing the results of the `group` method in a variable and then using that variable in the next method/command, we can pass the table that is generated by the `group` method to the next method (and the next and the next and so on, if we wanted to).\n",
    "\n",
    "Note that the below expression is equivalent to the two method that we ran above. Here, we just chained `group` and `barh`, so the table with the counts that resulted from using `group` was sent to `barh` for visualization."
   ]
  },
  {
   "cell_type": "code",
   "execution_count": 34,
   "metadata": {},
   "outputs": [],
   "source": [
    "election_1972_to_2016_final.group('2008').barh('2008')"
   ]
  },
  {
   "cell_type": "markdown",
   "metadata": {},
   "source": [
    "OK, you should now be equipped with everything you need to check the distribution of votes in 2012 and 2016."
   ]
  },
  {
   "cell_type": "code",
   "execution_count": 35,
   "metadata": {
    "scrolled": false
   },
   "outputs": [],
   "source": [
    "### election_1972_to_2016_final.group('...').barh('...')"
   ]
  },
  {
   "cell_type": "markdown",
   "metadata": {},
   "source": [
    "Do you think that the change in the vote distribution between 2008 and 2012 was indicative of the trend that led to the 2016 results?"
   ]
  },
  {
   "cell_type": "code",
   "execution_count": 36,
   "metadata": {},
   "outputs": [],
   "source": [
    "### Try to write this command from scratch for the year 2016\n",
    "election_1972_to_2016_final"
   ]
  },
  {
   "cell_type": "markdown",
   "metadata": {},
   "source": [
    "### 1.3.2: `group`ing by multiple years\n",
    "\n",
    "For each election year from 1972 to 2016, we can see how many times a state voted republican `R` or democratic `D` vote. However, because that data is stored in rows, in order to visualize the distribution for a state, we first need to extract its row.\n",
    "\n",
    "Let's take a look at California."
   ]
  },
  {
   "cell_type": "code",
   "execution_count": 37,
   "metadata": {
    "scrolled": false
   },
   "outputs": [],
   "source": [
    "ca_votes = election_1972_to_2016_final.where('State', 'California')\n",
    "ca_votes"
   ]
  },
  {
   "cell_type": "markdown",
   "metadata": {},
   "source": [
    "Note that up until 1992, California voted Republican. In 1992, the United States elected their [42nd president](https://en.wikipedia.org/wiki/List_of_presidents_of_the_United_States), which was the first democratic president in 12 years.\n",
    "\n",
    "We can take a look at other states to see how they voted since 1972."
   ]
  },
  {
   "cell_type": "code",
   "execution_count": 38,
   "metadata": {},
   "outputs": [],
   "source": [
    "election_1972_to_2016_final.where('State', 'Hawaii')"
   ]
  },
  {
   "cell_type": "markdown",
   "metadata": {},
   "source": [
    "What if we wanted to know how many states voted the same for the past 3 elections?\n",
    "\n",
    "In order to answer this question, we cannot group the rows just by the value in the single column, i.e., a single year, like we did in the previous question. We need to group them by the values in 3 columns, which correspond to the 3 elections that we are interested in.\n",
    "\n",
    "To do that, we need to create an array that contains the labels of the columns that we want to group."
   ]
  },
  {
   "cell_type": "code",
   "execution_count": 39,
   "metadata": {
    "scrolled": true
   },
   "outputs": [],
   "source": [
    "election_1972_to_2016_final.group(make_array('2008', '2012', '2016'))"
   ]
  },
  {
   "cell_type": "markdown",
   "metadata": {},
   "source": [
    "From the result above, we see that 21 state voted democratic and 22 states voted republican for the past 3 elections.\n",
    "\n",
    "Are you curious to find out which 6 states voted republican in 2016 after voting democratic in 2008 and 2012? Let's find out!\n",
    "\n",
    "### 1.3.3: Extracting specific values\n",
    "\n",
    "To answer this question, we can use the method chaining to extract the rows for the states that voted `D` in 2008 and 2012 and then voted `R` in 2016."
   ]
  },
  {
   "cell_type": "code",
   "execution_count": 40,
   "metadata": {
    "scrolled": true
   },
   "outputs": [],
   "source": [
    "election_1972_to_2016_final.where('2008', 'D').where('2012', 'D').where('2016', 'R')"
   ]
  },
  {
   "cell_type": "markdown",
   "metadata": {},
   "source": [
    "If we wanted only a list of the states, then we could run the above command and extract just the names and store them in an array using the `column` method:"
   ]
  },
  {
   "cell_type": "code",
   "execution_count": 41,
   "metadata": {},
   "outputs": [],
   "source": [
    "election_1972_to_2016_final.where('2008', 'D').where('2012', 'D').where('2016', 'R').column(\"State\")"
   ]
  },
  {
   "cell_type": "markdown",
   "metadata": {
    "deletable": false,
    "editable": false
   },
   "source": [
    "Note that the following is equivalent to what we just did above: `ddr_2008_2016` is the name that we are giving to the table that we got from chaining the `where` methods, and we can then use that table with the `.column(\"State\")` to extract the state names.\n",
    "\n",
    "<!--\n",
    "BEGIN QUESTION\n",
    "name: q1_3_3a\n",
    "points: 1\n",
    "manual: false\n",
    "-->"
   ]
  },
  {
   "cell_type": "code",
   "execution_count": 42,
   "metadata": {},
   "outputs": [],
   "source": [
    "ddr_2008_2016 = election_1972_to_2016_final.where('2008', 'D').where('2012', 'D').where('2016', 'R')\n",
    "# Now, extract the state names using ddr_2008_2016\n",
    "ddr_states_2008_2016 = ...\n",
    "ddr_states_2008_2016"
   ]
  },
  {
   "cell_type": "code",
   "execution_count": null,
   "metadata": {
    "deletable": false,
    "editable": false
   },
   "outputs": [],
   "source": [
    "grader.check(\"q1_3_3a\")"
   ]
  },
  {
   "cell_type": "markdown",
   "metadata": {
    "deletable": false,
    "editable": false
   },
   "source": [
    "Your turn.\n",
    "\n",
    "Find the names of the two states that since voted `R` after voting `D` in 2008.\n",
    "\n",
    "<!--\n",
    "BEGIN QUESTION\n",
    "name: q1_3_3b\n",
    "points: 1\n",
    "manual: false\n",
    "-->"
   ]
  },
  {
   "cell_type": "code",
   "execution_count": 44,
   "metadata": {
    "scrolled": false
   },
   "outputs": [],
   "source": [
    "drr_2008_2016 = ...\n",
    "drr_states_2008_2016 = ...\n",
    "drr_states_2008_2016"
   ]
  },
  {
   "cell_type": "code",
   "execution_count": null,
   "metadata": {
    "deletable": false,
    "editable": false
   },
   "outputs": [],
   "source": [
    "grader.check(\"q1_3_3b\")"
   ]
  },
  {
   "cell_type": "markdown",
   "metadata": {
    "deletable": false,
    "editable": false
   },
   "source": [
    "<!-- BEGIN QUESTION -->\n",
    "\n",
    "## 1.4: Your Exploration\n",
    "\n",
    "This is an optional section which gives you a chance to experiment with the data and the methods. We will take a look at what you did here, and if you had interesting questions that you were able to ask and answer, we will award extra points for your explorations.\n",
    "\n",
    "We recommend for you to finish the lab and then come back to this section. Feel free to use the `Insert` menu above to add extra cells. Remember to include a Markdown cell in which you write down the question(s) that you are attempting to answer with your code.\n",
    "\n",
    "If you decide to (go above and beyond, and) use additional datasets, you definitely may include them in your analysis. Make sure you do the following:\n",
    "* include the URL for the source of the data\n",
    "* explain why you needed it / what part of the data you want to use\n",
    "* if the data needed cleaning but the steps to clean the data are not in the notebook, describe what you did to clean the columns/rows.\n",
    "* submit the additional CSV file with your notebook to Gradescope.\n",
    "\n",
    "Have fun!\n",
    "\n",
    "<!--\n",
    "BEGIN QUESTION\n",
    "name: q1_4\n",
    "points: 1\n",
    "manual: true\n",
    "-->"
   ]
  },
  {
   "cell_type": "markdown",
   "metadata": {},
   "source": [
    "_Type your answer here, replacing this text._"
   ]
  },
  {
   "cell_type": "markdown",
   "metadata": {},
   "source": [
    "<!-- END QUESTION -->\n",
    "\n",
    "\n",
    "\n",
    "## 2. Our Class Data\n",
    "\n",
    "As you may remember, PA02 asked you to fill out a survey about your experiences. It also allowed us to collect fun data to use as we practice using Table methods.\n",
    "\n",
    "Let's go ahead and import the files."
   ]
  },
  {
   "cell_type": "code",
   "execution_count": 47,
   "metadata": {},
   "outputs": [],
   "source": [
    "majors = Table().read_table(\"ds1-survey-major.csv\")\n",
    "os = Table().read_table(\"ds1-survey-os.csv\")\n",
    "first_gen = Table().read_table(\"ds1-survey-first-gen.csv\")\n",
    "job_charity = Table().read_table(\"ds1-survey-pronouns-charity-job.csv\")\n",
    "experience = Table().read_table(\"ds1-survey-pronouns-experience.csv\")"
   ]
  },
  {
   "cell_type": "markdown",
   "metadata": {
    "deletable": false,
    "editable": false
   },
   "source": [
    "<!-- BEGIN QUESTION -->\n",
    "\n",
    "### 2.1: Randomization\n",
    "\n",
    "Note that we have data split across multiple files. We have shuffled the order of the rows, so the responses in each row of the files do not belong to the same student. What are possible reasons why you think we did this randomization?\n",
    "\n",
    "<!--\n",
    "BEGIN QUESTION\n",
    "name: q2_1\n",
    "points: 1\n",
    "manual: true\n",
    "-->"
   ]
  },
  {
   "cell_type": "markdown",
   "metadata": {},
   "source": [
    "_Type your answer here, replacing this text._"
   ]
  },
  {
   "cell_type": "markdown",
   "metadata": {
    "deletable": false,
    "editable": false
   },
   "source": [
    "<!-- END QUESTION -->\n",
    "\n",
    "### 2.2: Majors\n",
    "\n",
    "### 2.2.1: Counting Majors\n",
    "\n",
    "Let's take a look at how many majors we have represented in this class. Which major has the most students represented on the survey?\n",
    "\n",
    "To answer this question,\n",
    "1. count how many students from each major took the survey (using `group`, i.e., `group('Major')`),\n",
    "1. sort the counts in the *resulting table*, so that the major with the most students is in the first row (i.e., `descending = True`)\n",
    "\n",
    "<!--\n",
    "BEGIN QUESTION\n",
    "name: q2_2a\n",
    "points: 1\n",
    "manual: false\n",
    "-->"
   ]
  },
  {
   "cell_type": "code",
   "execution_count": 48,
   "metadata": {},
   "outputs": [],
   "source": [
    "sorted_majors = ..."
   ]
  },
  {
   "cell_type": "code",
   "execution_count": null,
   "metadata": {
    "deletable": false,
    "editable": false
   },
   "outputs": [],
   "source": [
    "grader.check(\"q2_2a\")"
   ]
  },
  {
   "cell_type": "markdown",
   "metadata": {
    "deletable": false,
    "editable": false
   },
   "source": [
    "<!-- BEGIN QUESTION -->\n",
    "\n",
    "Now that we have a nicely sorted table, let's create a bar graph (using `barh`) that shows the distribution of majors.\n",
    "\n",
    "<!--\n",
    "BEGIN QUESTION\n",
    "name: q2_2b\n",
    "points: 1\n",
    "manual: true\n",
    "-->"
   ]
  },
  {
   "cell_type": "code",
   "execution_count": 50,
   "metadata": {
    "scrolled": true
   },
   "outputs": [],
   "source": [
    "..."
   ]
  },
  {
   "cell_type": "markdown",
   "metadata": {
    "deletable": false,
    "editable": false
   },
   "source": [
    "<!-- END QUESTION -->\n",
    "\n",
    "### 2.2.2: Thresholding Majors\n",
    "\n",
    "We would like to recruit more students from the majors that currently have only 1 student in our class. How do we get the list of those majors?\n",
    "\n",
    "*Hint:* This is very similar to what you did earlier in the lab: it involves `where` and `column`.\n",
    "\n",
    "<!--\n",
    "BEGIN QUESTION\n",
    "name: q2_2c\n",
    "points: 1\n",
    "manual: false\n",
    "-->"
   ]
  },
  {
   "cell_type": "code",
   "execution_count": 51,
   "metadata": {},
   "outputs": [],
   "source": [
    "majors_to_reach = ..."
   ]
  },
  {
   "cell_type": "code",
   "execution_count": null,
   "metadata": {
    "deletable": false,
    "editable": false
   },
   "outputs": [],
   "source": [
    "grader.check(\"q2_2c\")"
   ]
  },
  {
   "cell_type": "markdown",
   "metadata": {
    "deletable": false,
    "editable": false
   },
   "source": [
    "### 2.3: Analyzing expriences of First-Gen students\n",
    "\n",
    "#### 2.3.1: Counting first-gen students\n",
    "Let's see if we have enough first-gen students in the class to do any type of reasonable analysis.\n",
    "\n",
    "<!--\n",
    "BEGIN QUESTION\n",
    "name: q2_3a\n",
    "points: 1\n",
    "manual: false\n",
    "-->"
   ]
  },
  {
   "cell_type": "code",
   "execution_count": 54,
   "metadata": {
    "scrolled": true
   },
   "outputs": [],
   "source": [
    "first_gen_count = ...\n",
    "first_gen_count"
   ]
  },
  {
   "cell_type": "code",
   "execution_count": null,
   "metadata": {
    "deletable": false,
    "editable": false
   },
   "outputs": [],
   "source": [
    "grader.check(\"q2_3a\")"
   ]
  },
  {
   "cell_type": "markdown",
   "metadata": {
    "deletable": false,
    "editable": false
   },
   "source": [
    "#### 2.3.2: Computing proportions\n",
    "\n",
    "Add a column called `\"proportion\"` that shows th proportion of each type of student; store the result in a new table `first_gen_prop`. \n",
    "\n",
    "*Hint:* Feel free to refer to [Chapter 6](https://www.inferentialthinking.com/chapters/06/4/Example_Gender_Ratio_in_the_US_Population.html) for an example of how to do it.\n",
    "\n",
    "<!--\n",
    "BEGIN QUESTION\n",
    "name: q2_3b\n",
    "points: 1\n",
    "manual: false\n",
    "-->"
   ]
  },
  {
   "cell_type": "code",
   "execution_count": 57,
   "metadata": {},
   "outputs": [],
   "source": [
    "count_column = ...\n",
    "total_students = ...\n",
    "\n",
    "first_gen_prop = first_gen_count.with_column(\"proportion\", count_column/total_students).set_format('proportion', PercentFormatter)\n",
    "first_gen_prop"
   ]
  },
  {
   "cell_type": "code",
   "execution_count": null,
   "metadata": {
    "deletable": false,
    "editable": false
   },
   "outputs": [],
   "source": [
    "grader.check(\"q2_3b\")"
   ]
  },
  {
   "cell_type": "markdown",
   "metadata": {
    "deletable": false,
    "editable": false
   },
   "source": [
    "#### 2.3.4: Prior experience\n",
    "\n",
    "It is a common occurrence that first-gen students generally have less computing experience than those whose parents have gone to college.\n",
    "\n",
    "Let's group the table by two columns `\"First gen\", \"Prior experience\"` and see if the above statement holds true in our class.\n",
    "\n",
    "<!--\n",
    "BEGIN QUESTION\n",
    "name: q2_3c\n",
    "points: 1\n",
    "manual: false\n",
    "-->"
   ]
  },
  {
   "cell_type": "code",
   "execution_count": 61,
   "metadata": {
    "scrolled": false
   },
   "outputs": [],
   "source": [
    "first_gen_experience_count = ..."
   ]
  },
  {
   "cell_type": "code",
   "execution_count": null,
   "metadata": {
    "deletable": false,
    "editable": false
   },
   "outputs": [],
   "source": [
    "grader.check(\"q2_3c\")"
   ]
  },
  {
   "cell_type": "markdown",
   "metadata": {},
   "source": [
    "## 2.4: Visualizing charity contributions\n",
    "\n",
    "Two of the questions on the survey were:\n",
    "\n",
    "> (Charity) Suppose you won a million dollars and were given the choice to either spend it on yourself or give it away to save the lives of children who would otherwise die of starvation. The more money you gave, the more children would be saved (let's say each dollar saved a child's life). What percent of the money would you give away?\n",
    "\n",
    "and\n",
    "\n",
    "> Would you rather have a job you hate that makes 500,000 dollars a year or a job you love that makes 100,000 dollars?\n",
    "\n",
    "Below are the results, which include the pronouns of the respondent."
   ]
  },
  {
   "cell_type": "code",
   "execution_count": 64,
   "metadata": {},
   "outputs": [],
   "source": [
    "job_charity"
   ]
  },
  {
   "cell_type": "markdown",
   "metadata": {
    "deletable": false,
    "editable": false
   },
   "source": [
    "<!-- BEGIN QUESTION -->\n",
    "\n",
    "### 2.4.1: Binning the results\n",
    "\n",
    "Let's create a histogram that shows the distribution of the charitable contribution among the survey respondents.\n",
    "\n",
    "<!--\n",
    "BEGIN QUESTION\n",
    "name: q2_4a\n",
    "points: 1\n",
    "manual: true\n",
    "-->"
   ]
  },
  {
   "cell_type": "code",
   "execution_count": 65,
   "metadata": {},
   "outputs": [],
   "source": [
    "..."
   ]
  },
  {
   "cell_type": "markdown",
   "metadata": {
    "deletable": false,
    "editable": false
   },
   "source": [
    "<!-- END QUESTION -->\n",
    "\n",
    "<!-- BEGIN QUESTION -->\n",
    "\n",
    "### 2.4.2: Empty bins\n",
    "\n",
    "Notice the gap that we see in the bins. Which percentages of charity donation does this gap correspond to?\n",
    "\n",
    "<!--\n",
    "BEGIN QUESTION\n",
    "name: q2_4b\n",
    "points: 1\n",
    "manual: true\n",
    "-->"
   ]
  },
  {
   "cell_type": "markdown",
   "metadata": {},
   "source": [
    "_Type your answer here, replacing this text._"
   ]
  },
  {
   "cell_type": "markdown",
   "metadata": {},
   "source": [
    "<!-- END QUESTION -->\n",
    "\n",
    "\n",
    "\n",
    "### 2.4.3: How many altruists?\n",
    "\n",
    "Does the histogram above capture the maximum possible contribution? How do you know? How can you use the `.bin()` method to verify that the histogram contains the values for the people who would have given away all of their winning? See [Chapter 7.2](https://www.inferentialthinking.com/chapters/07/2/Visualizing_Numerical_Distributions.html) if you need to look up how to use the method and what parameters it takes."
   ]
  },
  {
   "cell_type": "code",
   "execution_count": 66,
   "metadata": {},
   "outputs": [],
   "source": [
    "..."
   ]
  },
  {
   "cell_type": "markdown",
   "metadata": {
    "deletable": false,
    "editable": false
   },
   "source": [
    "Let's use `where` to see if we can count **how many people** decided to give away 100 percent of their winnings.\n",
    "\n",
    "<!--\n",
    "BEGIN QUESTION\n",
    "name: q2_4_3a\n",
    "points: 1\n",
    "manual: false\n",
    "-->"
   ]
  },
  {
   "cell_type": "code",
   "execution_count": 67,
   "metadata": {},
   "outputs": [],
   "source": [
    "gave_away_all = ..."
   ]
  },
  {
   "cell_type": "code",
   "execution_count": null,
   "metadata": {
    "deletable": false,
    "editable": false
   },
   "outputs": [],
   "source": [
    "grader.check(\"q2_4_3a\")"
   ]
  },
  {
   "cell_type": "markdown",
   "metadata": {
    "deletable": false,
    "editable": false
   },
   "source": [
    "**How many** of those people use the pronouns `\"he/him/his\"`?\n",
    "\n",
    "*Hint:* Unless you saved the result of the `where` statement that you used to answer the previous question, you will need two `where` conditions.\n",
    "\n",
    "<!--\n",
    "BEGIN QUESTION\n",
    "name: q2_4_3b\n",
    "points: 1\n",
    "manual: false\n",
    "-->"
   ]
  },
  {
   "cell_type": "code",
   "execution_count": 70,
   "metadata": {},
   "outputs": [],
   "source": [
    "gave_away_all_guys = ..."
   ]
  },
  {
   "cell_type": "code",
   "execution_count": null,
   "metadata": {
    "deletable": false,
    "editable": false
   },
   "outputs": [],
   "source": [
    "grader.check(\"q2_4_3b\")"
   ]
  },
  {
   "cell_type": "markdown",
   "metadata": {
    "deletable": false,
    "editable": false
   },
   "source": [
    "<!-- BEGIN QUESTION -->\n",
    "\n",
    "### 2.4.4: Interpreting the histogram\n",
    "\n",
    "A lot of times when you come across a histogram, you don't have access to the original data. This is when it becomes important to know how to interpret the histogram and the density that it displays.\n",
    "\n",
    "Read about in [Chapter 7.2](https://www.inferentialthinking.com/chapters/07/2/Visualizing_Numerical_Distributions.html#The-Vertical-Axis:-Density-Scale) and then come back to this question.\n",
    "\n",
    "Follow the example in [Chapter 7.2](https://www.inferentialthinking.com/chapters/07/2/Visualizing_Numerical_Distributions.html#The-Vertical-Axis:-Density-Scale) to compute the percent and the total number of people who would have donated 40-60 percent of their winning (not including 60).\n",
    "\n",
    "<!--\n",
    "BEGIN QUESTION\n",
    "name: q2_4_4\n",
    "points: 1\n",
    "manual: true\n",
    "-->"
   ]
  },
  {
   "cell_type": "markdown",
   "metadata": {},
   "source": [
    "_Type your answer here, replacing this text._"
   ]
  },
  {
   "cell_type": "markdown",
   "metadata": {
    "deletable": false,
    "editable": false
   },
   "source": [
    "<!-- END QUESTION -->\n",
    "\n",
    "<!-- BEGIN QUESTION -->\n",
    "\n",
    "## 2.5: Your Exploration\n",
    "\n",
    "This is an optional section which gives you a chance to experiment with the other data tables that we provided. \n",
    "Take a look at whether the respondents who donate more to charity generally select the jobs that they love, whether confidence in programming has any relation to lecture viewing preferences, and write down any other questions that you want to answer using these datasets.\n",
    "\n",
    "We will take a look at what you did here, and if you had interesting questions that you were able to ask and answer, we will award extra points for your explorations.\n",
    "\n",
    "We recommend for you to finish the lab and then come back to this section. Feel free to use the `Insert` menu above to add extra cells. Remember to include a Markdown cell in which you write down the question(s) you are attempting to answer with your code.\n",
    "\n",
    "<!--\n",
    "BEGIN QUESTION\n",
    "name: q1_4\n",
    "points: 1\n",
    "manual: true\n",
    "-->"
   ]
  },
  {
   "cell_type": "code",
   "execution_count": null,
   "metadata": {},
   "outputs": [],
   "source": []
  },
  {
   "cell_type": "markdown",
   "metadata": {
    "deletable": false,
    "editable": false
   },
   "source": [
    "<!-- END QUESTION -->"
   ]
  },
  {
   "cell_type": "code",
   "execution_count": null,
   "metadata": {},
   "outputs": [],
   "source": []
  },
  {
   "cell_type": "code",
   "execution_count": null,
   "metadata": {},
   "outputs": [],
   "source": []
  },
  {
   "cell_type": "markdown",
   "metadata": {},
   "source": [
    "Congratulations, you're done with Lab 5!  Be sure to \n",
    "- **save the notebook** first (**`Save and Checkpoint`** from the `File` menu)\n",
    "- go up to the `Kernel` menu and select `Restart & Clear Output` (make sure the notebook is saved first, because otherwise, you will lose all your work!). \n",
    "* go to `Cell -> Run All`. Carefully look through your notebook and verify that all computations execute correctly. You should see **no errors**; if there are any errors, make sure to correct them before you submit the notebook.\n",
    "* go to `File -> Download as -> Notebook` and download the notebook to your own computer. ([Please verify](https://ucsb-ds.github.io/ds1-f20/troubleshooting/#i-downloaded-the-notebook-file-but-it-saves-as-the-ipynbjson-extension-so-whenever-i-upload-it-to-gradescope-it-fails) that it got saved as an .ipynb file.)\n",
    "* Upload the notebook to [Gradescope](https://www.gradescope.com/). **If you used additional CSV files, remember to upload them with your notebook.** You can drag and drop both files or hold down Ctrl to click on multiple files when you are uploading them.\n"
   ]
  },
  {
   "cell_type": "code",
   "execution_count": null,
   "metadata": {},
   "outputs": [],
   "source": []
  },
  {
   "cell_type": "markdown",
   "metadata": {
    "deletable": false,
    "editable": false
   },
   "source": [
    "---\n",
    "\n",
    "To double-check your work, the cell below will rerun all of the autograder tests."
   ]
  },
  {
   "cell_type": "code",
   "execution_count": null,
   "metadata": {
    "deletable": false,
    "editable": false
   },
   "outputs": [],
   "source": [
    "grader.check_all()"
   ]
  },
  {
   "cell_type": "markdown",
   "metadata": {
    "deletable": false,
    "editable": false
   },
   "source": [
    "## Submission\n",
    "\n",
    "Make sure you have run all cells in your notebook in order before running the cell below, so that all images/graphs appear in the output. The cell below will generate a zip file for you to submit. **Please save before exporting!**"
   ]
  },
  {
   "cell_type": "code",
   "execution_count": null,
   "metadata": {
    "deletable": false,
    "editable": false
   },
   "outputs": [],
   "source": [
    "# Save your notebook first, then run this cell to export your submission.\n",
    "grader.export(\"lab05.ipynb\")"
   ]
  },
  {
   "cell_type": "markdown",
   "metadata": {},
   "source": [
    " "
   ]
  }
 ],
 "metadata": {
  "anaconda-cloud": {},
  "kernelspec": {
   "display_name": "Python 3",
   "language": "python",
   "name": "python3"
  },
  "language_info": {
   "codemirror_mode": {
    "name": "ipython",
    "version": 3
   },
   "file_extension": ".py",
   "mimetype": "text/x-python",
   "name": "python",
   "nbconvert_exporter": "python",
   "pygments_lexer": "ipython3",
   "version": "3.8.0"
  },
  "toc": {
   "base_numbering": 1,
   "nav_menu": {},
   "number_sections": false,
   "sideBar": true,
   "skip_h1_title": false,
   "title_cell": "Table of Contents",
   "title_sidebar": "Contents",
   "toc_cell": false,
   "toc_position": {},
   "toc_section_display": true,
   "toc_window_display": false
  }
 },
 "nbformat": 4,
 "nbformat_minor": 1
}
