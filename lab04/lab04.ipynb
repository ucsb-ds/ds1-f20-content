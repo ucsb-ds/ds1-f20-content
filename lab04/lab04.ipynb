{
 "cells": [
  {
   "cell_type": "code",
   "execution_count": null,
   "metadata": {},
   "outputs": [],
   "source": [
    "import otter\n",
    "grader = otter.Notebook()"
   ]
  },
  {
   "cell_type": "markdown",
   "metadata": {},
   "source": [
    "# Lab 4: Defining Functions"
   ]
  },
  {
   "cell_type": "markdown",
   "metadata": {},
   "source": [
    "Welcome to lab 4! This week, we'll learn about functions and the table method `apply` from [Applying a Function to a Column](https://www.inferentialthinking.com/chapters/08/1/applying-a-function-to-a-column.html).  \n",
    "\n",
    "First, set up the tests and imports by running the cell below."
   ]
  },
  {
   "cell_type": "code",
   "execution_count": null,
   "metadata": {},
   "outputs": [],
   "source": [
    "import numpy as np\n",
    "from datascience import *\n",
    "\n",
    "# These lines set up graphing capabilities.\n",
    "import matplotlib\n",
    "%matplotlib inline\n",
    "import matplotlib.pyplot as plt\n",
    "plt.style.use('fivethirtyeight')\n",
    "import warnings\n",
    "warnings.simplefilter('ignore', FutureWarning)"
   ]
  },
  {
   "cell_type": "markdown",
   "metadata": {},
   "source": [
    "## 1. Functions and CEO Incomes\n",
    "\n",
    "Let's start with a real data analysis task.  We'll look at the 2015 compensation of CEOs at the 100 largest companies in California.  The data were compiled for a Los Angeles Times analysis [here](http://spreadsheets.latimes.com/california-ceo-compensation/), and ultimately came from [filings](https://www.sec.gov/answers/proxyhtf.htm) mandated by the SEC from all publicly-traded companies.  Two companies have two CEOs, so there are 102 CEOs in the dataset.\n",
    "\n",
    "We've copied the data in raw form from the LA Times page into a file called `raw_compensation.csv`.  (The page notes that all dollar amounts are in millions of dollars.)"
   ]
  },
  {
   "cell_type": "code",
   "execution_count": null,
   "metadata": {
    "scrolled": true
   },
   "outputs": [],
   "source": [
    "raw_compensation = Table.read_table('raw_compensation.csv')\n",
    "raw_compensation"
   ]
  },
  {
   "cell_type": "markdown",
   "metadata": {},
   "source": [
    "**Question 1.1.** We want to compute the average of the CEOs' pay. Try running the cell below."
   ]
  },
  {
   "cell_type": "code",
   "execution_count": null,
   "metadata": {},
   "outputs": [],
   "source": [
    "np.average(raw_compensation.column(\"Total Pay\"))"
   ]
  },
  {
   "cell_type": "markdown",
   "metadata": {},
   "source": [
    "You should see a TypeError. **Before proceeding, make sure to comment out the line so there's no error!** Let's examine why this error occured by looking at the values in the \"Total Pay\" column. Use the `type` function and set `total_pay_type` to the type of _the first item_ from the \"Total Pay\" column."
   ]
  },
  {
   "cell_type": "code",
   "execution_count": null,
   "metadata": {},
   "outputs": [],
   "source": [
    "total_pay_type = ...\n",
    "total_pay_type"
   ]
  },
  {
   "cell_type": "code",
   "execution_count": null,
   "metadata": {},
   "outputs": [],
   "source": [
    "grader.check(\"q1_1\")"
   ]
  },
  {
   "cell_type": "markdown",
   "metadata": {},
   "source": [
    "**Question 1.2.** You should have found that the values in `Total Pay` column are strings (text). It doesn't make sense to take the average of the text values, so we need to convert them to numbers if we want to do this. Extract the first value in the \"Total Pay\" column.  It's Mark Hurd's pay in 2015, in *millions* of dollars.  Call it `mark_hurd_pay_string`."
   ]
  },
  {
   "cell_type": "code",
   "execution_count": null,
   "metadata": {},
   "outputs": [],
   "source": [
    "mark_hurd_pay_string = ...\n",
    "mark_hurd_pay_string"
   ]
  },
  {
   "cell_type": "code",
   "execution_count": null,
   "metadata": {},
   "outputs": [],
   "source": [
    "grader.check('q1_2')"
   ]
  },
  {
   "cell_type": "markdown",
   "metadata": {},
   "source": [
    "**Question 1.3.** Convert `mark_hurd_pay_string` to a number of *dollars*.  The string method `strip` will be useful for removing the dollar sign; it removes a specified character from the start or end of a string.  For example, the value of `\"100%\".strip(\"%\")` is the string `\"100\"` (because `strip` will remove the `%` that's at the end).  \n",
    "\n",
    "You'll also need the function `float`, which converts a string that looks like a number to an actual number.  Last, remember that the answer should be in *dollars*, **not** millions of dollars."
   ]
  },
  {
   "cell_type": "code",
   "execution_count": null,
   "metadata": {},
   "outputs": [],
   "source": [
    "mark_hurd_pay = ...\n",
    "mark_hurd_pay"
   ]
  },
  {
   "cell_type": "code",
   "execution_count": null,
   "metadata": {},
   "outputs": [],
   "source": [
    "grader.check('q1_3')"
   ]
  },
  {
   "cell_type": "markdown",
   "metadata": {},
   "source": [
    "To compute the average pay, we need to do this for every CEO.  But that looks like it would involve copying this code 102 times.\n",
    "\n",
    "Any time you want to copy/paste something a bunch of times, don't do it!\n",
    "\n",
    "This is where functions come in.  Later in this lab, we'll define a new function, giving a name to the expression that converts \"total pay\" strings to numeric values.  Then we'll see the payoff: we can call that function on every pay string in the dataset at once.\n",
    "\n",
    "For now, let's learn how to create, or as commonly said, *define*, new functions."
   ]
  },
  {
   "cell_type": "markdown",
   "metadata": {},
   "source": [
    "## 2. Defining functions\n",
    "\n",
    "Let's write a very simple function that converts a proportion to a percentage by multiplying it by 100.  For example, the value of `to_percentage(.5)` should be the number 50.  (No percent sign.)\n",
    "\n",
    "A **function definition** has a few parts:\n",
    "* a keyword `def`\n",
    "* a name of the function\n",
    "* a function \"signature\"\n",
    "* highly recommended documentation of the function\n",
    "* a body of the function\n",
    "* a `return` statement.\n",
    "\n",
    "Let's look closely at each part.\n",
    "\n",
    "#### `def`\n",
    "It always starts with `def` (short for **def**ine):\n",
    "\n",
    "    def\n",
    "\n",
    "#### Name\n",
    "Next comes the name of the function. When you are creating functions, you get to name them. Remember that meaningful function names make your code easier to read and understand.  Let's call our function `to_percentage`.\n",
    "    \n",
    "    def to_percentage\n",
    "\n",
    "#### Signature / declaration\n",
    "Next comes something called the *signature* of the function.  It tells Python how many arguments your function should have, and what names you'll use to refer to those arguments in the function's code.  \n",
    "\n",
    "> *Definition alert*: \n",
    "> * **Parameter** is a variable defined in the function signature/declaration.\n",
    "> * **Argument** is the *actual value* of this variable that get passed to the function during the *function call*. \n",
    "\n",
    "`to_percentage` should take one argument, and we'll call that argument `proportion` since it should represent a proportion that we want to convert.\n",
    "\n",
    "    def to_percentage(proportion)\n",
    "    \n",
    "*Note:* it is up to us what to call the parameters; just like with the other variables that we create, we get to name the parameters in the function signature.\n",
    "    \n",
    "If we had more parameters, we would separate them with commas. Note that the parameters are always included within the opening `(` and closing `)` set of parentheses.\n",
    "\n",
    "We put a colon after the signature to tell Python that we are finished with the signature.\n",
    "\n",
    "    def to_percentage(proportion):\n",
    "\n",
    "#### Documentation\n",
    "Functions can do complicated things, so you should write an explanation of what your function does.  For small functions, this is less important, but it's a good habit to learn from the start.  Conventionally, Python functions are documented by writing a triple-quoted string:\n",
    "\n",
    "    def to_percentage(proportion):\n",
    "        \"\"\"Converts a proportion to a percentage.\"\"\"\n",
    "\n",
    "The triple-quoted string allows you to write a multi-line comment. For example, we could have also written it as follows (helpful when you have more a complicated signature):\n",
    "\n",
    "    def to_percentage(proportion):\n",
    "        \"\"\"\n",
    "        Converts a proportion to a percentage.\n",
    "        Input: proportion to convert\n",
    "        Return: percentage\n",
    "        \"\"\"\n",
    "\n",
    "\n",
    "    \n",
    "#### Body\n",
    "Now we start writing code that runs when the function is called.  This is called the *body* of the function and every line **must be indented with a tab**.  Any lines that are *not* indented and left-aligned with the `def` statement are considered to be *outside the function*. \n",
    "\n",
    "Some notes about the body of the function:\n",
    "- We can write code that we would write anywhere else.  \n",
    "- We use the _parameters_ defined in the function signature. We can do this because we assume that when we call the function, values (which we call *arguments*) are already assigned to those parameters.\n",
    "- We generally avoid referencing variables defined *outside* the function. If you would like to reference variables outside of the function, pass them through as arguments!\n",
    "\n",
    "\n",
    "Now, let's give a name to the number we multiply a proportion by to get a percentage:\n",
    "\n",
    "    def to_percentage(proportion):\n",
    "        \"\"\"Converts a proportion to a percentage.\"\"\"\n",
    "        factor = 100\n",
    "\n",
    "#### `return`\n",
    "The special instruction `return` is part of the function's body and tells Python to make the value of the function call equal to whatever comes right after `return`.  We want the value of `to_percentage(.5)` to be the proportion .5 multiplied by the factor 100, so we write:\n",
    "\n",
    "    def to_percentage(proportion):\n",
    "        \"\"\"Converts a proportion to a percentage.\"\"\"\n",
    "        factor = 100\n",
    "        return proportion * factor\n",
    "        \n",
    "`return` only makes sense in the context of a function, and **can never be used outside of a function**. `return` is always the last line of the function because Python stops executing the body of a function once it hits a `return` statement.\n",
    "\n",
    "*Side note:* we can have a complicated function that can have multiple `return` values, but in this class, we will constrain ourselves to the single `return` at the end of the function body.\n",
    "\n",
    "**Important:**  `return` inside a function tells Python what value the function evaluates to. However, there are other functions, like `print`, that have no `return` value. For example, `print` simply prints the provided arguments to the console. \n",
    "\n",
    "`return` and `print` are **very** different. Do not use them interchangeably!\n",
    "\n",
    "*Note:* If a function does not have an explicit `return` statement, then Python automatically returns `None` to indicate that there was no value to return.\n",
    "\n",
    "-----\n",
    "\n",
    "That's it! We just finished defining a new function called `to_percentage`. This name now refers to the sets of steps that we included in the function body and just like other named things, functions stick around after you define them.\n",
    "\n",
    "Now, in order to use/execute `to_percentage`, we need to **_call_ this function** and provide some specific _values_ as its **input arguments**, which will be substituted for the **parameters** that we defined in the function signature.\n",
    "\n",
    "For example, to convert 0.99 using our function, we would call it as follows: \n",
    "`to_percentage(.99)`. If we want to save the result of this function call, we would need to assign its return value to a variable, which you'll get to do in the example below."
   ]
  },
  {
   "cell_type": "markdown",
   "metadata": {},
   "source": [
    "#### Define `to_percentage`\n",
    "\n",
    "**Question 2.1.** Define `to_percentage` function in the cell below.\n",
    "\n",
    "*Hint:* If you are not sure what to do, read the instructions in the preceding cell carefully."
   ]
  },
  {
   "cell_type": "code",
   "execution_count": null,
   "metadata": {
    "for_assignment_type": "student"
   },
   "outputs": [],
   "source": [
    "def ...\n",
    "    \"\"\" ... \"\"\"\n",
    "    ... = ...\n",
    "    return ..."
   ]
  },
  {
   "cell_type": "markdown",
   "metadata": {},
   "source": [
    "Now, call this function that you defined above to convert the proportion `0.2` to a percentage.  Name the result of this function (the resulting percentage) `twenty_percent`. \n",
    "\n",
    "*Quick Aside:* Note that you should not name your variable based on the _value_ it holds: variable values can change, so its name should reflect the meaning or usage of the variable. In this case, since we are writing just a quick test, and we are not using this variable anywhere else, we'll use this unconventional name."
   ]
  },
  {
   "cell_type": "code",
   "execution_count": null,
   "metadata": {},
   "outputs": [],
   "source": [
    "twenty_percent = ...\n",
    "twenty_percent"
   ]
  },
  {
   "cell_type": "code",
   "execution_count": null,
   "metadata": {},
   "outputs": [],
   "source": [
    "grader.check('q2_1')"
   ]
  },
  {
   "cell_type": "markdown",
   "metadata": {},
   "source": [
    "Like the built-in functions, you can use named values (also known as *variables*) as arguments to your function.\n",
    "\n",
    "**Question 2.2.** Use `to_percentage` again to convert the proportion named `a_proportion` (defined below) to a percentage called `a_percentage`.\n",
    "\n",
    "*Note:* You don't need to define `to_percentage` again!  Just like other named things, functions stick around after you define them."
   ]
  },
  {
   "cell_type": "code",
   "execution_count": null,
   "metadata": {},
   "outputs": [],
   "source": [
    "a_proportion = 2**(.5) / 2\n",
    "a_percentage = ...\n",
    "a_percentage"
   ]
  },
  {
   "cell_type": "code",
   "execution_count": null,
   "metadata": {},
   "outputs": [],
   "source": [
    "grader.check('q2_2')"
   ]
  },
  {
   "cell_type": "markdown",
   "metadata": {},
   "source": [
    "Here's something important about functions: **the names assigned within a function body are only accessible within the function body**. Once the function has returned, those names are gone.  So even though you defined `factor = 100` inside `to_percentage` above and then called `to_percentage`, you cannot refer to `factor` anywhere except inside the body of `to_percentage`:\n",
    "\n",
    "*Note:* Keep in mind that this cell intentionally causes an error if you want to use Run All!"
   ]
  },
  {
   "cell_type": "code",
   "execution_count": null,
   "metadata": {},
   "outputs": [],
   "source": [
    "# You should see an error when you run this.  (If you don't, \n",
    "# you might have defined factor somewhere above.)\n",
    "factor"
   ]
  },
  {
   "cell_type": "markdown",
   "metadata": {},
   "source": [
    "**Before proceeding, comment the line in the above cell to remove the error!**"
   ]
  },
  {
   "cell_type": "markdown",
   "metadata": {},
   "source": [
    "Let's write another function to ensure that you understand what is going on.\n",
    "\n",
    "#### Define `square`\n",
    "\n",
    "**Question 2.3.** Define a function called ``square``. It should take a single float as its argument. (You can call that argument whatever you want.) It should return the square of the argument.\n",
    "\n",
    "*Hint:* In the previous labs, you have seen a couple of different ways to square a number: some included an exponentiation operator, others used a built-in function."
   ]
  },
  {
   "cell_type": "code",
   "execution_count": null,
   "metadata": {},
   "outputs": [],
   "source": [
    "def ...\n",
    "    return ..."
   ]
  },
  {
   "cell_type": "code",
   "execution_count": null,
   "metadata": {},
   "outputs": [],
   "source": [
    "grader.check('q2_3')"
   ]
  },
  {
   "cell_type": "markdown",
   "metadata": {},
   "source": [
    "As we've seen with the built-in functions, functions can also take strings (or arrays, or tables) as arguments, and they can return those things, too.\n",
    "\n",
    "#### Define a function for strings\n",
    "\n",
    "**Question 2.4.** Define a function called `concatenate_two_strings`.  It should take two strings as its arguments.  (You can call the arguments whatever you want.)  It should return a string that is the same as joining the two strings end-to-end. For example, `concatenate_two_string(\"snow\", \"ball\")` should return `snowball`.\n",
    "\n",
    "*Hint:* Remember that `+` works on strings too! "
   ]
  },
  {
   "cell_type": "code",
   "execution_count": null,
   "metadata": {},
   "outputs": [],
   "source": [
    "def ...(..., ...):\n",
    "    ...\n",
    "    \n",
    "# An example call to your function.  (It's often helpful to run\n",
    "# an example call from time to time while you're writing a function,\n",
    "# to see how it currently works.)\n",
    "concatenate_two_strings(\"snow\", \"ball\")"
   ]
  },
  {
   "cell_type": "code",
   "execution_count": null,
   "metadata": {},
   "outputs": [],
   "source": [
    "grader.check('q2_4')"
   ]
  },
  {
   "cell_type": "markdown",
   "metadata": {},
   "source": [
    "#### Calls on calls on calls\n",
    "Just as you write a series of lines to build up a complex computation, it's useful to define a series of small functions that build on each other.  Since you can write any code inside a function's body, you can call other functions you've written.\n",
    "\n",
    "If a function is like a recipe, defining a function in terms of other functions is like having a recipe for cake telling you to follow another recipe to make the frosting, and another to make the sprinkles.  This makes the cake recipe shorter and clearer, and it avoids having a bunch of duplicated frosting recipes.  It's a foundation of productive programming.\n",
    "\n",
    "For example, suppose you want to count the total number of characters in three strings. One way to do that is to concatenate all of them and count the size of the resulting string.\n",
    "\n",
    "**Question 2.4.** Write a function called `len_three_strings`.  It should take three strings as its arguments. (You can call them whatever you like.) Inside the definition of the function, you should make _two function calls_ to `concatenate_two_strings`. Finally `len_three_strings` should return a number, which is the total number of characters in the three strings.\n",
    "\n",
    "*Hint:* The function `len` takes a string as its argument and returns the number of characters in it."
   ]
  },
  {
   "cell_type": "code",
   "execution_count": null,
   "metadata": {},
   "outputs": [],
   "source": [
    "def ...\n",
    "    ..."
   ]
  },
  {
   "cell_type": "code",
   "execution_count": null,
   "metadata": {},
   "outputs": [],
   "source": [
    "grader.check('q2_5')"
   ]
  },
  {
   "cell_type": "markdown",
   "metadata": {},
   "source": [
    "### Usin functions with tables\n",
    "\n",
    "Let's now combine what we learned about functions with tables.\n",
    "\n",
    "Functions can also encapsulate code that *displays output* instead of computing a value. For example, if you call `print` inside a function, and then call that function, something will get printed.\n",
    "\n",
    "The `movies_by_year` dataset in the textbook has information about movie sales in recent years.  Suppose you'd like to display the year with the 5th-highest total gross movie sales, printed in a human-readable way.  You might do this:"
   ]
  },
  {
   "cell_type": "code",
   "execution_count": null,
   "metadata": {},
   "outputs": [],
   "source": [
    "movies_by_year = Table.read_table(\"movies_by_year.csv\")\n",
    "rank = 5\n",
    "fifth_from_top_movie_year = movies_by_year.sort(\"Total Gross\", descending=True).column(\"Year\").item(rank-1)\n",
    "print(\"Year number\", rank, \"for total gross movie sales was:\", fifth_from_top_movie_year)"
   ]
  },
  {
   "cell_type": "markdown",
   "metadata": {},
   "source": [
    "After writing this, you realize you also wanted to print out the 2nd and 3rd-highest years.  Instead of copying your code, you decide to put it in a function.  Since the rank varies, you make that an argument to your function.\n",
    "\n",
    "**Question 2.5.** Write a function called `print_kth_top_movie_year`.  It should take a single argument, the rank of the year (like 2, 3, or 5 in the above examples).  It prints out the year with the kth-highest total gross movie sales.\n",
    "\n",
    "Note that you can write any number of lines of code in the function body. Don't be restricted by our template!"
   ]
  },
  {
   "cell_type": "code",
   "execution_count": null,
   "metadata": {
    "for_assignment_type": "student"
   },
   "outputs": [],
   "source": [
    "def print_kth_top_movie_year(k):\n",
    "    movies_by_year = Table.read_table(\"movies_by_year.csv\")\n",
    "    ...\n",
    "    print(...)\n",
    "\n",
    "# Example calls to your function:\n",
    "print_kth_top_movie_year(2)\n",
    "print_kth_top_movie_year(3)"
   ]
  },
  {
   "cell_type": "code",
   "execution_count": null,
   "metadata": {},
   "outputs": [],
   "source": [
    "grader.check('q2_6')"
   ]
  },
  {
   "cell_type": "markdown",
   "metadata": {},
   "source": [
    "### `print` is not the same as `return`\n",
    "The `print_kth_top_movie_year(k)` function prints the total gross movie sales for the year that was provided! However, since we did not return any value in this function, we can not use it after we call it. Let's look at an example of another function that prints a value but does not return it."
   ]
  },
  {
   "cell_type": "code",
   "execution_count": null,
   "metadata": {},
   "outputs": [],
   "source": [
    "def print_number_five():\n",
    "    print(5)"
   ]
  },
  {
   "cell_type": "code",
   "execution_count": null,
   "metadata": {},
   "outputs": [],
   "source": [
    "print_number_five()"
   ]
  },
  {
   "cell_type": "markdown",
   "metadata": {},
   "source": [
    "However, if we try to use the output of `print_number_five()`, we see that the value `5` is printed but we get a TypeError when we try to add the number 2 to it!"
   ]
  },
  {
   "cell_type": "code",
   "execution_count": null,
   "metadata": {},
   "outputs": [],
   "source": [
    "print_number_five_output = print_number_five()\n",
    "print_number_five_output + 2"
   ]
  },
  {
   "cell_type": "markdown",
   "metadata": {},
   "source": [
    "**Before proceeding, make sure to comment out the line above so there's no error**\n",
    "\n",
    "It may seem that `print_number_five()` is returning a value, 5. In reality, it just displays the number 5 to you without giving you the actual value! If your function prints out a value without returning it and you try to use that value, you will run into errors, so be careful!\n",
    "\n",
    "If you are curious to see what's stored inside the `print_number_five_output` you can print its value, just like you would print the contents of any other variable. If you run into errors and see this value in your output, you might want to double-check if you are using `print` when you needed to use `return` instead."
   ]
  },
  {
   "cell_type": "code",
   "execution_count": null,
   "metadata": {},
   "outputs": [],
   "source": [
    "### Reveal what's stored inside the print_number_five_output variable\n",
    "..."
   ]
  },
  {
   "cell_type": "markdown",
   "metadata": {},
   "source": [
    "## 3. `apply`ing functions\n",
    "\n",
    "### 3.1 Function names as arguments\n",
    "\n",
    "Defining a function is a lot like giving a name to a value with `=`.  In fact, a function is a value (an object, to be exact) just like the number 1 or the text \"the\"!\n",
    "\n",
    "For example, we can make a new name for the built-in function `max` if we want:"
   ]
  },
  {
   "cell_type": "code",
   "execution_count": null,
   "metadata": {},
   "outputs": [],
   "source": [
    "our_name_for_max = max\n",
    "our_name_for_max(2, 6)"
   ]
  },
  {
   "cell_type": "markdown",
   "metadata": {},
   "source": [
    "The old name for `max` is still around:"
   ]
  },
  {
   "cell_type": "code",
   "execution_count": null,
   "metadata": {},
   "outputs": [],
   "source": [
    "max(2, 6)"
   ]
  },
  {
   "cell_type": "markdown",
   "metadata": {},
   "source": [
    "Try just writing `max` or `our_name_for_max` (or the name of any other function) in a cell, and run that cell.  Python will print out a (very brief) description of the function."
   ]
  },
  {
   "cell_type": "code",
   "execution_count": null,
   "metadata": {},
   "outputs": [],
   "source": [
    "max"
   ]
  },
  {
   "cell_type": "markdown",
   "metadata": {},
   "source": [
    "Now try writing `?max` or `?our_name_for_max` (or the name of any other function) in a cell, and run that cell.  An information box should show up at the bottom of your screen with a longer description of the function."
   ]
  },
  {
   "cell_type": "code",
   "execution_count": null,
   "metadata": {},
   "outputs": [],
   "source": [
    "?our_name_for_max"
   ]
  },
  {
   "cell_type": "markdown",
   "metadata": {},
   "source": [
    "Let's look at what happens when we set `max`to a non-function value. You'll notice that a `TypeError` will occur when you try calling `max`. Things like **integers and strings are not callable**. Look out for any functions that might have been renamed when you encounter this type of error. Such errors might also occur when you think that you are calling a function when, in fact, the name refers to a different value."
   ]
  },
  {
   "cell_type": "code",
   "execution_count": null,
   "metadata": {},
   "outputs": [],
   "source": [
    "max = 6\n",
    "max(2, 6)"
   ]
  },
  {
   "cell_type": "markdown",
   "metadata": {},
   "source": [
    "**Before proceeding, make sure to comment out the line so there's no error**"
   ]
  },
  {
   "cell_type": "code",
   "execution_count": null,
   "metadata": {},
   "outputs": [],
   "source": [
    "# This cell resets max to the built-in function. \n",
    "# Just run this cell, don't change its contents\n",
    "import builtins\n",
    "max = builtins.max"
   ]
  },
  {
   "cell_type": "markdown",
   "metadata": {},
   "source": [
    "Why is this useful?  Since functions are just values, _it's possible to pass them as arguments to other functions_.  Here's a simple but not-so-practical example: we can make an array of functions."
   ]
  },
  {
   "cell_type": "code",
   "execution_count": null,
   "metadata": {},
   "outputs": [],
   "source": [
    "make_array(max, np.average, are.equal_to)"
   ]
  },
  {
   "cell_type": "markdown",
   "metadata": {},
   "source": [
    "**Question 3.1.** Make an array containing any 3 other functions you've seen.  Call it `some_functions`."
   ]
  },
  {
   "cell_type": "code",
   "execution_count": null,
   "metadata": {},
   "outputs": [],
   "source": [
    "some_functions = ...\n",
    "some_functions"
   ]
  },
  {
   "cell_type": "code",
   "execution_count": null,
   "metadata": {},
   "outputs": [],
   "source": [
    "grader.check('q3_1')"
   ]
  },
  {
   "cell_type": "markdown",
   "metadata": {},
   "source": [
    "Working with functions as values can lead to some funny-looking code.  For example, see if you can figure out why this works:"
   ]
  },
  {
   "cell_type": "code",
   "execution_count": null,
   "metadata": {},
   "outputs": [],
   "source": [
    "make_array(max, np.average, are.equal_to).item(0)(4, -2, 7)"
   ]
  },
  {
   "cell_type": "markdown",
   "metadata": {},
   "source": [
    "Next we will see some more practical examples of working with functions as values. But first, let's resolve some unfinished business. Let's define a function that converts a pay string that looks like \"$100.00\" in millions of dollars to a float in dollars."
   ]
  },
  {
   "cell_type": "markdown",
   "metadata": {},
   "source": [
    "**Question 3.2.** Define a function called `convert_pay_string_to_number`. It should take in one single argument, which is a string that looks like \"$100.00\" in millions of dollars, and return a float which is the value of the pay in dollars.\n",
    "\n",
    "*Hint:* Remember what you did in Question 3 of Part 1?"
   ]
  },
  {
   "cell_type": "code",
   "execution_count": null,
   "metadata": {
    "for_assignment_type": "student"
   },
   "outputs": [],
   "source": [
    "def ...\n",
    "    \"\"\"Converts a pay string like '$100' (in millions) to a number of dollars.\"\"\"\n",
    "    ..."
   ]
  },
  {
   "cell_type": "code",
   "execution_count": null,
   "metadata": {},
   "outputs": [],
   "source": [
    "grader.check('q1_4')"
   ]
  },
  {
   "cell_type": "markdown",
   "metadata": {},
   "source": [
    "Let's try using our function `convert_pay_string_to_number`."
   ]
  },
  {
   "cell_type": "code",
   "execution_count": null,
   "metadata": {},
   "outputs": [],
   "source": [
    "convert_pay_string_to_number('$42')"
   ]
  },
  {
   "cell_type": "code",
   "execution_count": null,
   "metadata": {},
   "outputs": [],
   "source": [
    "convert_pay_string_to_number(mark_hurd_pay_string)"
   ]
  },
  {
   "cell_type": "code",
   "execution_count": null,
   "metadata": {},
   "outputs": [],
   "source": [
    "# We can also compute Safra Catz's pay in the same way:\n",
    "convert_pay_string_to_number(raw_compensation.where(\"Name\", are.containing(\"Safra\")).column(\"Total Pay\").item(0))"
   ]
  },
  {
   "cell_type": "markdown",
   "metadata": {},
   "source": [
    "### 3.2 `apply`ing functions to table columns\n",
    "\n",
    "Next, as promised, we will learn how to use this function on every element in a column of a table at once. Let's take a look at the table method `apply`.\n",
    "\n",
    "> `apply` calls a function many times, once on *each* element in a column of a table.  It produces/returns an array of the results.  \n",
    "\n",
    "In the example below, the table that we are working with is `raw_compensation` and we use `apply` on the column `\"Total Pay\"` to convert every CEO's pay to a number, using the `convert_pay_string_to_number` function you defined:"
   ]
  },
  {
   "cell_type": "code",
   "execution_count": null,
   "metadata": {},
   "outputs": [],
   "source": [
    "raw_compensation.apply(convert_pay_string_to_number, \"Total Pay\")"
   ]
  },
  {
   "cell_type": "markdown",
   "metadata": {},
   "source": [
    "Here's an illustration of what that did:\n",
    "\n",
    "<img src=\"apply.png\"/>\n",
    "\n",
    "Note that we didn't write something like `convert_pay_string_to_number()` or `convert_pay_string_to_number(\"Total Pay\")`.  The job of `apply` is to call the function we give it, so instead of calling `convert_pay_string_to_number` ourselves, we **just write its name as an argument** to `apply`.\n",
    "\n",
    "**Question 3.3.** Using `apply`, make a table that's a copy of `raw_compensation` with one more column called \"Total Pay (\\$)\".  It should be the result of applying `convert_pay_string_to_number` to the \"Total Pay\" column, as we did above.  Call the new table `compensation`.\n",
    "\n",
    "*Note:* If you are still confused as to why you need to use \"the result of applying `convert_pay_string_to_number` to the \"Total Pay\" column\", ask yourself:\n",
    "1. how can I make a new table using `with_column`? what does `with_column` expect as input?\n",
    "1. what does `apply` return?\n",
    "1. how do I put them together?\n",
    "\n",
    "Don't hesitate to ask a mentor for clarification or an additional explanation."
   ]
  },
  {
   "cell_type": "code",
   "execution_count": null,
   "metadata": {},
   "outputs": [],
   "source": [
    "compensation = raw_compensation.with_column(\n",
    "    \"Total Pay ($)\",\n",
    "    ...)\n",
    "compensation"
   ]
  },
  {
   "cell_type": "code",
   "execution_count": null,
   "metadata": {},
   "outputs": [],
   "source": [
    "grader.check('q3_2')"
   ]
  },
  {
   "cell_type": "markdown",
   "metadata": {},
   "source": [
    "Now that we have the pay in numbers, we can compute things about them.\n",
    "\n",
    "**Question 3.4.** Compute the average total pay of the CEOs in the dataset."
   ]
  },
  {
   "cell_type": "code",
   "execution_count": null,
   "metadata": {},
   "outputs": [],
   "source": [
    "average_total_pay = ...\n",
    "average_total_pay"
   ]
  },
  {
   "cell_type": "code",
   "execution_count": null,
   "metadata": {},
   "outputs": [],
   "source": [
    "grader.check('q3_3')"
   ]
  },
  {
   "cell_type": "markdown",
   "metadata": {},
   "source": [
    "**Question 3.5.** Companies pay executives in a variety of ways: directly in cash; by granting stock or other \"equity\" in the company; or with ancillary benefits (like private jets).  Compute the proportion of each CEO's pay that was cash.  (Your answer should be an array of numbers, one for each CEO in the dataset.)\n",
    "\n",
    "*Hint:* Take a look at the other columns in the `compensation` table and see if any of them would be useful.\n",
    "\n",
    "First, Apply the convert_pay_string_to_number function to convert the Cash Pay column from string to numbers\n"
   ]
  },
  {
   "cell_type": "code",
   "execution_count": null,
   "metadata": {},
   "outputs": [],
   "source": [
    "total_cash = ..."
   ]
  },
  {
   "cell_type": "markdown",
   "metadata": {},
   "source": [
    "Second, compute the proportion using the correct columns.\n",
    "\n",
    "*Note:* You will see a warning pop up in a pink box.  DON'T BE ALARMED!!!!!!!  We'll get to that in a sec."
   ]
  },
  {
   "cell_type": "code",
   "execution_count": null,
   "metadata": {},
   "outputs": [],
   "source": [
    "cash_proportion = ...\n",
    "cash_proportion"
   ]
  },
  {
   "cell_type": "code",
   "execution_count": null,
   "metadata": {},
   "outputs": [],
   "source": [
    "grader.check('q3_4')"
   ]
  },
  {
   "cell_type": "markdown",
   "metadata": {},
   "source": [
    "So what was that warning about?  It says something about \"`true_divide`.\"  As a hint, let's look at the last rows of our `compensation` table."
   ]
  },
  {
   "cell_type": "code",
   "execution_count": null,
   "metadata": {},
   "outputs": [],
   "source": [
    "compensation.take[-5:]"
   ]
  },
  {
   "cell_type": "markdown",
   "metadata": {},
   "source": [
    "Notice anything strange? \n",
    "\n",
    "The warning is Python's cryptic way of telling you that you're dividing a number by zero. As you can see, the last item in column Total Pay ($) is 0."
   ]
  },
  {
   "cell_type": "markdown",
   "metadata": {},
   "source": [
    "A lot of real data is messy.  It might contain zeros, empty values, or `nan`'s (not-a-number) that we need to watch out for when performing calculations! \n",
    "\n",
    "If you're interested in going deeper, try comparing certain outputs of NumPy's version of division, `np.divide`, versus the default Python division operator, `/`."
   ]
  },
  {
   "cell_type": "code",
   "execution_count": null,
   "metadata": {},
   "outputs": [],
   "source": [
    "# this line won't give you error\n",
    "print(np.divide(5 , 0)) \n",
    "# this line will raise zeroDivisionError\n",
    "print(5 / 0) "
   ]
  },
  {
   "cell_type": "markdown",
   "metadata": {},
   "source": [
    "**Before proceeding, if there are any errors, remember to fix the code in the cell above so that there are no errors!**\n",
    "\n",
    "Alright, back to our CEOs.  Check out the `% Change` column in `compensation`.  It shows the percentage increase in the CEO's pay from the previous year.  Given their current pay and the percentage increase from the previous year, you can compute the previous year's pay.  For example, if your pay is 100 dollars this year, and that's an increase of 50 percent from the previous year, then your previous year's pay was $\\frac{100}{1 + \\frac{50}{100}}$ dollars, or around 66.66 dollars.\n",
    "\n",
    "For CEOs with no previous year on record, it instead says \"(No previous year)\".  The values in this column are *strings*, not numbers, so like the \"Total Pay\" column, it's not usable without a bit of extra work.\n",
    "\n",
    "**Question 3.6.** Create a new table called `with_previous_compensation`.  It should be a copy of `compensation`, but with the \"(No previous year)\" CEOs filtered out, and with an extra column called `2014 Total Pay ($)`.  That column should have each CEO's pay in 2014.\n",
    "\n",
    "*Hint:* This question takes several steps, but each one is still something you've seen before.  Take it one step at a time, using as many lines as you need.  You can print out your results after each step to make sure you're on the right track.\n",
    "\n",
    "*Hint 2:* You'll need to define the function percent_string_to_num.  You can do that just above your other code as shown in the template.\n",
    "\n",
    "*Hint 3:* We've provided a structure that you can use to get to the answer. However, if it's confusing, feel free to delete the current structure and approach the problem your own way!"
   ]
  },
  {
   "cell_type": "code",
   "execution_count": null,
   "metadata": {
    "for_assignment_type": "student"
   },
   "outputs": [],
   "source": [
    "# Definition to turn percent to number\n",
    "def percent_string_to_num(percent_string):\n",
    "    \"\"\"Converts a percentage string to a number.\n",
    "    For example, the output should convert the percentage string 25% to float number 0.25.\n",
    "    \"\"\"\n",
    "    return ...\n",
    "\n",
    "# Compensation table where there is a previous year\n",
    "having_previous_year = ...\n",
    "\n",
    "# Get the percent changes as numbers instead of strings\n",
    "# We're still working off the table having_previous_year\n",
    "percent_changes = ...\n",
    "\n",
    "# Calculate the previous year's pay\n",
    "# We're still working off the table having_previous_year\n",
    "previous_pay = ...\n",
    "\n",
    "# Put the previous pay column into the having_previous_year table\n",
    "with_previous_compensation = ...\n",
    "\n",
    "with_previous_compensation"
   ]
  },
  {
   "cell_type": "code",
   "execution_count": null,
   "metadata": {},
   "outputs": [],
   "source": [
    "grader.check('q3_6')"
   ]
  },
  {
   "cell_type": "markdown",
   "metadata": {},
   "source": [
    "**Question 3.7.** What was the average pay of these CEOs in 2014?"
   ]
  },
  {
   "cell_type": "code",
   "execution_count": null,
   "metadata": {},
   "outputs": [],
   "source": [
    "average_pay_2014 = ...\n",
    "average_pay_2014"
   ]
  },
  {
   "cell_type": "code",
   "execution_count": null,
   "metadata": {},
   "outputs": [],
   "source": [
    "grader.check('q3_7')"
   ]
  },
  {
   "cell_type": "markdown",
   "metadata": {},
   "source": [
    "**Question 3.8.** According to the [data](https://www1.salary.com/Safra-A-Catz-Salary-Bonus-Stock-Options-for-Oracle-Corp.html) in the fiscal year 2018, Safra Catz made in total $108,282,333. Earlier, we computed how much Safra Catz made in 2015. What is the overall growth rate of Safra Catz's total pay from 2015 to 2018?\n",
    "\n",
    "*Hint:* The formula for growth rate can be found [here](https://www.inferentialthinking.com/chapters/03/2/1/Growth.html).\n",
    "\n",
    "*Hint:* Safra Catz's name is `Safra A. Catz*` in the table."
   ]
  },
  {
   "cell_type": "code",
   "execution_count": null,
   "metadata": {},
   "outputs": [],
   "source": [
    "safra_catz_pay_2015 = ...\n",
    "safra_catz_pay_2018 = ...\n",
    "safra_catz_pay_growth_rate = ...\n",
    "safra_catz_pay_growth_rate"
   ]
  },
  {
   "cell_type": "code",
   "execution_count": null,
   "metadata": {},
   "outputs": [],
   "source": [
    "grader.check('q3_9')"
   ]
  },
  {
   "cell_type": "markdown",
   "metadata": {},
   "source": [
    "This is an increase over 100%!"
   ]
  },
  {
   "cell_type": "markdown",
   "metadata": {},
   "source": [
    "**Why is `apply` useful?**\n",
    "\n",
    "For operations like arithmetic, or the functions in the NumPy library, you don't need to use `apply`, because they automatically work on each element of an array.  But there are many things that don't.  The string manipulation we did in today's lab is one example.  Since you can write any code you want in a function, `apply` gives you total control over how you operate on data."
   ]
  },
  {
   "cell_type": "markdown",
   "metadata": {},
   "source": [
    "Great job! :D You're finished with lab 4! \n",
    "\n",
    "* Make sure you **save the notebook** first, \n",
    "* Then go up to the `Kernel` menu and select `Restart & Clear Output` (make sure the notebook is saved first, because otherwise, you will lose all your work!). \n",
    "* Now, go to `Cell -> Run All`. Carefully look through your notebook and verify that all computations execute correctly. You should see **no errors**; if there are any errors, make sure to correct them before you submit the notebook.\n",
    "* Then, go to `File -> Download as -> Notebook` and download the notebook to your own computer. ([Please verify](https://ucsb-ds.github.io/ds1-f20/troubleshooting/#i-downloaded-the-notebook-file-but-it-saves-as-the-ipynbjson-extension-so-whenever-i-upload-it-to-gradescope-it-fails) that it got saved as an .ipynb file.)\n",
    "* Upload the notebook to [Gradescope](https://www.gradescope.com/).\n",
    "\n"
   ]
  },
  {
   "cell_type": "code",
   "execution_count": null,
   "metadata": {},
   "outputs": [],
   "source": []
  }
 ],
 "metadata": {
  "anaconda-cloud": {},
  "kernelspec": {
   "display_name": "Python 3",
   "language": "python",
   "name": "python3"
  },
  "language_info": {
   "codemirror_mode": {
    "name": "ipython",
    "version": 3
   },
   "file_extension": ".py",
   "mimetype": "text/x-python",
   "name": "python",
   "nbconvert_exporter": "python",
   "pygments_lexer": "ipython3",
   "version": "3.8.0"
  },
  "toc": {
   "base_numbering": 1,
   "nav_menu": {},
   "number_sections": false,
   "sideBar": true,
   "skip_h1_title": false,
   "title_cell": "Table of Contents",
   "title_sidebar": "Contents",
   "toc_cell": false,
   "toc_position": {},
   "toc_section_display": true,
   "toc_window_display": true
  }
 },
 "nbformat": 4,
 "nbformat_minor": 1
}
