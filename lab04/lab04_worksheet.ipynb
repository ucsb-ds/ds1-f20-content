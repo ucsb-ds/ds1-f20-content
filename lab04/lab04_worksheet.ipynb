{
 "cells": [
  {
   "cell_type": "markdown",
   "metadata": {},
   "source": [
    "# Lab 4 Worksheet\n",
    "## \"Visibility\" of Variables"
   ]
  },
  {
   "cell_type": "code",
   "execution_count": null,
   "metadata": {
    "scrolled": true
   },
   "outputs": [],
   "source": [
    "flower = \"rose\"\n",
    "\n",
    "def print_and_return_fav_flower(flower):\n",
    "    flower = \"lily\"\n",
    "    return flower\n",
    "\n",
    "print(flower) # 1. what is the value of flower?\n",
    "my_favorite_flower = print_and_return_fav_flower(flower) \n",
    "print(my_favorite_flower) # 2. what is the value of my_favorite_flower?\n",
    "print(flower) # 3. what is the value of flower?\n"
   ]
  }
 ],
 "metadata": {
  "kernelspec": {
   "display_name": "Python 3",
   "language": "python",
   "name": "python3"
  },
  "language_info": {
   "codemirror_mode": {
    "name": "ipython",
    "version": 3
   },
   "file_extension": ".py",
   "mimetype": "text/x-python",
   "name": "python",
   "nbconvert_exporter": "python",
   "pygments_lexer": "ipython3",
   "version": "3.8.0"
  },
  "toc": {
   "base_numbering": 1,
   "nav_menu": {},
   "number_sections": true,
   "sideBar": true,
   "skip_h1_title": false,
   "title_cell": "Table of Contents",
   "title_sidebar": "Contents",
   "toc_cell": false,
   "toc_position": {},
   "toc_section_display": true,
   "toc_window_display": false
  }
 },
 "nbformat": 4,
 "nbformat_minor": 4
}
