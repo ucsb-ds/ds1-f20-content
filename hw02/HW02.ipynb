{
 "cells": [
  {
   "cell_type": "markdown",
   "metadata": {},
   "source": [
    "# Homework 2: Iteration and Simulations\n",
    "\n",
    "Welcome to HW 2! \n",
    "\n",
    "We will go over [iteration](https://www.inferentialthinking.com/chapters/09/2/Iteration.html) and [simulations](https://www.inferentialthinking.com/chapters/09/3/Simulation.html).\n",
    "\n",
    "In this assignment you will be using\n",
    "* Boolean operators \n",
    "* `if` / `else` / `elif` conditional statements\n",
    "* `np.random.choice(array_name)`\n",
    "* functions that you defined yourself\n",
    "* `apply` method for tables\n",
    "* iterating over arrays using `for` loops\n",
    "* simulation steps to compute different statistics\n",
    "* `in` and `not in` operators to check for presence of values\n",
    "* `np.append` method to add values to an array\n",
    "\n",
    "First, set up the tests and imports by running the cell below."
   ]
  },
  {
   "cell_type": "code",
   "execution_count": 1,
   "metadata": {},
   "outputs": [],
   "source": [
    "# Run this cell, but please don't change it.\n",
    "\n",
    "# These lines import the Numpy and Datascience modules.\n",
    "import numpy as np\n",
    "from datascience import *\n",
    "\n",
    "# These lines do some fancy plotting magic\n",
    "import matplotlib\n",
    "%matplotlib inline\n",
    "import matplotlib.pyplot as plt\n",
    "plt.style.use('fivethirtyeight')\n",
    "\n",
    "# Don't change this cell; just run it. \n",
    "import otter\n",
    "grader = otter.Notebook()"
   ]
  },
  {
   "cell_type": "markdown",
   "metadata": {},
   "source": [
    "## 1. For Loops\n",
    "Using a `for` statement, we can perform a task multiple times. This is known as iteration.\n",
    "\n",
    "One use of iteration is to loop through a set of values. For instance, we can print out all of the colors of the rainbow (and capitalize each word while we are at it!)."
   ]
  },
  {
   "cell_type": "code",
   "execution_count": 2,
   "metadata": {},
   "outputs": [
    {
     "name": "stdout",
     "output_type": "stream",
     "text": [
      "Red\n",
      "Orange\n",
      "Yellow\n",
      "Green\n",
      "Blue\n",
      "Indigo\n",
      "Violet\n"
     ]
    }
   ],
   "source": [
    "rainbow = make_array(\"red\", \"orange\", \"yellow\", \"green\", \"blue\", \"indigo\", \"violet\")\n",
    "\n",
    "for color in rainbow:\n",
    "    print(color.title())"
   ]
  },
  {
   "cell_type": "markdown",
   "metadata": {},
   "source": [
    "We can see that the indented part of the `for` loop, known as the body, is executed once for each item in `rainbow`. The name `color` is assigned to the next value in `rainbow` at the start of each iteration. Note that the name `color` is arbitrary; we could easily have named it something else. The important thing is we stay consistent throughout the `for` loop. \n",
    "\n",
    "```\n",
    "BEGIN QUESTION\n",
    "name: q10\n",
    "points: 1\n",
    "manual: true\n",
    "```"
   ]
  },
  {
   "cell_type": "code",
   "execution_count": 3,
   "metadata": {},
   "outputs": [
    {
     "name": "stdout",
     "output_type": "stream",
     "text": [
      "red\n",
      "orange\n",
      "yellow\n",
      "green\n",
      "blue\n",
      "indigo\n",
      "violet\n"
     ]
    }
   ],
   "source": [
    "for another_name in rainbow:\n",
    "    # please print out the colors below\n",
    "    print(another_name) # SOLUTION"
   ]
  },
  {
   "cell_type": "markdown",
   "metadata": {},
   "source": [
    "In general, however, we would like the variable name to be somewhat informative. "
   ]
  },
  {
   "cell_type": "markdown",
   "metadata": {},
   "source": [
    "---\n",
    "\n",
    "Another way in which we can retrieve every element in our array is by using the **array indexing**. We will need to generate a sequence of the array index values that the `for` loop will use to get the requested elements.\n",
    "\n",
    "Usually, the structure of that loop will involve using `np.arange` and the `len` of the array. If we don't want to start from the beginning and/or we don't want every single element in the order that they appear in the array, we now have more flexibility in how we structure the range, which will be used by the loop."
   ]
  },
  {
   "cell_type": "markdown",
   "metadata": {},
   "source": [
    "**Question 1.1.1.** Let's do an example of summing all the elements in an array. Replace the ellipsis with the code according to the instructions in the cell below. \n",
    "\n",
    "*Note*: Remember that you can verify your answer by looking at the contents of your array and verifying your code's result.\n",
    "\n",
    "```\n",
    "BEGIN QUESTION\n",
    "name: q111\n",
    "points: 2\n",
    "manual: false\n",
    "```"
   ]
  },
  {
   "cell_type": "code",
   "execution_count": 4,
   "metadata": {},
   "outputs": [
    {
     "data": {
      "text/plain": [
       "25"
      ]
     },
     "execution_count": 4,
     "metadata": {},
     "output_type": "execute_result"
    }
   ],
   "source": [
    "# Create an array such that it contains 1, 3, 5, 7, 9\n",
    "my_array = np.arange(1, 10, 2) # SOLUTION\n",
    "\n",
    "# my_sum is initialized to 0. It will be incremented/increased inside the for loop.\n",
    "my_sum = 0 \n",
    "\n",
    "for i in np.arange(len(my_array)):\n",
    "    # Get the i-th element in the array here\n",
    "    my_sum = my_sum + my_array[i] # SOLUTION   \n",
    "    \n",
    "my_sum"
   ]
  },
  {
   "cell_type": "code",
   "execution_count": 5,
   "metadata": {},
   "outputs": [
    {
     "data": {
      "text/plain": [
       "True"
      ]
     },
     "execution_count": 5,
     "metadata": {},
     "output_type": "execute_result"
    }
   ],
   "source": [
    "# HIDDEN TEST\n",
    "my_sum == 25"
   ]
  },
  {
   "cell_type": "code",
   "execution_count": 6,
   "metadata": {},
   "outputs": [
    {
     "data": {
      "text/plain": [
       "True"
      ]
     },
     "execution_count": 6,
     "metadata": {},
     "output_type": "execute_result"
    }
   ],
   "source": [
    "# HIDDEN TEST\n",
    "my_array[3] == my_array[1]*2 + 1"
   ]
  },
  {
   "cell_type": "markdown",
   "metadata": {},
   "source": [
    "**Question 1.1.2.** Let's now use the same array, but this time we'll print and sum _every other element_ in this array, starting with the _second_ element. Store the result in `another_sum`. Replace the ellipsis with the code according to the instructions in the cell below. \n",
    "\n",
    "*Note*: Remember that you can verify your answer by looking at the contents of your array and verifying your code's result.\n",
    "\n",
    "```\n",
    "BEGIN QUESTION\n",
    "name: q112\n",
    "points: 2\n",
    "manual: false\n",
    "```"
   ]
  },
  {
   "cell_type": "code",
   "execution_count": 7,
   "metadata": {},
   "outputs": [
    {
     "data": {
      "text/plain": [
       "10"
      ]
     },
     "execution_count": 7,
     "metadata": {},
     "output_type": "execute_result"
    }
   ],
   "source": [
    "another_sum = 0 \n",
    "\n",
    "# BEGIN SOLUTION\n",
    "for i in np.arange(1, len(my_array), 2):\n",
    "    # Get the i-th element in the array here\n",
    "    another_sum = another_sum + my_array[i]\n",
    "\n",
    "# END SOLUTION\n",
    "\n",
    "another_sum"
   ]
  },
  {
   "cell_type": "code",
   "execution_count": 8,
   "metadata": {},
   "outputs": [
    {
     "data": {
      "text/plain": [
       "True"
      ]
     },
     "execution_count": 8,
     "metadata": {},
     "output_type": "execute_result"
    }
   ],
   "source": [
    "# HIDDEN TEST\n",
    "another_sum == 10"
   ]
  },
  {
   "cell_type": "markdown",
   "metadata": {},
   "source": [
    "**Question 1.1.3.** Let's now create a new array that stores the years between 1990 and 2030 (inclusive of both). If the year is divisible by 3, replace its value in the array with a 0.\n",
    "\n",
    "*Hint*: Remember how modulo `%` works.\n",
    "\n",
    "```\n",
    "BEGIN QUESTION\n",
    "name: q113\n",
    "points: 2\n",
    "manual: false\n",
    "```"
   ]
  },
  {
   "cell_type": "code",
   "execution_count": 9,
   "metadata": {},
   "outputs": [],
   "source": [
    "years = np.arange(1990, 2031) # SOLUTION\n",
    "\n",
    "# BEGIN SOLUTION\n",
    "for i in np.arange(1, len(years)):\n",
    "    if years[i] % 3 == 0:\n",
    "    # Get the i-th element in the array here\n",
    "        years[i] = 0\n",
    "\n",
    "# END SOLUTION"
   ]
  },
  {
   "cell_type": "code",
   "execution_count": 10,
   "metadata": {},
   "outputs": [
    {
     "data": {
      "text/plain": [
       "True"
      ]
     },
     "execution_count": 10,
     "metadata": {},
     "output_type": "execute_result"
    }
   ],
   "source": [
    "# HIDDEN TEST\n",
    "len(years) == 41"
   ]
  },
  {
   "cell_type": "code",
   "execution_count": 11,
   "metadata": {},
   "outputs": [
    {
     "data": {
      "text/plain": [
       "True"
      ]
     },
     "execution_count": 11,
     "metadata": {},
     "output_type": "execute_result"
    }
   ],
   "source": [
    "# HIDDEN TEST\n",
    "years[0] == 1990 and years[-1] == 2030"
   ]
  },
  {
   "cell_type": "code",
   "execution_count": 12,
   "metadata": {},
   "outputs": [
    {
     "data": {
      "text/plain": [
       "True"
      ]
     },
     "execution_count": 12,
     "metadata": {},
     "output_type": "execute_result"
    }
   ],
   "source": [
    "# HIDDEN TEST\n",
    "sum(years) == 56280"
   ]
  },
  {
   "cell_type": "markdown",
   "metadata": {},
   "source": [
    "### *Pride and Prejudice*\n",
    "\n",
    "We have a few questions asking you to analyze the text in the novel [*Pride and Prejudice*](https://en.wikipedia.org/wiki/Pride_and_Prejudice)."
   ]
  },
  {
   "cell_type": "markdown",
   "metadata": {},
   "source": [
    "**Question 1.2.** In the following cell, we've loaded the text of _Pride and Prejudice_ by Jane Austen (from the [Gutenberg project](www.gutenberg.org)), split it into individual words, and stored these words in an array `p_and_p_words`. Using a `for` loop, assign `longer_than_five` to the number of words in the novel that are more than 5 letters long.\n",
    "\n",
    "*Hint*: You can find the number of letters in a word with the `len` function.\n",
    "\n",
    "```\n",
    "BEGIN QUESTION\n",
    "name: q12\n",
    "points: 2\n",
    "manual: false\n",
    "```"
   ]
  },
  {
   "cell_type": "code",
   "execution_count": 13,
   "metadata": {},
   "outputs": [
    {
     "data": {
      "text/plain": [
       "35453"
      ]
     },
     "execution_count": 13,
     "metadata": {},
     "output_type": "execute_result"
    }
   ],
   "source": [
    "austen_string = open('Austen_PrideAndPrejudice.txt', encoding='utf-8').read()\n",
    "p_and_p_words = np.array(austen_string.split())\n",
    "\n",
    "longer_than_five = 0 # SOLUTION\n",
    "\n",
    "# a for loop would be useful here\n",
    "# BEGIN SOLUTION\n",
    "for w in p_and_p_words:\n",
    "    if len(w) > 5:\n",
    "        longer_than_five += 1\n",
    "# END SOLUTION\n",
    "\n",
    "longer_than_five"
   ]
  },
  {
   "cell_type": "code",
   "execution_count": 14,
   "metadata": {},
   "outputs": [
    {
     "data": {
      "text/plain": [
       "True"
      ]
     },
     "execution_count": 14,
     "metadata": {},
     "output_type": "execute_result"
    }
   ],
   "source": [
    "# HIDDEN TEST\n",
    "longer_than_five == 35453"
   ]
  },
  {
   "cell_type": "markdown",
   "metadata": {},
   "source": [
    "**Question 1.3.** In this question, we ask you to count the number of unique words in *Pride and Prejudice*. To do this, first of all, you need to maintain an array of unique words you have already seen, which we will call `seen_words`. Initially this array is empty, because you have not seen anything yet. As you loop through every word in the array `p_and_p_word`, if the word has never appeared before (which means you cannot find it `seen_words`), you add it into `seen_words`.\n",
    "\n",
    "To determine whether an item is in an array, we use the `in` operator. Below are different ways that you can structure your code. Play around with the values to make sure you understand how the code works."
   ]
  },
  {
   "cell_type": "code",
   "execution_count": 15,
   "metadata": {},
   "outputs": [
    {
     "name": "stdout",
     "output_type": "stream",
     "text": [
      "apple is not in the array\n",
      "banana is not in the array\n"
     ]
    }
   ],
   "source": [
    "fruits = make_array('orange', 'banana', 'watermelon')\n",
    "if 'apple' in fruits:\n",
    "    print('apple is in the array')\n",
    "else:\n",
    "    print('apple is not in the array')\n",
    "    \n",
    "if 'kiwi' not in fruits:\n",
    "    print('banana is not in the array')"
   ]
  },
  {
   "cell_type": "markdown",
   "metadata": {},
   "source": [
    "To add an item into an array, we use the method `np.append`."
   ]
  },
  {
   "cell_type": "code",
   "execution_count": 16,
   "metadata": {},
   "outputs": [
    {
     "data": {
      "text/plain": [
       "array(['orange', 'banana', 'watermelon', 'apple'], dtype='<U10')"
      ]
     },
     "execution_count": 16,
     "metadata": {},
     "output_type": "execute_result"
    }
   ],
   "source": [
    "old_array = make_array('orange', 'banana', 'watermelon')\n",
    "new_array = np.append(old_array, 'apple')\n",
    "new_array"
   ]
  },
  {
   "cell_type": "markdown",
   "metadata": {},
   "source": [
    "Now try to count the number of unique words in *Pride and Prejudice*! Note that it will take a while for the code to run completely. Wait at least a minute for the code to run!\n",
    "\n",
    "```\n",
    "BEGIN QUESTION\n",
    "name: q13\n",
    "points: 2\n",
    "manual: false\n",
    "```"
   ]
  },
  {
   "cell_type": "code",
   "execution_count": 17,
   "metadata": {},
   "outputs": [
    {
     "name": "stderr",
     "output_type": "stream",
     "text": [
      "/opt/conda/lib/python3.7/site-packages/ipykernel_launcher.py:7: FutureWarning: elementwise comparison failed; returning scalar instead, but in the future will perform elementwise comparison\n",
      "  import sys\n"
     ]
    },
    {
     "data": {
      "text/plain": [
       "12943"
      ]
     },
     "execution_count": 17,
     "metadata": {},
     "output_type": "execute_result"
    }
   ],
   "source": [
    "num_unique_words = 0 # SOLUTION\n",
    "seen_words = make_array() # SOLUTION\n",
    "\n",
    "# here is a forloop\n",
    "# BEGIN SOLUTION\n",
    "for w in p_and_p_words:\n",
    "    if w not in seen_words:\n",
    "        num_unique_words += 1\n",
    "        seen_words = np.append(seen_words,w)\n",
    "\n",
    "# END SOLUTION\n",
    "num_unique_words"
   ]
  },
  {
   "cell_type": "code",
   "execution_count": 18,
   "metadata": {},
   "outputs": [
    {
     "data": {
      "text/plain": [
       "True"
      ]
     },
     "execution_count": 18,
     "metadata": {},
     "output_type": "execute_result"
    }
   ],
   "source": [
    "# HIDDEN TEST\n",
    "num_unique_words == 12943"
   ]
  },
  {
   "cell_type": "markdown",
   "metadata": {},
   "source": [
    "**Question 1.4.** Have you ever wondered how many times letter 'q' has occured in *Pride and Prejudice*? Well, wonder no more! Count the number of times the letter 'q' appears in *Pride and Prejudice*.\n",
    "\n",
    "*Hint:* Firstly, you need to know how to count the letter 'q' in an arbitrary string. (The next cell tells you how it can be done.) Then, you will need to do this for every word in `p_and_p_words`."
   ]
  },
  {
   "cell_type": "code",
   "execution_count": 19,
   "metadata": {},
   "outputs": [
    {
     "data": {
      "text/plain": [
       "3"
      ]
     },
     "execution_count": 19,
     "metadata": {},
     "output_type": "execute_result"
    }
   ],
   "source": [
    "# In this cell, we count the number of times the letter 'p' appears in the word \"appropriate\".\n",
    "my_word = \"appropriate\" # a sample word\n",
    "num_p_in_my_word = 0 # a counter that keeps a running sum\n",
    "\n",
    "for letter in my_word: #for each letter in the given word\n",
    "    if letter == 'p':\n",
    "        num_p_in_my_word = num_p_in_my_word + 1 # update the counter/sum\n",
    "num_p_in_my_word        "
   ]
  },
  {
   "cell_type": "markdown",
   "metadata": {},
   "source": [
    "Now, try to count the number of times the letter 'q' appears in Pride and Prejudice!\n",
    "\n",
    "```\n",
    "BEGIN QUESTION\n",
    "name: q14\n",
    "points: 2\n",
    "manual: false\n",
    "```"
   ]
  },
  {
   "cell_type": "code",
   "execution_count": 20,
   "metadata": {},
   "outputs": [
    {
     "data": {
      "text/plain": [
       "627"
      ]
     },
     "execution_count": 20,
     "metadata": {},
     "output_type": "execute_result"
    }
   ],
   "source": [
    "num_q = 0 # SOLUTION\n",
    "\n",
    "#write foor loops below\n",
    "# BEGIN SOLUTION\n",
    "for w in p_and_p_words:\n",
    "    for letter in w:\n",
    "        if letter == 'q':\n",
    "            num_q += 1\n",
    "# END SOLUTION\n",
    "num_q"
   ]
  },
  {
   "cell_type": "code",
   "execution_count": 21,
   "metadata": {},
   "outputs": [
    {
     "data": {
      "text/plain": [
       "True"
      ]
     },
     "execution_count": 21,
     "metadata": {},
     "output_type": "execute_result"
    }
   ],
   "source": [
    "# HIDDEN TEST\n",
    "num_q == 627"
   ]
  },
  {
   "cell_type": "markdown",
   "metadata": {},
   "source": [
    "**Question 1.5.** Now suppose we want to count the number of times any arbitrary letter in the alphabet appears in *Pride and Prejudice*. Can we write a function that counts the number of occurrences of a given letter in *Pride and Prejudice*? \n",
    "\n",
    "*Hint:* Test your function by seeing if you get the same result when you count the number of 'q's.\n",
    "\n",
    "```\n",
    "BEGIN QUESTION\n",
    "name: q151\n",
    "points: 2\n",
    "manual: true\n",
    "```"
   ]
  },
  {
   "cell_type": "code",
   "execution_count": 22,
   "metadata": {},
   "outputs": [
    {
     "data": {
      "text/plain": [
       "627"
      ]
     },
     "execution_count": 22,
     "metadata": {},
     "output_type": "execute_result"
    }
   ],
   "source": [
    "def find_num_letter(letter):\n",
    "    \n",
    "    # BEGIN SOLUTION\n",
    "    num_letter = 0\n",
    "    for w in p_and_p_words:\n",
    "        for l in w:\n",
    "            if l == letter:\n",
    "                num_letter += 1\n",
    "    return num_letter\n",
    "    # END SOLUTION\n",
    "    \n",
    "find_num_letter(\"q\")"
   ]
  },
  {
   "cell_type": "markdown",
   "metadata": {},
   "source": [
    "We can test and play with our function `find_num_letter` some more below using the interactive widget."
   ]
  },
  {
   "cell_type": "code",
   "execution_count": 23,
   "metadata": {},
   "outputs": [
    {
     "data": {
      "application/vnd.jupyter.widget-view+json": {
       "model_id": "b4f9d5b96d3644fa922c3ba8e76f4600",
       "version_major": 2,
       "version_minor": 0
      },
      "text/plain": [
       "interactive(children=(Text(value='', description='letter'), Output()), _dom_classes=('widget-interact',))"
      ]
     },
     "metadata": {},
     "output_type": "display_data"
    }
   ],
   "source": [
    "# Run this cell, but please don't change it.\n",
    "# This package is for interactive widget, you're not required to learn it\n",
    "from ipywidgets import widgets, interact\n",
    "\n",
    "_ = interact(find_num_letter, letter=widgets.Text())"
   ]
  },
  {
   "cell_type": "markdown",
   "metadata": {},
   "source": [
    "Which letter is the most common? Which letter is the least common? Assign the values to string `most_common_letter` and `least_common_letter`.\n",
    "\n",
    "\n",
    "```\n",
    "BEGIN QUESTION\n",
    "name: q152\n",
    "points: 2\n",
    "manual: false\n",
    "```"
   ]
  },
  {
   "cell_type": "code",
   "execution_count": 24,
   "metadata": {},
   "outputs": [],
   "source": [
    "most_common_letter = 'e'# SOLUTION\n",
    "least_common_letter = 'j'# SOLUTION"
   ]
  },
  {
   "cell_type": "code",
   "execution_count": 25,
   "metadata": {},
   "outputs": [
    {
     "data": {
      "text/plain": [
       "True"
      ]
     },
     "execution_count": 25,
     "metadata": {},
     "output_type": "execute_result"
    }
   ],
   "source": [
    "# HIDDEN TEST\n",
    "(most_common_letter,least_common_letter) == ('e', 'j')"
   ]
  },
  {
   "cell_type": "markdown",
   "metadata": {},
   "source": [
    "## 2. Simulation"
   ]
  },
  {
   "cell_type": "markdown",
   "metadata": {},
   "source": [
    "Here's an example to help you understand how to simulate using interations. we'll simulate drawing different suits from a deck of cards. Drawing different suits from a deck of cards means picking a card of a specific shape (suit) from the stack (deck) of cards. For example, if we draw a ♤3, we say we have picked a suit ♤.\n",
    "\n",
    "*Note:* The four suits are Spade(♤), heart(♡), club(♧), diamond(♢). \n",
    "\n",
    "```\n",
    "BEGIN QUESTION\n",
    "name: q151\n",
    "points: 2\n",
    "manual: false\n",
    "```"
   ]
  },
  {
   "cell_type": "code",
   "execution_count": 26,
   "metadata": {},
   "outputs": [
    {
     "data": {
      "text/plain": [
       "array(['♡', '♤', '♡', '♡', '♤', '♢'], dtype='<U32')"
      ]
     },
     "execution_count": 26,
     "metadata": {},
     "output_type": "execute_result"
    }
   ],
   "source": [
    "suits = make_array(\"♤\", \"♡\", \"♢\", \"♧\")\n",
    "\n",
    "# below is the array to keep track of the suits drawed in each round\n",
    "draws = make_array() #SOLUTION\n",
    "\n",
    "# we repeat the experiment 6 times\n",
    "repetitions = 6\n",
    "\n",
    "for i in np.arange(repetitions):\n",
    "    #draw a card and append the suit into draws \n",
    "    draws = np.append(draws, np.random.choice(suits))  # SOLUTION\n",
    "\n",
    "draws"
   ]
  },
  {
   "cell_type": "markdown",
   "metadata": {},
   "source": [
    "In the example above, the `for` loop appends a random draw to the `draws` array for every number in `np.arange(repetitions)`. \n",
    "\n",
    "**Make sure that you understand what is happening with this example**, since it will be the basis for the solutions in the questions below.\n",
    "\n",
    "> Here's a nice way to think of what we did above. We had a deck of 4 cards of different suits, we randomly drew one card, saw the suit, kept track of it in `draws` array, and put the card back into the deck. We repeated this for a total of 6 times without having to manually repeat code, thanks to the `for` loop. We simulated this experiment using a `for` loop. "
   ]
  },
  {
   "cell_type": "markdown",
   "metadata": {},
   "source": [
    "## Simulation Steps\n",
    "\n",
    "Most simulations have the following steps: \n",
    "1. Figuring out **the big picture** of what we want to simulate\n",
    "2. Deciding the possible values you can take in the experiment and **simulating one example** \n",
    "3. Deciding **how many times to run through the experiment** and **keeping track** of the total information of **each time you ran through the experiment**\n",
    "4. Coding up the whole simulation!"
   ]
  },
  {
   "cell_type": "markdown",
   "metadata": {},
   "source": [
    "**Question 2.1.** Sean is playing darts. His dartboard contains ten equal-sized zones with point values from 1 to 10. Write code that simulates his total score after 1000 dart tosses. Make sure to use a `for` loop.\n",
    "\n",
    "*Hint:* There are a few steps to this problem (and most simulations): \n",
    "1. Figuring out **the big picture** of what we want to simulate (the total score after 1000 dart tosses)\n",
    "2. Deciding the possible values you can take in the experiment (point values in this case) and **simulating one example** (throwing one dart)\n",
    "3. Deciding **how many times to run through the experiment** (1000 tosses in our case) and **keeping track** of the total information of **each time you ran through the experiment** (the total score in this case)\n",
    "4. Coding up the whole simulation!\n",
    "\n",
    "```\n",
    "BEGIN QUESTION\n",
    "name: q21\n",
    "points: 2\n",
    "manual: false\n",
    "```"
   ]
  },
  {
   "cell_type": "code",
   "execution_count": 27,
   "metadata": {},
   "outputs": [
    {
     "data": {
      "text/plain": [
       "5467"
      ]
     },
     "execution_count": 27,
     "metadata": {},
     "output_type": "execute_result"
    }
   ],
   "source": [
    "possible_point_values = np.arange(1,11) # SOLUTION\n",
    "tosses = 1000\n",
    "total_score = 0 # SOLUTION\n",
    "\n",
    "# a for loop would be useful here\n",
    "\n",
    "# BEGIN SOLUTION\n",
    "for i in np.arange(tosses):\n",
    "    total_score += np.random.choice(possible_point_values)\n",
    "# END SOLUTION\n",
    "\n",
    "\n",
    "total_score"
   ]
  },
  {
   "cell_type": "code",
   "execution_count": 28,
   "metadata": {},
   "outputs": [
    {
     "data": {
      "text/plain": [
       "True"
      ]
     },
     "execution_count": 28,
     "metadata": {},
     "output_type": "execute_result"
    }
   ],
   "source": [
    "# HIDDEN TEST\n",
    "1000 <= total_score <= 10000"
   ]
  },
  {
   "cell_type": "markdown",
   "metadata": {},
   "source": [
    "**Question 2.2.** Using simulation with 10,000 trials, assign `chance_of_all_different` to an estimate of the chance that if you pick three words from _Pride and Prejudice_ uniformly at random (with replacement), they all have *different lengths*. \n",
    "\n",
    "*Hint 1:* How do we compute chance? The chance of something happening is the number of instances where it happens divided by the number of total instances.\n",
    "\n",
    "*Hint 2*: Remember that `!=` only checks for non-equality between two items, not three. However, you can use `!=` more than once in the same line. For example, `2 != 3 != 4` first checks for non-equality between `2` and `3`, then `3` and `4`, but NOT `2` and `4`.\n",
    "\n",
    "*Hint 3*: `np.random.choice` can be used to randomly pick three words.\n",
    "\n",
    "```\n",
    "BEGIN QUESTION\n",
    "name: q22\n",
    "points: 2\n",
    "manual: false\n",
    "```"
   ]
  },
  {
   "cell_type": "code",
   "execution_count": 29,
   "metadata": {},
   "outputs": [
    {
     "data": {
      "text/plain": [
       "0.6323"
      ]
     },
     "execution_count": 29,
     "metadata": {},
     "output_type": "execute_result"
    }
   ],
   "source": [
    "trials = 10000\n",
    "different = 0 # SOLUTION\n",
    "\n",
    "# write a for loop below\n",
    "# BEGIN SOLUTION\n",
    "for i in np.arange(trials):\n",
    "    words = np.random.choice(p_and_p_words, 3)\n",
    "    if len(words[0]) != len(words[1]) != len(words[2]) != len(words[0]):\n",
    "        different += 1\n",
    "\n",
    "# END SOLUTION\n",
    "chance_of_all_different = different / trials # SOLUTION\n",
    "\n",
    "chance_of_all_different"
   ]
  },
  {
   "cell_type": "code",
   "execution_count": 30,
   "metadata": {},
   "outputs": [
    {
     "data": {
      "text/plain": [
       "True"
      ]
     },
     "execution_count": 30,
     "metadata": {},
     "output_type": "execute_result"
    }
   ],
   "source": [
    "# HIDDEN TEST\n",
    "0.58 <= chance_of_all_different <= 0.68"
   ]
  },
  {
   "cell_type": "markdown",
   "metadata": {},
   "source": [
    "## 3. Case Study: Examining the Therapeutic Touch\n",
    "\n",
    "### What is the Therapeutic Touch\n",
    "\n",
    "The Therapeutic Touch (TT) is the idea that everyone can feel the Human Energy Field (HEF) around individuals.  Those who practice TT have described different people's HEFs as \"warm as Jell-O\" and \"tactile as taffy.\" \n",
    "\n",
    "TT was a popular technique used throughout the 20th century that was toted as a great way to bring balance to a person's health. Certain practitioners claim they have the ability to feel the HEF and can massage it in order to promote health and relaxation in individuals.\n",
    "\n",
    "### Emily Rosa\n",
    "\n",
    "[Emily Rosa](https://en.wikipedia.org/wiki/Emily_Rosa) was a 4th grade student who was very familiar with the world of TT, thanks to her parents, who were both medical practitioners and skeptics of TT.\n",
    "\n",
    "For her 4th grade science fair project, Emily decided to test whether or not TT practitioners could truly interact with a person's HEF. She later went on to publish her work in TT, becoming the youngest person to have a research paper published in a peer reviewed medical journal.\n",
    "\n",
    "### Emily's Experiment\n",
    "\n",
    "Emily's experiment was clean, simple, and effective. Due to her parents' occupations in the medical field, she had wide access to people who claimed to be TT practitioners. \n",
    "\n",
    "Emily took 21 TT practitioners and used them for her science experiment. She would take a TT practitioner and ask them to extend their hands through a screen (which they can't see through). Emily would be on the other side and would flip a fair coin. Depending on how the coin landed, she would put out either her left hand or her right hand. The TT practitioner would then have to answer which hand Emily put out. If a pracitioner could truly interact with a person's HEF, it would be expected that they answered correctly. Overall, each practitioner performed such test 10 times."
   ]
  },
  {
   "cell_type": "markdown",
   "metadata": {},
   "source": [
    "**Question 3.1** If the ground truth is that TT practitioners couldn't interact with a person's HEF. i.e. the probability of the practitioner answers `left` or `right` with probability 0.5, regardless of how Emily toss the coin. \n",
    "\n",
    "Let's assume if the coin lands with head, Emily extends her left hand. Can you write a function to simulate such an experiment? Emily and practitioner both extend one hand and the function returns 1 if they extend the same hand, 0 otherwise.\n",
    "\n",
    "```\n",
    "BEGIN QUESTION\n",
    "name: q31\n",
    "points: 2\n",
    "manual: false\n",
    "```"
   ]
  },
  {
   "cell_type": "code",
   "execution_count": 31,
   "metadata": {},
   "outputs": [
    {
     "data": {
      "text/plain": [
       "0"
      ]
     },
     "execution_count": 31,
     "metadata": {},
     "output_type": "execute_result"
    }
   ],
   "source": [
    "hand_side = make_array('left','right')\n",
    "\n",
    "def one_round_of_experiment():\n",
    "    # BEGIN SOLUTION\n",
    "    emily_hand =np.random.choice(hand_side) \n",
    "    practioner_hand = np.random.choice(hand_side) \n",
    "    if emily_hand == practioner_hand:\n",
    "        return 1\n",
    "    else:\n",
    "        return 0\n",
    "    # END SOLUTION\n",
    "\n",
    "one_round_of_experiment()"
   ]
  },
  {
   "cell_type": "code",
   "execution_count": 32,
   "metadata": {},
   "outputs": [
    {
     "data": {
      "text/plain": [
       "True"
      ]
     },
     "execution_count": 32,
     "metadata": {},
     "output_type": "execute_result"
    }
   ],
   "source": [
    "# HIDDEN TEST\n",
    "one_round_of_experiment() in [0,1]"
   ]
  },
  {
   "cell_type": "markdown",
   "metadata": {},
   "source": [
    "**Question 3.2.** Now let's write a function to repeat the experiment 210 times. The function ```experiments_simulation``` takes the nuber of experiments and returns the percent of times the two hands match.\n",
    "\n",
    "```\n",
    "BEGIN QUESTION\n",
    "name: q32\n",
    "points: 2\n",
    "manual: false\n",
    "```"
   ]
  },
  {
   "cell_type": "code",
   "execution_count": 33,
   "metadata": {},
   "outputs": [
    {
     "data": {
      "text/plain": [
       "0.5666666666666667"
      ]
     },
     "execution_count": 33,
     "metadata": {},
     "output_type": "execute_result"
    }
   ],
   "source": [
    "n = 210\n",
    "\n",
    "def experiments_simulation(n_experiment):\n",
    "    n_match = 0 # SOLUTION\n",
    "    #write a for loop below\n",
    "    # BEGIN SOLUTION\n",
    "    for i in np.arange(n_experiment):\n",
    "        n_match += one_round_of_experiment()\n",
    "    # END SOLUTION\n",
    "\n",
    "    p_match = n_match / n_experiment # SOLUTION\n",
    "    return p_match\n",
    "\n",
    "experiments_simulation(n)"
   ]
  },
  {
   "cell_type": "code",
   "execution_count": 34,
   "metadata": {},
   "outputs": [
    {
     "data": {
      "text/plain": [
       "True"
      ]
     },
     "execution_count": 34,
     "metadata": {},
     "output_type": "execute_result"
    }
   ],
   "source": [
    "# HIDDEN TEST\n",
    "0.39 < experiments_simulation(n) < 0.61"
   ]
  },
  {
   "cell_type": "markdown",
   "metadata": {},
   "source": [
    "**Question 3.3.1.** After Emily's experiment she learned that through 210 samples, the practitioner picked the correct hand 44% of the time.\n",
    "\n",
    "Based on Emily's observation, we want to answer the question that whether practitioners could interact with a person's HEF. To better compared  we can use visualization to help. Let's repeat the above simulation 1000 times and save the percentage in the simulations in ```simulated_p```.  \n",
    "\n",
    "```\n",
    "BEGIN QUESTION\n",
    "name: q331\n",
    "points: 2\n",
    "manual: false\n",
    "```"
   ]
  },
  {
   "cell_type": "code",
   "execution_count": 35,
   "metadata": {},
   "outputs": [],
   "source": [
    "simulated_p = make_array()\n",
    "n_simulations = 1000\n",
    "# write a for loop here\n",
    "# BEGIN SOLUTION\n",
    "for i in np.arange(n_simulations):\n",
    "    simulated_p = np.append(simulated_p, experiments_simulation(210))\n",
    "# END SOLUTION\n",
    "\n",
    "#simulated_p"
   ]
  },
  {
   "cell_type": "markdown",
   "metadata": {},
   "source": [
    "**Question 3.3.2.** Next, please generate a table with one column `simulated_p`. Then visualize its distribution with a histagram.\n",
    "\n",
    "```\n",
    "BEGIN QUESTION\n",
    "name: q332\n",
    "points: 2\n",
    "manual: false\n",
    "```"
   ]
  },
  {
   "cell_type": "code",
   "execution_count": 36,
   "metadata": {},
   "outputs": [
    {
     "data": {
      "image/png": "[encoded data removed]",
      "text/plain": [
       "<Figure size 432x288 with 1 Axes>"
      ]
     },
     "metadata": {},
     "output_type": "display_data"
    }
   ],
   "source": [
    "sim_table = Table().with_column('simulated_p', simulated_p) # SOLUTION\n",
    "# make a histogram below\n",
    "sim_table.hist('simulated_p') # SOLUTION"
   ]
  },
  {
   "cell_type": "markdown",
   "metadata": {},
   "source": [
    "**Question 3.4** \n",
    "\n",
    "Based on your simulated results and Emily's obeservation (0.44), do you think TT practitioners could interact with a person's HEF? Why?\n",
    "\n",
    "```\n",
    "BEGIN QUESTION\n",
    "name: q34\n",
    "points: 3\n",
    "manual: true\n",
    "```"
   ]
  },
  {
   "cell_type": "markdown",
   "metadata": {},
   "source": [
    "*Type your answer here*"
   ]
  },
  {
   "cell_type": "markdown",
   "metadata": {},
   "source": [
    "This case study is an example of a hypothesis test, which is a statistical approach to formally test some hypothesis. In this example, the hypothesis is TT practitioners couldn't interact with a person's HEF. Through simulation and Emily's experiments, we need to find evidence that can reject this hypothesis. We didn't formally define the method but if you're interested, please refer to [chapter 11](https://www.inferentialthinking.com/chapters/11/Testing_Hypotheses.html) in the book!\n",
    "\n"
   ]
  },
  {
   "cell_type": "markdown",
   "metadata": {},
   "source": [
    "Congratulations, you're done with this assignment!  Be sure to \n",
    "- **save the notebook** first (**`Save and Checkpoint`** from the `File` menu)\n",
    "- go up to the `Kernel` menu and select `Restart & Clear Output` (make sure the notebook is saved first, because otherwise, you will lose all your work!). \n",
    "* go to `Cell -> Run All`. Carefully look through your notebook and verify that all computations execute correctly. You should see **no errors**; if there are any errors, make sure to correct them before you submit the notebook.\n",
    "* go to `File -> Download as -> Notebook` and download the notebook to your own computer. ([Please verify](https://ucsb-ds.github.io/ds1-f20/troubleshooting/#i-downloaded-the-notebook-file-but-it-saves-as-the-ipynbjson-extension-so-whenever-i-upload-it-to-gradescope-it-fails) that it got saved as an .ipynb file.)\n",
    "* Upload the notebook to [Gradescope](https://www.gradescope.com/). **If you used additional CSV files, remember to upload them with your notebook.** You can drag and drop both files or hold down Ctrl to click on multiple files when you are uploading them.\n"
   ]
  }
 ],
 "metadata": {
  "kernelspec": {
   "display_name": "Python 3",
   "language": "python",
   "name": "python3"
  },
  "language_info": {
   "codemirror_mode": {
    "name": "ipython",
    "version": 3
   },
   "file_extension": ".py",
   "mimetype": "text/x-python",
   "name": "python",
   "nbconvert_exporter": "python",
   "pygments_lexer": "ipython3",
   "version": "3.7.8"
  },
  "toc": {
   "base_numbering": 1,
   "nav_menu": {},
   "number_sections": false,
   "sideBar": true,
   "skip_h1_title": false,
   "title_cell": "Table of Contents",
   "title_sidebar": "Contents",
   "toc_cell": false,
   "toc_position": {},
   "toc_section_display": true,
   "toc_window_display": true
  }
 },
 "nbformat": 4,
 "nbformat_minor": 4
}
