{
 "cells": [
  {
   "cell_type": "code",
   "execution_count": null,
   "metadata": {
    "deletable": false,
    "editable": false
   },
   "outputs": [],
   "source": [
    "# Initialize Otter\n",
    "import otter\n",
    "grader = otter.Notebook()"
   ]
  },
  {
   "cell_type": "markdown",
   "metadata": {},
   "source": [
    "# Lab 6: Group, Join, Conditionals, Randomness. "
   ]
  },
  {
   "cell_type": "markdown",
   "metadata": {},
   "source": [
    "Welcome to lab 6! This week, we will get a bit more practice with grouping and joining tables, using iteration and simulations, and practicing the concept of randomness and probability. This material is covered in [Chapter 9](https://www.inferentialthinking.com/chapters/09/randomness.html) and the prior chapters (e.g., `group` in [Chapter 8.2](https://www.inferentialthinking.com/chapters/08/2/Classifying_by_One_Variable.html) and `join` in [Chapter 8.4](https://www.inferentialthinking.com/chapters/08/4/Joining_Tables_by_Columns))."
   ]
  },
  {
   "cell_type": "code",
   "execution_count": 1,
   "metadata": {},
   "outputs": [],
   "source": [
    "import numpy as np\n",
    "from datascience import *\n",
    "\n",
    "# These lines set up graphing capabilities.\n",
    "import matplotlib\n",
    "%matplotlib inline\n",
    "import matplotlib.pyplot as plt\n",
    "plt.style.use('fivethirtyeight')\n",
    "import warnings\n",
    "warnings.simplefilter('ignore', FutureWarning)"
   ]
  },
  {
   "cell_type": "markdown",
   "metadata": {},
   "source": [
    "**Important**: <span style=\"color:red\">The tests don't usually tell you that your answer is correct.</span> More often, they help catch careless mistakes. It's up to you to ensure that your answer is correct. If you're not sure, ask someone (not for the answer, but for some guidance about your approach). Basically, for your solution to be correct, it is **necessary** that the tests are passed; however, passing the tests is not **sufficient** for your solution to be correct.\n",
    "\n",
    "**Reminder**: whenever you are writing your code, pay attention to the requested **type of input and the type of output**. Make sure that you are **reading the instructions _carefully_**."
   ]
  },
  {
   "cell_type": "markdown",
   "metadata": {},
   "source": [
    "## 0. Review of the method `group`\n",
    "\n",
    "Let's work on a toy example to review some basics about `group`.\n",
    "\n",
    "Run the following cell to create a table. This table contains some anonymous ratings (1, 2, 3, 4, or 5 stars) for three flavors of ice creams. (Those flavors can be found at [McConnell's Fine Ice Creams](https://mcconnells.com/)!)"
   ]
  },
  {
   "cell_type": "code",
   "execution_count": 2,
   "metadata": {},
   "outputs": [],
   "source": [
    "ratings = Table().with_columns(\"Flavor\", make_array(\"Banana & Salted Caramel\", \"Dutchman's Chocolate\", \"Eureka Lemon & Marionberries\", \"Banana & Salted Caramel\", \"Dutchman's Chocolate\", \"Eureka Lemon & Marionberries\", \"Banana & Salted Caramel\", \"Dutchman's Chocolate\", \"Eureka Lemon & Marionberries\", \"Banana & Salted Caramel\"),\n",
    "                            \"Rating\", make_array(2,3,5,1,4,3,4,3,4,5))\n",
    "ratings"
   ]
  },
  {
   "cell_type": "markdown",
   "metadata": {
    "deletable": false,
    "editable": false
   },
   "source": [
    "The `group` method with a single argument (the name of a column) counts the number of rows for each category in a column. The result contains one row per unique value in the grouped column. The call to `group` reates a column of counts in each category. The column is called `count` by default, and contains the number of rows in each category.\n",
    "\n",
    "Suppose we want to count how many ratings are collected for each flavor of the ice cream.\n",
    "<!--\n",
    "BEGIN QUESTION\n",
    "name: q0_1\n",
    "points: 1\n",
    "manual: false\n",
    "-->"
   ]
  },
  {
   "cell_type": "code",
   "execution_count": 3,
   "metadata": {},
   "outputs": [],
   "source": [
    "# to count how many ratings are collected for each flavor of the ice cream\n",
    "# group the rows by that column\n",
    "flavor_count = ...\n",
    "flavor_count"
   ]
  },
  {
   "cell_type": "code",
   "execution_count": null,
   "metadata": {
    "deletable": false,
    "editable": false
   },
   "outputs": [],
   "source": [
    "grader.check(\"q0_1\")"
   ]
  },
  {
   "cell_type": "markdown",
   "metadata": {
    "deletable": false,
    "editable": false
   },
   "source": [
    "So in the example table above, we have collected 4 ratings for Banana & Salted Caramel, 3 ratings for Dutchman's Chocolate and 3 ratings for Eureka Lemon & Marionberries.\n",
    "\n",
    "Now suppose we would like to look at individual ratings for each flavor of the ice cream. To do so, we can use the `group` method with an optional second argument `list`, so for each flavor, will we have a list of the ratings this particular flavor received. \n",
    "<!--\n",
    "BEGIN QUESTION\n",
    "name: q0_2\n",
    "points: 1\n",
    "manual: false\n",
    "-->"
   ]
  },
  {
   "cell_type": "code",
   "execution_count": 7,
   "metadata": {
    "scrolled": true
   },
   "outputs": [],
   "source": [
    "# to look at individual ratings for each flavor of the ice cream\n",
    "# use the group method with the second argument `list`\n",
    "flavor_ratings = ...\n",
    "flavor_ratings"
   ]
  },
  {
   "cell_type": "code",
   "execution_count": null,
   "metadata": {
    "deletable": false,
    "editable": false
   },
   "outputs": [],
   "source": [
    "grader.check(\"q0_2\")"
   ]
  },
  {
   "cell_type": "markdown",
   "metadata": {
    "deletable": false,
    "editable": false
   },
   "source": [
    "When we use the `group` method with an optional second argument `list`, for each flavor, we have a list of the ratings this particular flavor received. Banana & Salted Caramel received 2, 1, 4 and 5 stars, Dutchman's Chocolate received 3, 4 and 3 stars, and Eureka Lemon & Marionberries received 5, 3 and 4 stars.\n",
    "\n",
    "There are also other optional second arguments, which will accomplish different objectives. Read the textbook for more!\n",
    "\n",
    "Now suppose that we want for each flavor, its list of ratings is sorted with ascending order.\n",
    "We need to \n",
    "1. `sort` the table by the Rating, \n",
    "1. `group` the flavors, listing the rating (like we did above)\n",
    "\n",
    "Note: you can chain these methods, since `sort` returns a table and `group` works with a table as well.\n",
    "\n",
    "<!--\n",
    "BEGIN QUESTION\n",
    "name: q0_3\n",
    "points: 1\n",
    "manual: false\n",
    "-->"
   ]
  },
  {
   "cell_type": "code",
   "execution_count": 10,
   "metadata": {
    "scrolled": true
   },
   "outputs": [],
   "source": [
    "flavor_ratings_sorted = ...\n",
    "flavor_ratings_sorted"
   ]
  },
  {
   "cell_type": "code",
   "execution_count": null,
   "metadata": {
    "deletable": false,
    "editable": false
   },
   "outputs": [],
   "source": [
    "grader.check(\"q0_3\")"
   ]
  },
  {
   "cell_type": "markdown",
   "metadata": {},
   "source": [
    "Compare the two tables above. The second table now has each list of ratings sorted!"
   ]
  },
  {
   "cell_type": "markdown",
   "metadata": {},
   "source": [
    "## 1. Extravaganza Data Analysis\n",
    "\n",
    "Every spring, UCSB hosts Extravaganza, a one-day on-campus music festival. The following questions are based on last year's festival. The AS Program Board (an on-campus organization tasked with organizing entertainment events) sends out a survey to UCSB students asking for their suggestions for music artists. The instructions in the survey specify that each student should select a first choice artist (rank 1), a second choice artist (rank 2), and a third choice artist (rank 3). Run the following cell to see how the first several students responded."
   ]
  },
  {
   "cell_type": "code",
   "execution_count": 12,
   "metadata": {},
   "outputs": [],
   "source": [
    "survey = Table().read_table(\"survey.csv\")\n",
    "survey"
   ]
  },
  {
   "cell_type": "markdown",
   "metadata": {},
   "source": [
    "After these responses come in, however, the AS Program Board notices that their survey form does not actually enforce that each participant choose a single first-choice artist, a single second-choice artist, and a single third-choice artist. Run the cell below to see an example of a student who did not follow the survey's instructions. "
   ]
  },
  {
   "cell_type": "code",
   "execution_count": 13,
   "metadata": {
    "scrolled": true
   },
   "outputs": [],
   "source": [
    "survey.where(\"Perm Number\", are.equal_to(5978341))"
   ]
  },
  {
   "cell_type": "markdown",
   "metadata": {},
   "source": [
    "The AS Program Board decides to identify all students who did not follow the survey's instructions, delete their votes from the table, and email the students to tell them that their votes did not comply with the rules, and that they should revote if they want to have a say in the Extravaganza lineup. \n",
    "\n",
    "The email addreses of all students are available in the student database, a portion of which is displayed in the table below."
   ]
  },
  {
   "cell_type": "code",
   "execution_count": 14,
   "metadata": {},
   "outputs": [],
   "source": [
    "database = Table().read_table(\"student_data.csv\")\n",
    "database"
   ]
  },
  {
   "cell_type": "markdown",
   "metadata": {
    "deletable": false,
    "editable": false
   },
   "source": [
    "**Question 1.1**  Use the survey data and the student database information to identify the students who did not follow the survey's instructions. \n",
    " \n",
    "* First, we will find their PERM numbers. \n",
    "* Then, in the next question, we will retreieve their email addresses. \n",
    "\n",
    "**This question will require multiple steps.** Feel free to create additional variables to hold the intermediate results; just make sure to store the final array in the requested variable.\n",
    "\n",
    "**Question 1.1.1.**  Make an **array** called `violators_perm_numbers` that contains the **PERM addresses** of all students who did not follow the survey's instructions. \n",
    "\n",
    "*Hint 0:* It will make a big difference if you *sort the rankings first* and then group the PERM Numbers, or if you first group by the PERM numbers first and then sort the rankings. If you are not sure which you need to do first, try both ways and convince yourself by looking at the table that you are getting the results that are valid (see Hint 2).\n",
    "\n",
    "*Hint 1:* When you use the `group` method, use it with second argument `list` to see how each student voted.\n",
    "\n",
    "*Hint 2:* A vote is valid if and only if the participant chose a single first choice artist, a single second choice artist, and a single third choice artist. That means in the table returned by the `group` method, a vote is valid if and only if its rank list is one of `[1, 2, 3]`, `[1, 3, 2]`, ..., `[3, 1, 2]`, i.e., any permutation of `[1, 2, 3]`.\n",
    "\n",
    "*Hint 3:* Since, it's kind of tedious to compare with a vote's rank list with each permutation, sort the data in some fashion before using the `group` method so that each student who voted correctly has a rank list that looks like `[1, 2, 3]` (note: this is a _list_, so don't use the `make_array` or turn it into a string). Consider using `are.not_equal_to`.\n",
    "\n",
    "*Note:* If you are getting `SyntaxWarning: Do not pass an array or list to a predicate. ...`, don't worry about it. You can ignore it in this question.\n",
    "\n",
    "<!--\n",
    "BEGIN QUESTION\n",
    "name: q1_1_1\n",
    "points: 3\n",
    "manual: false\n",
    "-->"
   ]
  },
  {
   "cell_type": "code",
   "execution_count": 15,
   "metadata": {},
   "outputs": [],
   "source": [
    "violators_perm_numbers = ...\n",
    "violators_perm_numbers"
   ]
  },
  {
   "cell_type": "code",
   "execution_count": null,
   "metadata": {
    "deletable": false,
    "editable": false
   },
   "outputs": [],
   "source": [
    "grader.check(\"q1_1_1\")"
   ]
  },
  {
   "cell_type": "markdown",
   "metadata": {
    "deletable": false,
    "editable": false
   },
   "source": [
    "**Question 1.1.2.**  Make an **array** called `violators_emails` that contains the **email addresses** of all students who did not follow the survey's instructions. \n",
    "\n",
    "*Hint 1:* Once you have all the violators' perm numbers and stored them in `violators_perm_numbers`, use the `database` table to get their email addresses.\n",
    "\n",
    "*Hint 2:* Feel free to first write down the steps in pseudocode for what you want to do: you want to get the *rows* corresponding to the Perm Numbers you stored in `violators_perm_numbers` and then you need to get the *array* that contains emails of the violators.\n",
    "\n",
    "*Hint 3:* The predicate `are.contained_in` might be helpful here, since you want the values from the Perm Number column that are stored in `violators_perm_numbers`.\n",
    "\n",
    "\n",
    "<!--\n",
    "BEGIN QUESTION\n",
    "name: q1_1_2\n",
    "points: 2\n",
    "manual: false\n",
    "-->"
   ]
  },
  {
   "cell_type": "code",
   "execution_count": 19,
   "metadata": {
    "scrolled": true
   },
   "outputs": [],
   "source": [
    "violators_emails = ...\n",
    "violators_emails"
   ]
  },
  {
   "cell_type": "code",
   "execution_count": null,
   "metadata": {
    "deletable": false,
    "editable": false
   },
   "outputs": [],
   "source": [
    "grader.check(\"q1_1_2\")"
   ]
  },
  {
   "cell_type": "markdown",
   "metadata": {
    "deletable": false,
    "editable": false
   },
   "source": [
    "**Question 1.2.** Now create a new table that exclude the rows from the table `survey` that correspond to the voters in `violators`.\n",
    "\n",
    "*Hint:* `are.not_contained_in` might be handy here.\n",
    "\n",
    "<!--\n",
    "BEGIN QUESTION\n",
    "name: q1_2\n",
    "points: 1\n",
    "manual: false\n",
    "-->"
   ]
  },
  {
   "cell_type": "code",
   "execution_count": 23,
   "metadata": {
    "scrolled": false
   },
   "outputs": [],
   "source": [
    "survey_valid = ...\n",
    "survey_valid"
   ]
  },
  {
   "cell_type": "markdown",
   "metadata": {},
   "source": [
    "After months of collecting votes and contacting artists, the 2017-18 UC Santa Barbara Extravaganza lineup has officially been released! Run the following cell to see a table of the scheduled performers and their respective numbers of Instagram followers (in thousands)."
   ]
  },
  {
   "cell_type": "code",
   "execution_count": 24,
   "metadata": {},
   "outputs": [],
   "source": [
    "extravaganza_performers = [\"Dillon Francis\", \"Charli XCX\", \"Cardi B\", \"Coast Modern\"]\n",
    "extravaganza_instagram = [2105, 3101, 35100, 15.5]\n",
    "\n",
    "extravaganza_lineup = Table().with_columns(\"Artists\", extravaganza_performers, \"Instagram\", extravaganza_instagram)\n",
    "extravaganza_lineup.show()"
   ]
  },
  {
   "cell_type": "markdown",
   "metadata": {},
   "source": [
    "As we come closer to the event, we get word that one of the performers is unable to make it to Extravaganza, and has been replaced by another performer instead! Run the following cell to see a table of the new lineup and their respective numbers of Twitter followers (in thousands)."
   ]
  },
  {
   "cell_type": "code",
   "execution_count": 25,
   "metadata": {},
   "outputs": [],
   "source": [
    "new_performers = [\"Dillon Francis\", \"Charli XCX\", \"DRAM\", \"Coast Modern\"]\n",
    "new_twitter = [1057, 3249, 123, 8]\n",
    "\n",
    "new_lineup = Table().with_columns(\"Performers\", new_performers, \"Twitter\", new_twitter)\n",
    "new_lineup.show()"
   ]
  },
  {
   "cell_type": "markdown",
   "metadata": {
    "deletable": false,
    "editable": false
   },
   "source": [
    "**Question 1.3** Use the `join` method to join these two tables together so each row contains the name of the performer, their number of Instagram followers (in thousands), and their number of Twitter followers (in thousands). Save this new table into the variable `lineup_data`.\n",
    "\n",
    "*Hint:* Here is an [example](https://www.inferentialthinking.com/chapters/08/4/Joining_Tables_by_Columns.html) using `join`.\n",
    "\n",
    "<!--\n",
    "BEGIN QUESTION\n",
    "name: q1_3\n",
    "points: 1\n",
    "manual: false\n",
    "-->"
   ]
  },
  {
   "cell_type": "code",
   "execution_count": 26,
   "metadata": {},
   "outputs": [],
   "source": [
    "lineup_data = ...\n",
    "lineup_data"
   ]
  },
  {
   "cell_type": "code",
   "execution_count": null,
   "metadata": {
    "deletable": false,
    "editable": false
   },
   "outputs": [],
   "source": [
    "grader.check(\"q1_3\")"
   ]
  },
  {
   "cell_type": "markdown",
   "metadata": {
    "deletable": false,
    "editable": false
   },
   "source": [
    "<!-- BEGIN QUESTION -->\n",
    "\n",
    "**Question 1.4** You should notice that a couple of artists are missing. Which ones are missing and why are they not in the new table?\n",
    "\n",
    "<!--\n",
    "BEGIN QUESTION\n",
    "name: q1_4\n",
    "points: 2\n",
    "manual: true\n",
    "-->"
   ]
  },
  {
   "cell_type": "markdown",
   "metadata": {},
   "source": [
    "_Type your answer here, replacing this text._"
   ]
  },
  {
   "cell_type": "markdown",
   "metadata": {
    "deletable": false,
    "editable": false
   },
   "source": [
    "<!-- END QUESTION -->\n",
    "\n",
    "<!-- BEGIN QUESTION -->\n",
    "\n",
    "**Question 1.5** Let's use Table's `with_row` method to add `DRAM` back into the `lineup_data` table so that we can see all the artists who actually performed at Extravaganza last year. DRAM currently has 294.8 thousand Instagram followers and 122.5 thousand Twitter followers.\n",
    "\n",
    "<!--\n",
    "BEGIN QUESTION\n",
    "name: q1_5\n",
    "points: 2\n",
    "manual: true\n",
    "-->"
   ]
  },
  {
   "cell_type": "code",
   "execution_count": 29,
   "metadata": {},
   "outputs": [],
   "source": [
    "lineup_data_updated = ...\n",
    "lineup_data_updated"
   ]
  },
  {
   "cell_type": "code",
   "execution_count": null,
   "metadata": {
    "deletable": false,
    "editable": false
   },
   "outputs": [],
   "source": [
    "grader.check(\"q1_5\")"
   ]
  },
  {
   "cell_type": "markdown",
   "metadata": {},
   "source": [
    "<!-- END QUESTION -->\n",
    "\n",
    "\n",
    "\n",
    "## 2. Memes"
   ]
  },
  {
   "cell_type": "markdown",
   "metadata": {},
   "source": [
    "<img src=\"silicon-meme.jpg\" width=40%><img src=\"reaction-meme.jpg\" width=40%>"
   ]
  },
  {
   "cell_type": "markdown",
   "metadata": {
    "collapsed": true
   },
   "source": [
    "You analysis and work on the Extravaganza Data Analysis caught the attention of Twitter and they decided to hire you to analyze some of its most popular memes! Run the following cell to see a table of information on recent Twitter posts that contained memes of certain popular formats. For each Twitter post, the table contains\n",
    "* The format of the meme in the post. For example, the format *Chemistry Cat* shows a cat dressed up as a scientist in a chemistry lab. The sign above shows a question that is answered below with a witty comment involving a chemical element or a chemistry concept. Two examples of a meme in this format are shown above.\n",
    "* The Twitter handle (username) of the person who made the post.\n",
    "* The number of retweets (shares).\n",
    "* The number of likes.\n",
    "* The number of days from when the post was generated to when you got the dataset.\n"
   ]
  },
  {
   "cell_type": "code",
   "execution_count": 32,
   "metadata": {},
   "outputs": [],
   "source": [
    "memes = Table.read_table('memes.csv')\n",
    "memes.show()"
   ]
  },
  {
   "cell_type": "markdown",
   "metadata": {
    "deletable": false,
    "editable": false
   },
   "source": [
    "**Question 2.1** Twitter is interested in determining which meme formats get the most retweets and likes. Calculate the total number of retweets and likes associated with each of the meme formats, and save a table of these results in a variable called `retweets_likes`. Your table should have three columns, containing, from left to right:\n",
    "* The format of the meme.\n",
    "* The total number of retweets for all memes with this format.\n",
    "* The total number of likes for all memes with this format.\n",
    "\n",
    "*Hint 0:* You can either use the `select` or `drop` to generate the new table.\n",
    "\n",
    "*Hint 1:* You should use the `group` method with an optional second argument called `sum`. Look at the textbook if you are not familiar with this argument.\n",
    "\n",
    "*Hint 2:* The table `retweets_likes` should not have the column called `Number of Days Since Post` or `Posted By`. Remove those columns before using the `group` method.\n",
    "\n",
    "<!--\n",
    "BEGIN QUESTION\n",
    "name: q2_1\n",
    "points: 1\n",
    "manual: false\n",
    "-->"
   ]
  },
  {
   "cell_type": "code",
   "execution_count": 33,
   "metadata": {},
   "outputs": [],
   "source": [
    "retweets_likes = ...\n",
    "retweets_likes"
   ]
  },
  {
   "cell_type": "code",
   "execution_count": null,
   "metadata": {
    "deletable": false,
    "editable": false
   },
   "outputs": [],
   "source": [
    "grader.check(\"q2_1\")"
   ]
  },
  {
   "cell_type": "markdown",
   "metadata": {
    "deletable": false,
    "editable": false
   },
   "source": [
    "**Question 2.2.** The total number of retweets and likes should be taken relative to the number of days since the meme was posted, because memes that have been posted for longer will naturally have more of a chance to gather retweets and likes. For each meme format, calculate the number of days since a meme of that format was first posted, and add a column called `age` with these results to the table `retweets_likes`, saving your new table in a variable called `retweets_likes_age`.\n",
    "\n",
    "*Hint:* The number of days since a meme of that format was first posted is the maximum of `Number of Days Since Post` for that particular format. Use the method `group` with a second optional argument called `max`.\n",
    "\n",
    "<!--\n",
    "BEGIN QUESTION\n",
    "name: q2_2\n",
    "points: 1\n",
    "manual: false\n",
    "-->"
   ]
  },
  {
   "cell_type": "code",
   "execution_count": 35,
   "metadata": {},
   "outputs": [],
   "source": [
    "retweets_likes_age = ...\n",
    "retweets_likes_age"
   ]
  },
  {
   "cell_type": "code",
   "execution_count": null,
   "metadata": {
    "deletable": false,
    "editable": false
   },
   "outputs": [],
   "source": [
    "grader.check(\"q2_2\")"
   ]
  },
  {
   "cell_type": "markdown",
   "metadata": {
    "deletable": false,
    "editable": false
   },
   "source": [
    "**Question 2.3.** Rank the meme formats by popularity. The popularity of a meme format is measured as the total number of retweets and likes per day since the meme format was originally posted.\n",
    "\n",
    "Create an array called `popular_memes` that contains the meme formats ranked by popularity, so that the most popular meme is first in the array, and the least popular meme is last.\n",
    "\n",
    "*Hint:* We recommend you to create a new table with an additional column called `popularity` and sort the table.\n",
    "\n",
    "<!--\n",
    "BEGIN QUESTION\n",
    "name: q2_3\n",
    "points: 1\n",
    "manual: false\n",
    "-->"
   ]
  },
  {
   "cell_type": "code",
   "execution_count": 38,
   "metadata": {},
   "outputs": [],
   "source": [
    "memes_with_popularity = ...\n",
    "popular_memes = ...\n",
    "popular_memes"
   ]
  },
  {
   "cell_type": "code",
   "execution_count": null,
   "metadata": {
    "deletable": false,
    "editable": false
   },
   "outputs": [],
   "source": [
    "grader.check(\"q2_3\")"
   ]
  },
  {
   "cell_type": "markdown",
   "metadata": {},
   "source": [
    "## 3. Booleans and Conditionals\n"
   ]
  },
  {
   "cell_type": "markdown",
   "metadata": {},
   "source": [
    "In Python, Boolean values can either be `True` or `False`. We get Boolean values when using comparison operators, among which are `<` (less than), `>` (greater than), and `==` (equal to). For a complete list, refer to [Booleans and Comparison](https://www.inferentialthinking.com/chapters/09/randomness.html#Booleans-and-Comparison) in Chapter 9.\n",
    "\n",
    "Run the cell below to see an example of a comparison operator in action."
   ]
  },
  {
   "cell_type": "code",
   "execution_count": 42,
   "metadata": {},
   "outputs": [],
   "source": [
    "# RUN THIS: check if 8 is greater than 3+3\n",
    "..."
   ]
  },
  {
   "cell_type": "markdown",
   "metadata": {
    "deletable": false,
    "editable": false
   },
   "source": [
    "<!-- BEGIN QUESTION -->\n",
    "\n",
    "We can even assign the result of a comparison operation to a variable. \n",
    "\n",
    "Assign `result` to `10 / 2 == 5`.\n",
    "\n",
    "_Note that due to the operator precedence, Python will first evaluate the division `10 / 2`, then compare the result to 5, and finally assign the Boolean result of the comparison to the variable `result`._\n",
    "\n",
    "<!--\n",
    "BEGIN QUESTION\n",
    "name: q3_0a\n",
    "points: 1\n",
    "manual: true\n",
    "-->"
   ]
  },
  {
   "cell_type": "code",
   "execution_count": 43,
   "metadata": {},
   "outputs": [],
   "source": [
    "result = ...\n",
    "result"
   ]
  },
  {
   "cell_type": "markdown",
   "metadata": {
    "deletable": false,
    "editable": false
   },
   "source": [
    "<!-- END QUESTION -->\n",
    "\n",
    "<!-- BEGIN QUESTION -->\n",
    "\n",
    "Arrays are compatible with comparison operators. The output is an array of boolean values.\n",
    "<!--\n",
    "BEGIN QUESTION\n",
    "name: q3_0b\n",
    "points: 1\n",
    "manual: true\n",
    "-->"
   ]
  },
  {
   "cell_type": "code",
   "execution_count": 44,
   "metadata": {},
   "outputs": [],
   "source": [
    "# RUN THIS: check if the array below is greater than 3\n",
    "# make_array(1, 5, 7, 8, 3, -1)"
   ]
  },
  {
   "cell_type": "markdown",
   "metadata": {},
   "source": [
    "<!-- END QUESTION -->\n",
    "\n",
    "\n",
    "\n",
    "What does the code in the previous cell do? Well, the comparison operator `>` looks at each element of the array, compare the element with 3, and returns a new array with each element corresponding to the result of the comparison. To be specific, the comparison operator `>` firstly takes 1, the first element in the array and compares 1 with 3. 1 is not greater than 3, so in the resulting array, the first element is `False`. And then `>` takes the second element 5 and does the same thing. This time 5 is greater than 3, so in the resulting array, the second element is `True`. This process goes on until it reaches the last element. That is how we get an array of boolean values."
   ]
  },
  {
   "cell_type": "markdown",
   "metadata": {},
   "source": [
    "### 3.1. Nachos and Conditionals\n",
    "\n",
    "Waiting on the dining table just for you is a hot bowl of nachos! Let's say that whenever you take a nacho, it will have cheese, salsa, both, or neither (just a plain tortilla chip). \n",
    "\n",
    "Using the function call `np.random.choice(array_name)`, let's simulate taking nachos from the bowl at random. Start by running the cell below several times, and observe how the results change."
   ]
  },
  {
   "cell_type": "code",
   "execution_count": 45,
   "metadata": {},
   "outputs": [],
   "source": [
    "nachos = make_array('cheese', 'salsa', 'both', 'neither')\n",
    "np.random.choice(nachos)"
   ]
  },
  {
   "cell_type": "markdown",
   "metadata": {},
   "source": [
    "Here we introduce `np.count_nonzero(array_name)` which will be used in **Quesiton 3.1**. This function counts the nonzero values in an array with numerical values or counts the number of `True` values in an array with Boolean values. "
   ]
  },
  {
   "cell_type": "code",
   "execution_count": 46,
   "metadata": {},
   "outputs": [],
   "source": [
    "#np.count_nonzero(make_array(1, 0, 7, 0, 2, 0, -10))"
   ]
  },
  {
   "cell_type": "code",
   "execution_count": 47,
   "metadata": {},
   "outputs": [],
   "source": [
    "# RUN THIS: call np.count_nonzero on the following array\n",
    "make_array(True, False, False, False, True)"
   ]
  },
  {
   "cell_type": "code",
   "execution_count": 48,
   "metadata": {},
   "outputs": [],
   "source": [
    "# RUN THIS: call np.count_nonzero on the following expression -- does it work?\n",
    "make_array(1, 5, 7, 8, 3, -1) > 3"
   ]
  },
  {
   "cell_type": "code",
   "execution_count": 49,
   "metadata": {},
   "outputs": [],
   "source": [
    "some_nachos = make_array('cheese', 'salsa', 'salsa')\n",
    "print(np.count_nonzero(some_nachos == 'salsa'))\n",
    "\n",
    "# RUN THIS\n",
    "# Now complete the code below to count the number of nachos with cheese.\n",
    "print(np.count_nonzero(some_nachos == ...))"
   ]
  },
  {
   "cell_type": "markdown",
   "metadata": {},
   "source": [
    "Make sure you understand what is going on in the previous cells before proceeding to **Question 3.1**!"
   ]
  },
  {
   "cell_type": "markdown",
   "metadata": {
    "deletable": false,
    "editable": false
   },
   "source": [
    "<!-- BEGIN QUESTION -->\n",
    "\n",
    "**Question 3.1.** Assume we took ten nachos at random, and stored the results in an array called `ten_nachos` as done below. Write a Python expression to count the number of nachos with only cheese (do not hardcode a number).  \n",
    "\n",
    "*Hint:* Our solution involves a comparison operator and the `np.count_nonzero` method. \n",
    "\n",
    "<!--\n",
    "BEGIN QUESTION\n",
    "name: q3_1\n",
    "points: 1\n",
    "manual: true\n",
    "-->"
   ]
  },
  {
   "cell_type": "code",
   "execution_count": 50,
   "metadata": {},
   "outputs": [],
   "source": [
    "ten_nachos = make_array('neither', 'cheese', 'both', 'both', 'cheese', 'salsa', 'both', 'neither', 'cheese', 'both')\n",
    "number_cheese = ...\n",
    "number_cheese"
   ]
  },
  {
   "cell_type": "markdown",
   "metadata": {},
   "source": [
    "<!-- END QUESTION -->\n",
    "\n",
    "\n",
    "\n",
    "### Conditional Statements\n",
    "\n",
    "A conditional statement is made up of many lines that allow Python to choose from different alternatives based on whether some condition is true.\n",
    "\n",
    "Here is a basic example.\n",
    "\n",
    "```\n",
    "def sign(x):\n",
    "    if x > 0:\n",
    "        return 'Positive'\n",
    "```\n",
    "\n",
    "The way the function works is this: if the input `x` is greater than `0`, we get the string `'Positive'` back. Note that if `x <= 0`, this function does nothing."
   ]
  },
  {
   "cell_type": "markdown",
   "metadata": {},
   "source": [
    "If we want to test multiple conditions at once, we use the following general format. Note that instead of the comments below, the actual if/else statements will contain proper expressions and statements.\n",
    "\n",
    "```\n",
    "if boolean_if_expression:\n",
    "    # body of the if statement\n",
    "elif elif_expression_1:\n",
    "    # elif body 1\n",
    "elif elif_expression_2:\n",
    "    # elif body 2\n",
    "...\n",
    "else:\n",
    "    # else body\n",
    "```\n",
    "\n",
    "* Each `if` or `elif` statement corresponds to a separate branch of the computation.\n",
    "* Each `if` and `elif` expression is evaluated and considered in order, starting at the top. \n",
    "* As soon as an expression evaluates to `True`, the corresponding body is executed, and **the rest of the branches are skipped**. \n",
    "* **Only one** of the `elif body` statements will ever be executed. \n",
    "* If none of the `if` or `elif` expressions are true, then the `else body` is executed. \n",
    "\n",
    "For more examples and explanation, refer to [Section 9.1](https://www.inferentialthinking.com/chapters/09/1/conditional-statements.html)."
   ]
  },
  {
   "cell_type": "markdown",
   "metadata": {
    "deletable": false,
    "editable": false
   },
   "source": [
    "**Question 3.2.** Update the definition of the function `sign` that we showed you above: return `'Negative'` if `x` is less than zero and return `'Zero'` otherwise.\n",
    "\n",
    "<!--\n",
    "BEGIN QUESTION\n",
    "name: q3_2\n",
    "points: 3\n",
    "manual: false\n",
    "-->"
   ]
  },
  {
   "cell_type": "code",
   "execution_count": 51,
   "metadata": {},
   "outputs": [],
   "source": [
    "def sign(x):\n",
    "    \"\"\"\n",
    "    Return the string `'Positive'` If the input `x` is greater than `0`;\n",
    "    return `'Negative'` if `x` is less than zero and return `'Zero'` otherwise\"\"\"\n",
    "    ..."
   ]
  },
  {
   "cell_type": "code",
   "execution_count": null,
   "metadata": {
    "deletable": false,
    "editable": false
   },
   "outputs": [],
   "source": [
    "grader.check(\"q3_2\")"
   ]
  },
  {
   "cell_type": "markdown",
   "metadata": {
    "deletable": false,
    "editable": false
   },
   "source": [
    "<!-- BEGIN QUESTION -->\n",
    "\n",
    "**Question 3.3.** Complete the following conditional statement so that the string `'More please'` is assigned to `say_please` if the number of nachos with cheese in `ten_nachos` is less than `5`.\n",
    "\n",
    "*Hint*: You **should not** have to directly reference the variable `ten_nachos`. Why? Remember that you already counted how many nachos with cheese you have in the previous question, so you should use the same variable here.\n",
    "<!--\n",
    "BEGIN QUESTION\n",
    "name: q3_3\n",
    "points: 1\n",
    "manual: true\n",
    "-->"
   ]
  },
  {
   "cell_type": "code",
   "execution_count": 55,
   "metadata": {
    "for_assignment_type": "student"
   },
   "outputs": [],
   "source": [
    "say_please = '?'\n",
    "\n",
    "if ...:\n",
    "    say_please = 'More please'\n",
    "    \n",
    "say_please"
   ]
  },
  {
   "cell_type": "markdown",
   "metadata": {
    "deletable": false,
    "editable": false
   },
   "source": [
    "<!-- END QUESTION -->\n",
    "\n",
    "**Question 3.4.** Write a function called `nacho_reaction` that returns a string based on the type of nacho passed in as an argument. The conditions should correspond to the following: \n",
    "* `'cheese'` - 'Cheesy', \n",
    "* `'salsa'` - 'Spicy', \n",
    "* `'both'` - 'Wow', \n",
    "* `'neither'` - 'Meh'.\n",
    "\n",
    "<!--\n",
    "BEGIN QUESTION\n",
    "name: q3_4\n",
    "points: 1\n",
    "manual: false\n",
    "-->"
   ]
  },
  {
   "cell_type": "code",
   "execution_count": 56,
   "metadata": {
    "for_assignment_type": "student"
   },
   "outputs": [],
   "source": [
    "def nacho_reaction(nacho):\n",
    "    if ...:\n",
    "        return 'Cheesy'\n",
    "    # next condition should return 'Spicy'\n",
    "    ...\n",
    "    # next condition should return 'Wow'\n",
    "    ...\n",
    "    # next condition should return 'Meh'\n",
    "    ...\n",
    "\n",
    "spicy_nacho = nacho_reaction('salsa')\n",
    "spicy_nacho"
   ]
  },
  {
   "cell_type": "code",
   "execution_count": null,
   "metadata": {
    "deletable": false,
    "editable": false
   },
   "outputs": [],
   "source": [
    "grader.check(\"q3_4\")"
   ]
  },
  {
   "cell_type": "markdown",
   "metadata": {
    "deletable": false,
    "editable": false
   },
   "source": [
    "## 4. Using the `apply` method\n",
    "\n",
    "Let's review how to use `apply` method since the questions below will need it. \n",
    "\n",
    "Suppose we have a table with humidity (the concentration of water vapor in the air) with values between 0 and 1. We would like to add another column to the table with those values (which are proportions) converted to percentage string. \n",
    "\n",
    "\n",
    "**Question 4.0.** \n",
    "First, let's we define the following function `to_percentage_string` whose input is a float and output is a percentage string.\n",
    "\n",
    "<!--\n",
    "BEGIN QUESTION\n",
    "name: q4_0\n",
    "points: 1\n",
    "manual: false\n",
    "-->"
   ]
  },
  {
   "cell_type": "code",
   "execution_count": 61,
   "metadata": {},
   "outputs": [],
   "source": [
    "def to_percentage_string(proportion):\n",
    "    percentage = ...\n",
    "    \n",
    "    # You don't have to understand what is happening in the next line of code.\n",
    "    # This is the syntax for formatting a string so that the float is displayed \n",
    "    # up to two decimal places followed by a percentage sign.\n",
    "    percentage_string = \"{0:.2f}%\".format(percentage)\n",
    "    return percentage_string"
   ]
  },
  {
   "cell_type": "code",
   "execution_count": null,
   "metadata": {
    "deletable": false,
    "editable": false
   },
   "outputs": [],
   "source": [
    "grader.check(\"q4_0\")"
   ]
  },
  {
   "cell_type": "code",
   "execution_count": 64,
   "metadata": {},
   "outputs": [],
   "source": [
    "# RUN THIS: Try running this function with a sample input\n",
    "# to_percentage_string(...)"
   ]
  },
  {
   "cell_type": "markdown",
   "metadata": {
    "deletable": false,
    "editable": false
   },
   "source": [
    "**Question 4.1.** Let's create a new table with the sample humidity values.\n",
    "\n",
    "Add the following values to a table column called `\"proportion\"`: `0.2, 0.354, 0.1239, 0.56`.\n",
    "\n",
    "You should have one column with 4 rows corresponding to these humidity values.\n",
    "\n",
    "<!--\n",
    "BEGIN QUESTION\n",
    "name: q4_1\n",
    "points: 1\n",
    "manual: false\n",
    "-->"
   ]
  },
  {
   "cell_type": "code",
   "execution_count": 65,
   "metadata": {},
   "outputs": [],
   "source": [
    "humidity_table = ...\n",
    "humidity_table"
   ]
  },
  {
   "cell_type": "code",
   "execution_count": null,
   "metadata": {
    "deletable": false,
    "editable": false
   },
   "outputs": [],
   "source": [
    "grader.check(\"q4_1\")"
   ]
  },
  {
   "cell_type": "markdown",
   "metadata": {
    "deletable": false,
    "editable": false
   },
   "source": [
    "**Question 4.2.** \n",
    "Next, we use the `apply` method below to get an array where each element is the result of applying the function `to_percentage_string` to each element in the column `\"proportion\"`.\n",
    "\n",
    "<!--\n",
    "BEGIN QUESTION\n",
    "name: q4_2\n",
    "points: 1\n",
    "manual: false\n",
    "-->"
   ]
  },
  {
   "cell_type": "code",
   "execution_count": 68,
   "metadata": {},
   "outputs": [],
   "source": [
    "humidity_in_percentage_string = ...\n",
    "humidity_in_percentage_string"
   ]
  },
  {
   "cell_type": "code",
   "execution_count": null,
   "metadata": {
    "deletable": false,
    "editable": false
   },
   "outputs": [],
   "source": [
    "grader.check(\"q4_2\")"
   ]
  },
  {
   "cell_type": "markdown",
   "metadata": {
    "deletable": false,
    "editable": false
   },
   "source": [
    "**Question 4.3.** Lastly, we create a new table `humidity_table_with_percentage` by adding a new column called \"percentage\" to `humidity_table`.\n",
    "\n",
    "<!--\n",
    "BEGIN QUESTION\n",
    "name: q4_3\n",
    "points: 1\n",
    "manual: false\n",
    "-->"
   ]
  },
  {
   "cell_type": "code",
   "execution_count": 70,
   "metadata": {},
   "outputs": [],
   "source": [
    "humidity_table_with_percentage = ...\n",
    "humidity_table_with_percentage"
   ]
  },
  {
   "cell_type": "code",
   "execution_count": null,
   "metadata": {
    "deletable": false,
    "editable": false
   },
   "outputs": [],
   "source": [
    "grader.check(\"q4_3\")"
   ]
  },
  {
   "cell_type": "markdown",
   "metadata": {
    "deletable": false,
    "editable": false
   },
   "source": [
    "---\n",
    "\n",
    "Let's go back to our nachos and repeat the same steps that we applied above to add a column with the humidity values.\n",
    "\n",
    "**Question 4.4.** Add a column `'Reactions'` to the table `ten_nachos_reactions` that consists of reactions for each of the nachos in `ten_nachos`. \n",
    "\n",
    "*Hint:* Use the `apply` method.\n",
    "\n",
    "*Hint 1:* Remember, you already wrote a function that generates the nacho reactions.\n",
    "\n",
    "Just like you did above, you will need to run several steps to create the new array that you will add as a column to the table.\n",
    "\n",
    "<!--\n",
    "BEGIN QUESTION\n",
    "name: q4_4\n",
    "points: 2\n",
    "manual: false\n",
    "-->"
   ]
  },
  {
   "cell_type": "code",
   "execution_count": 74,
   "metadata": {
    "for_assignment_type": "student"
   },
   "outputs": [],
   "source": [
    "# Create a table that has a column 'Nachos' that stores the ten_nachos\n",
    "ten_nachos_table = ...\n",
    "\n",
    "# Get an array that results from applying the function that you defined earlier to the 'Nachos' column\n",
    "nacho_reaction_array = ...\n",
    "\n",
    "# Add a column `'Reactions'` to the table `ten_nachos_reactions` that consists of reactions for each of the nachos\n",
    "ten_nachos_reactions = ...\n",
    "ten_nachos_reactions"
   ]
  },
  {
   "cell_type": "code",
   "execution_count": null,
   "metadata": {
    "deletable": false,
    "editable": false
   },
   "outputs": [],
   "source": [
    "grader.check(\"q4_4\")"
   ]
  },
  {
   "cell_type": "markdown",
   "metadata": {
    "deletable": false,
    "editable": false
   },
   "source": [
    "**Question 4.5.** Use Python functions to find **the number** of `'Wow'` reactions for the nachos in `ten_nachos_reactions`.\n",
    "<!--\n",
    "BEGIN QUESTION\n",
    "name: q4_5\n",
    "points: 1\n",
    "manual: false\n",
    "-->"
   ]
  },
  {
   "cell_type": "code",
   "execution_count": 78,
   "metadata": {},
   "outputs": [],
   "source": [
    "number_wow_reactions = ...\n",
    "number_wow_reactions"
   ]
  },
  {
   "cell_type": "code",
   "execution_count": null,
   "metadata": {
    "deletable": false,
    "editable": false
   },
   "outputs": [],
   "source": [
    "grader.check(\"q4_5\")"
   ]
  },
  {
   "cell_type": "markdown",
   "metadata": {
    "deletable": false,
    "editable": false
   },
   "source": [
    "<!-- BEGIN QUESTION -->\n",
    "\n",
    "**Question 4.6.** Complete the function `both_or_neither`, which takes in a table of nachos with reactions (just like the one from Question 4.4) and returns `'Wow'` if there are more nachos with both cheese and salsa, or `'Meh'` if there are more nachos with neither. If there are an equal number of each, return `'Okay'`.\n",
    "\n",
    "*Hint:* `np.count_nonzero` might be helpful here. Alternatively, you can count the number of rows. You have the freedom to implement this function however you like as long as you return the correct value.\n",
    "\n",
    "<!--\n",
    "BEGIN QUESTION\n",
    "name: q4_6\n",
    "points: 5\n",
    "manual: true\n",
    "-->"
   ]
  },
  {
   "cell_type": "code",
   "execution_count": 80,
   "metadata": {
    "for_assignment_type": "student"
   },
   "outputs": [],
   "source": [
    "def both_or_neither(nacho_table):\n",
    "    # this is just a suggested structure for you to use\n",
    "    # you don't have to use it if you have a different approach\n",
    "    # it's OK to change this as long as you have the correct return value\n",
    "    reactions = ...\n",
    "    number_wow_reactions = ...\n",
    "    number_meh_reactions = ...\n",
    "    if ...:\n",
    "        return 'Wow'\n",
    "    # next condition should return 'Meh'\n",
    "    ...\n",
    "    # next condition should return 'Okay'\n",
    "    ..."
   ]
  },
  {
   "cell_type": "markdown",
   "metadata": {
    "deletable": false,
    "editable": false
   },
   "source": [
    "<!-- END QUESTION -->"
   ]
  },
  {
   "cell_type": "code",
   "execution_count": 81,
   "metadata": {},
   "outputs": [],
   "source": [
    "# See if your function works\n",
    "many_nachos = Table().with_column('Nachos', np.random.choice(nachos, 250))\n",
    "many_nachos = many_nachos.with_column('Reactions', many_nachos.apply(nacho_reaction, 'Nachos'))\n",
    "result = both_or_neither(many_nachos)\n",
    "result"
   ]
  },
  {
   "cell_type": "markdown",
   "metadata": {},
   "source": [
    "Congratulations, you completed Lab 6!\n",
    "\n",
    "To submit:\n",
    "- **save the notebook** first (**`Save and Checkpoint`** from the `File` menu)\n",
    "- go up to the `Kernel` menu and select `Restart & Clear Output` (make sure the notebook is saved first, because otherwise, you will lose all your work!). \n",
    "- go to `Cell -> Run All`. Carefully look through your notebook and verify that all computations execute correctly. You should see **no errors**; if there are any errors, make sure to correct them before you submit the notebook.\n",
    "- <span style=\"color:red\">The tests don't usually tell you that your answer is correct.</span> Take a look at the results that you are getting and verify that they match what is being asked and what you would expect to see.\n",
    "- <span style=\"color:red\">Run the cell below to generate the submission files.</span>"
   ]
  },
  {
   "cell_type": "markdown",
   "metadata": {
    "deletable": false,
    "editable": false
   },
   "source": [
    "---\n",
    "\n",
    "To double-check your work, the cell below will rerun all of the autograder tests."
   ]
  },
  {
   "cell_type": "code",
   "execution_count": null,
   "metadata": {
    "deletable": false,
    "editable": false
   },
   "outputs": [],
   "source": [
    "grader.check_all()"
   ]
  },
  {
   "cell_type": "markdown",
   "metadata": {
    "deletable": false,
    "editable": false
   },
   "source": [
    "## Submission\n",
    "\n",
    "Make sure you have run all cells in your notebook in order before running the cell below, so that all images/graphs appear in the output. The cell below will generate a zip file for you to submit. **Please save before exporting!**"
   ]
  },
  {
   "cell_type": "code",
   "execution_count": null,
   "metadata": {
    "deletable": false,
    "editable": false
   },
   "outputs": [],
   "source": [
    "# Save your notebook first, then run this cell to export your submission.\n",
    "grader.export(\"lab06_main.ipynb\")"
   ]
  },
  {
   "cell_type": "markdown",
   "metadata": {},
   "source": [
    " "
   ]
  }
 ],
 "metadata": {
  "kernelspec": {
   "display_name": "Python 3",
   "language": "python",
   "name": "python3"
  },
  "language_info": {
   "codemirror_mode": {
    "name": "ipython",
    "version": 3
   },
   "file_extension": ".py",
   "mimetype": "text/x-python",
   "name": "python",
   "nbconvert_exporter": "python",
   "pygments_lexer": "ipython3",
   "version": "3.8.0"
  }
 },
 "nbformat": 4,
 "nbformat_minor": 2
}
