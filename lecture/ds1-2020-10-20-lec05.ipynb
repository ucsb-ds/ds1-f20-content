{
 "cells": [
  {
   "cell_type": "markdown",
   "metadata": {},
   "source": [
    "# DS 1 (UCSB, Fall 2020): Lecture 05 - Tables"
   ]
  },
  {
   "cell_type": "code",
   "execution_count": 1,
   "metadata": {},
   "outputs": [],
   "source": [
    "from datascience import *\n",
    "import numpy as np"
   ]
  },
  {
   "cell_type": "markdown",
   "metadata": {},
   "source": [
    "**Flower petals and the Fibonacci Sequence**\n",
    "\n",
    "\"In the nature, these numbers occur in the number of flower petals: 3 – lily, iris, 5 – columbine, Delphinium, gilliflower, 8 – buttercup, Delphinium, 13 – garden mum, 21 – Astra, 34, 55, 89 – daisy. However, they also occur in the alignment of leaves, shoots and twigs, in the number of clockwise and counter-clockwise spirals on a pine cone and in the flower of sunflower, as well as in the number of spirals forming a hexagonal pineapple bark.\" (Source: [Flower petals and the Fibonacci Sequence?](https://vedanadosah.cvtisr.sk/en/flower-petals-and-the-fibonacci-sequence#:~:text=Each%20member%20of%20the%20sequence,%2C%2055%2C%2089%20–%20daisy.))"
   ]
  },
  {
   "cell_type": "code",
   "execution_count": 5,
   "metadata": {},
   "outputs": [],
   "source": [
    "# Create an empty table\n",
    "flowers = Table()"
   ]
  },
  {
   "cell_type": "code",
   "execution_count": null,
   "metadata": {},
   "outputs": [],
   "source": [
    "flowers"
   ]
  },
  {
   "cell_type": "code",
   "execution_count": null,
   "metadata": {},
   "outputs": [],
   "source": [
    "type(flowers)"
   ]
  },
  {
   "cell_type": "code",
   "execution_count": null,
   "metadata": {},
   "outputs": [],
   "source": [
    "print(\"Num of rows\", flowers.num_rows)\n",
    "print(\"Num of columns\", flowers.num_columns)"
   ]
  },
  {
   "cell_type": "code",
   "execution_count": null,
   "metadata": {},
   "outputs": [],
   "source": [
    "# 3 – lily, iris, \n",
    "# 5 – columbine, Delphinium, gilliflower, \n",
    "# 8 – buttercup, Delphinium, \n",
    "# 13 – garden mum, \n",
    "# 21 – Astra, \n",
    "# 34, 55, 89 – daisy"
   ]
  },
  {
   "cell_type": "code",
   "execution_count": 2,
   "metadata": {},
   "outputs": [
    {
     "data": {
      "text/html": [
       "<table border=\"1\" class=\"dataframe\">\n",
       "    <thead>\n",
       "        <tr>\n",
       "            <th>Number of petals</th>\n",
       "        </tr>\n",
       "    </thead>\n",
       "    <tbody>\n",
       "        <tr>\n",
       "            <td>3               </td>\n",
       "        </tr>\n",
       "        <tr>\n",
       "            <td>3               </td>\n",
       "        </tr>\n",
       "        <tr>\n",
       "            <td>5               </td>\n",
       "        </tr>\n",
       "        <tr>\n",
       "            <td>8               </td>\n",
       "        </tr>\n",
       "    </tbody>\n",
       "</table>"
      ],
      "text/plain": [
       "Number of petals\n",
       "3\n",
       "3\n",
       "5\n",
       "8"
      ]
     },
     "execution_count": 2,
     "metadata": {},
     "output_type": "execute_result"
    }
   ],
   "source": [
    "# Add a column to the table\n",
    "\n",
    "# Syntax: \n",
    "# Table().with_columns(‘Column name’, array_of_values)\n",
    "\n",
    "Table().with_columns(\"Number of petals\", make_array(3, 3, 5, 8))"
   ]
  },
  {
   "cell_type": "code",
   "execution_count": 6,
   "metadata": {},
   "outputs": [],
   "source": [
    "flowers = flowers.with_columns(\"Number of petals\", make_array(3, 3, 5, 8))"
   ]
  },
  {
   "cell_type": "code",
   "execution_count": 7,
   "metadata": {},
   "outputs": [
    {
     "data": {
      "text/html": [
       "<table border=\"1\" class=\"dataframe\">\n",
       "    <thead>\n",
       "        <tr>\n",
       "            <th>Number of petals</th>\n",
       "        </tr>\n",
       "    </thead>\n",
       "    <tbody>\n",
       "        <tr>\n",
       "            <td>3               </td>\n",
       "        </tr>\n",
       "        <tr>\n",
       "            <td>3               </td>\n",
       "        </tr>\n",
       "        <tr>\n",
       "            <td>5               </td>\n",
       "        </tr>\n",
       "        <tr>\n",
       "            <td>8               </td>\n",
       "        </tr>\n",
       "    </tbody>\n",
       "</table>"
      ],
      "text/plain": [
       "Number of petals\n",
       "3\n",
       "3\n",
       "5\n",
       "8"
      ]
     },
     "execution_count": 7,
     "metadata": {},
     "output_type": "execute_result"
    }
   ],
   "source": [
    "flowers"
   ]
  },
  {
   "cell_type": "code",
   "execution_count": 8,
   "metadata": {},
   "outputs": [],
   "source": [
    "flowers = flowers.with_columns(\"Flower\", make_array(\"lily\", \"iris\", \"columbine\", \"buttercup\"))"
   ]
  },
  {
   "cell_type": "code",
   "execution_count": 9,
   "metadata": {},
   "outputs": [
    {
     "data": {
      "text/html": [
       "<table border=\"1\" class=\"dataframe\">\n",
       "    <thead>\n",
       "        <tr>\n",
       "            <th>Number of petals</th> <th>Flower</th>\n",
       "        </tr>\n",
       "    </thead>\n",
       "    <tbody>\n",
       "        <tr>\n",
       "            <td>3               </td> <td>lily     </td>\n",
       "        </tr>\n",
       "        <tr>\n",
       "            <td>3               </td> <td>iris     </td>\n",
       "        </tr>\n",
       "        <tr>\n",
       "            <td>5               </td> <td>columbine</td>\n",
       "        </tr>\n",
       "        <tr>\n",
       "            <td>8               </td> <td>buttercup</td>\n",
       "        </tr>\n",
       "    </tbody>\n",
       "</table>"
      ],
      "text/plain": [
       "Number of petals | Flower\n",
       "3                | lily\n",
       "3                | iris\n",
       "5                | columbine\n",
       "8                | buttercup"
      ]
     },
     "execution_count": 9,
     "metadata": {},
     "output_type": "execute_result"
    }
   ],
   "source": [
    "flowers"
   ]
  },
  {
   "cell_type": "code",
   "execution_count": 10,
   "metadata": {},
   "outputs": [
    {
     "data": {
      "text/html": [
       "<table border=\"1\" class=\"dataframe\">\n",
       "    <thead>\n",
       "        <tr>\n",
       "            <th>Number of petals</th> <th>Flower</th>\n",
       "        </tr>\n",
       "    </thead>\n",
       "    <tbody>\n",
       "        <tr>\n",
       "            <td>3               </td> <td>lily     </td>\n",
       "        </tr>\n",
       "        <tr>\n",
       "            <td>3               </td> <td>iris     </td>\n",
       "        </tr>\n",
       "        <tr>\n",
       "            <td>5               </td> <td>columbine</td>\n",
       "        </tr>\n",
       "        <tr>\n",
       "            <td>8               </td> <td>buttercup</td>\n",
       "        </tr>\n",
       "    </tbody>\n",
       "</table>"
      ],
      "text/plain": [
       "Number of petals | Flower\n",
       "3                | lily\n",
       "3                | iris\n",
       "5                | columbine\n",
       "8                | buttercup"
      ]
     },
     "execution_count": 10,
     "metadata": {},
     "output_type": "execute_result"
    }
   ],
   "source": [
    "Table().with_columns(\"Number of petals\", make_array(3, 3, 5, 8), \n",
    "                     \"Flower\", make_array(\"lily\", \"iris\", \"columbine\", \"buttercup\"))"
   ]
  },
  {
   "cell_type": "code",
   "execution_count": 11,
   "metadata": {},
   "outputs": [
    {
     "data": {
      "text/html": [
       "<table border=\"1\" class=\"dataframe\">\n",
       "    <thead>\n",
       "        <tr>\n",
       "            <th>Number of petals</th> <th>Flower</th>\n",
       "        </tr>\n",
       "    </thead>\n",
       "    <tbody>\n",
       "        <tr>\n",
       "            <td>3               </td> <td>lily     </td>\n",
       "        </tr>\n",
       "        <tr>\n",
       "            <td>3               </td> <td>iris     </td>\n",
       "        </tr>\n",
       "        <tr>\n",
       "            <td>5               </td> <td>columbine</td>\n",
       "        </tr>\n",
       "        <tr>\n",
       "            <td>8               </td> <td>buttercup</td>\n",
       "        </tr>\n",
       "    </tbody>\n",
       "</table>"
      ],
      "text/plain": [
       "Number of petals | Flower\n",
       "3                | lily\n",
       "3                | iris\n",
       "5                | columbine\n",
       "8                | buttercup"
      ]
     },
     "execution_count": 11,
     "metadata": {},
     "output_type": "execute_result"
    }
   ],
   "source": [
    "flowers"
   ]
  },
  {
   "cell_type": "code",
   "execution_count": 16,
   "metadata": {},
   "outputs": [
    {
     "data": {
      "text/html": [
       "<table border=\"1\" class=\"dataframe\">\n",
       "    <thead>\n",
       "        <tr>\n",
       "            <th>Number of petals</th> <th>Flower</th>\n",
       "        </tr>\n",
       "    </thead>\n",
       "    <tbody>\n",
       "        <tr>\n",
       "            <td>3               </td> <td>lily     </td>\n",
       "        </tr>\n",
       "        <tr>\n",
       "            <td>5               </td> <td>columbine</td>\n",
       "        </tr>\n",
       "        <tr>\n",
       "            <td>8               </td> <td>buttercup</td>\n",
       "        </tr>\n",
       "    </tbody>\n",
       "</table>"
      ],
      "text/plain": [
       "Number of petals | Flower\n",
       "3                | lily\n",
       "5                | columbine\n",
       "8                | buttercup"
      ]
     },
     "execution_count": 16,
     "metadata": {},
     "output_type": "execute_result"
    }
   ],
   "source": [
    "flowers.take([0, 2, 3])"
   ]
  },
  {
   "cell_type": "code",
   "execution_count": 12,
   "metadata": {},
   "outputs": [
    {
     "name": "stdout",
     "output_type": "stream",
     "text": [
      "Number of petals | Flower\n",
      "3                | lily\n",
      "3                | iris\n",
      "5                | columbine\n",
      "8                | buttercup\n"
     ]
    }
   ],
   "source": [
    "print(flowers)"
   ]
  },
  {
   "cell_type": "code",
   "execution_count": null,
   "metadata": {},
   "outputs": [],
   "source": []
  },
  {
   "cell_type": "code",
   "execution_count": 18,
   "metadata": {},
   "outputs": [
    {
     "data": {
      "text/html": [
       "<table border=\"1\" class=\"dataframe\">\n",
       "    <thead>\n",
       "        <tr>\n",
       "            <th>Votes</th> <th>Rating</th> <th>Title</th> <th>Year</th> <th>Decade</th>\n",
       "        </tr>\n",
       "    </thead>\n",
       "    <tbody>\n",
       "        <tr>\n",
       "            <td>904453 </td> <td>8.3   </td> <td>Braveheart       </td> <td>1995</td> <td>1990  </td>\n",
       "        </tr>\n",
       "        <tr>\n",
       "            <td>1317304</td> <td>8.6   </td> <td>Se7en            </td> <td>1995</td> <td>1990  </td>\n",
       "        </tr>\n",
       "        <tr>\n",
       "            <td>201660 </td> <td>8.2   </td> <td>A Separation     </td> <td>2011</td> <td>2010  </td>\n",
       "        </tr>\n",
       "        <tr>\n",
       "            <td>91355  </td> <td>8.1   </td> <td>The Gold Rush    </td> <td>1925</td> <td>1920  </td>\n",
       "        </tr>\n",
       "        <tr>\n",
       "            <td>143426 </td> <td>8.1   </td> <td>Dial M for Murder</td> <td>1954</td> <td>1950  </td>\n",
       "        </tr>\n",
       "    </tbody>\n",
       "</table>\n",
       "<p>... (245 rows omitted)</p>"
      ],
      "text/plain": [
       "<IPython.core.display.HTML object>"
      ]
     },
     "metadata": {},
     "output_type": "display_data"
    }
   ],
   "source": [
    "imdb = Table().read_table(\"data/imdb_2019.csv\")\n",
    "imdb.show(5)"
   ]
  },
  {
   "cell_type": "code",
   "execution_count": 27,
   "metadata": {},
   "outputs": [
    {
     "data": {
      "text/plain": [
       "array([ 0,  2,  4,  6,  8, 10, 12, 14, 16, 18, 20, 22, 24, 26, 28, 30, 32,\n",
       "       34, 36, 38, 40, 42, 44, 46, 48, 50, 52, 54, 56, 58, 60, 62, 64, 66,\n",
       "       68, 70, 72, 74, 76, 78, 80, 82, 84, 86, 88, 90, 92, 94, 96, 98])"
      ]
     },
     "execution_count": 27,
     "metadata": {},
     "output_type": "execute_result"
    }
   ],
   "source": [
    "# Get the first 100 movies\n",
    "# indicies 0 - 99\n",
    "#np.arange(0, 100, 1)\n",
    "rows = np.arange(0, 100, 2)\n",
    "rows"
   ]
  },
  {
   "cell_type": "code",
   "execution_count": 28,
   "metadata": {},
   "outputs": [
    {
     "data": {
      "text/html": [
       "<table border=\"1\" class=\"dataframe\">\n",
       "    <thead>\n",
       "        <tr>\n",
       "            <th>Votes</th> <th>Rating</th> <th>Title</th> <th>Year</th> <th>Decade</th>\n",
       "        </tr>\n",
       "    </thead>\n",
       "    <tbody>\n",
       "        <tr>\n",
       "            <td>904453</td> <td>8.3   </td> <td>Braveheart       </td> <td>1995</td> <td>1990  </td>\n",
       "        </tr>\n",
       "        <tr>\n",
       "            <td>201660</td> <td>8.2   </td> <td>A Separation     </td> <td>2011</td> <td>2010  </td>\n",
       "        </tr>\n",
       "        <tr>\n",
       "            <td>143426</td> <td>8.1   </td> <td>Dial M for Murder</td> <td>1954</td> <td>1950  </td>\n",
       "        </tr>\n",
       "        <tr>\n",
       "            <td>248599</td> <td>8.3   </td> <td>The Hunt         </td> <td>2012</td> <td>2010  </td>\n",
       "        </tr>\n",
       "        <tr>\n",
       "            <td>692832</td> <td>8.5   </td> <td>The Intouchables </td> <td>2011</td> <td>2010  </td>\n",
       "        </tr>\n",
       "        <tr>\n",
       "            <td>369764</td> <td>8.3   </td> <td>Citizen Kane     </td> <td>1941</td> <td>1940  </td>\n",
       "        </tr>\n",
       "        <tr>\n",
       "            <td>301787</td> <td>8.4   </td> <td>Princess Mononoke</td> <td>1997</td> <td>1990  </td>\n",
       "        </tr>\n",
       "        <tr>\n",
       "            <td>129638</td> <td>8.3   </td> <td>Dangal           </td> <td>2016</td> <td>2010  </td>\n",
       "        </tr>\n",
       "        <tr>\n",
       "            <td>49290 </td> <td>8.1   </td> <td>The Wages of Fear</td> <td>1953</td> <td>1950  </td>\n",
       "        </tr>\n",
       "        <tr>\n",
       "            <td>289095</td> <td>8.1   </td> <td>The Deer Hunter  </td> <td>1978</td> <td>1970  </td>\n",
       "        </tr>\n",
       "    </tbody>\n",
       "</table>\n",
       "<p>... (40 rows omitted)</p>"
      ],
      "text/plain": [
       "Votes  | Rating | Title             | Year | Decade\n",
       "904453 | 8.3    | Braveheart        | 1995 | 1990\n",
       "201660 | 8.2    | A Separation      | 2011 | 2010\n",
       "143426 | 8.1    | Dial M for Murder | 1954 | 1950\n",
       "248599 | 8.3    | The Hunt          | 2012 | 2010\n",
       "692832 | 8.5    | The Intouchables  | 2011 | 2010\n",
       "369764 | 8.3    | Citizen Kane      | 1941 | 1940\n",
       "301787 | 8.4    | Princess Mononoke | 1997 | 1990\n",
       "129638 | 8.3    | Dangal            | 2016 | 2010\n",
       "49290  | 8.1    | The Wages of Fear | 1953 | 1950\n",
       "289095 | 8.1    | The Deer Hunter   | 1978 | 1970\n",
       "... (40 rows omitted)"
      ]
     },
     "execution_count": 28,
     "metadata": {},
     "output_type": "execute_result"
    }
   ],
   "source": [
    "first_100 = imdb.take(rows)\n",
    "first_100"
   ]
  },
  {
   "cell_type": "code",
   "execution_count": null,
   "metadata": {},
   "outputs": [],
   "source": [
    "rating = imdb.column(\"Rating\")\n",
    "rating"
   ]
  },
  {
   "cell_type": "code",
   "execution_count": null,
   "metadata": {},
   "outputs": [],
   "source": [
    "max(rating)"
   ]
  },
  {
   "cell_type": "code",
   "execution_count": null,
   "metadata": {},
   "outputs": [],
   "source": [
    "min(rating)"
   ]
  },
  {
   "cell_type": "code",
   "execution_count": null,
   "metadata": {},
   "outputs": [],
   "source": [
    "imdb.sort(\"Rating\", descending=True)"
   ]
  },
  {
   "cell_type": "code",
   "execution_count": null,
   "metadata": {},
   "outputs": [],
   "source": [
    "imdb.sort(\"Year\")"
   ]
  },
  {
   "cell_type": "code",
   "execution_count": null,
   "metadata": {},
   "outputs": [],
   "source": [
    "imdb.sort(\"Year\", descending=True)"
   ]
  },
  {
   "cell_type": "code",
   "execution_count": null,
   "metadata": {},
   "outputs": [],
   "source": [
    "imdb.where(\"Year\", 2019)"
   ]
  },
  {
   "cell_type": "code",
   "execution_count": null,
   "metadata": {},
   "outputs": [],
   "source": [
    "#imdb.sort(\"Votes\", descending=False)\n",
    "imdb.sort(\"Votes\")"
   ]
  },
  {
   "cell_type": "code",
   "execution_count": null,
   "metadata": {},
   "outputs": [],
   "source": [
    "imdb.sort(\"Votes\", descending=False)\n",
    "#imdb.sort(\"Votes\", ascending=True)"
   ]
  },
  {
   "cell_type": "code",
   "execution_count": null,
   "metadata": {},
   "outputs": [],
   "source": []
  }
 ],
 "metadata": {
  "kernelspec": {
   "display_name": "Python 3",
   "language": "python",
   "name": "python3"
  },
  "language_info": {
   "codemirror_mode": {
    "name": "ipython",
    "version": 3
   },
   "file_extension": ".py",
   "mimetype": "text/x-python",
   "name": "python",
   "nbconvert_exporter": "python",
   "pygments_lexer": "ipython3",
   "version": "3.7.8"
  },
  "toc": {
   "base_numbering": 1,
   "nav_menu": {},
   "number_sections": true,
   "sideBar": true,
   "skip_h1_title": false,
   "title_cell": "Table of Contents",
   "title_sidebar": "Contents",
   "toc_cell": false,
   "toc_position": {},
   "toc_section_display": true,
   "toc_window_display": false
  }
 },
 "nbformat": 4,
 "nbformat_minor": 4
}
